{
 "cells": [
  {
   "cell_type": "markdown",
   "metadata": {},
   "source": [
    "> **DO NOT EDIT IF INSIDE `computational_analysis_of_big_data_2018_spring` folder** "
   ]
  },
  {
   "cell_type": "markdown",
   "metadata": {},
   "source": [
    "# Assignment 1"
   ]
  },
  {
   "cell_type": "markdown",
   "metadata": {},
   "source": [
    "**Handin in Peergrade**: *Wednesday*, February 28, 2018, 23:59<br>\n",
    "**Peergrading deadline**: *Sunday*, March 4, 2018, 23:59<br>\n",
    "**Peergrading feedback deadline**: *Wednesday*, March 7, 2018, 23:59"
   ]
  },
  {
   "cell_type": "markdown",
   "metadata": {},
   "source": [
    "[**Questions**](https://github.com/ulfaslak/computational_analysis_of_big_data_2018_spring/issues) **/** [**Feedback**](http://ulfaslak.com/vent)"
   ]
  },
  {
   "cell_type": "markdown",
   "metadata": {},
   "source": [
    "## Problems"
   ]
  },
  {
   "cell_type": "markdown",
   "metadata": {},
   "source": [
    "### Week 1"
   ]
  },
  {
   "cell_type": "markdown",
   "metadata": {},
   "source": [
    ">**Ex. 1.2.2**: Working with JSON files\n",
    ">1. Use [`requests`](https://www.google.dk/search?q=python+requests+get+json&gws_rd=cr&ei=M5OdWaewD8Ti6AS54J24Bg), or another Python module, to store **[this data](https://www.reddit.com/r/gameofthrones/.json)** in a new variable `data`. Store it as a `dict` type object (you can print its type by running `type(data)`)."
   ]
  },
  {
   "cell_type": "code",
   "execution_count": 1,
   "metadata": {},
   "outputs": [
    {
     "name": "stdout",
     "output_type": "stream",
     "text": [
      "<type 'dict'>\n"
     ]
    }
   ],
   "source": [
    "import requests as rq # import requests to make requests to the web\n",
    "# Make request and convert it to json\n",
    "data = rq.get(\"https://www.reddit.com/r/gameofthrones/.json\",  headers = {'User-agent': 'JackMazanec'}).json()\n",
    "# Print type to validate that its a dict\n",
    "print type(data)"
   ]
  },
  {
   "cell_type": "markdown",
   "metadata": {},
   "source": [
    ">**Ex 1.2.5**: Write two `for` loops (or list comprehensions for extra street credits) which:\n",
    ">1. Counts the number of spoilers.\n",
    ">2. Only prints headlines that aren't spoilers."
   ]
  },
  {
   "cell_type": "code",
   "execution_count": 2,
   "metadata": {},
   "outputs": [
    {
     "name": "stdout",
     "output_type": "stream",
     "text": [
      "Number of spoilers: 13\n",
      "Headlines:\n",
      "[Mod Raven] 2018 /r/GameofThrones Survey\n",
      "[EVERYTHING] The Northern Squad\n",
      "[no spoilers] Lord Commander Mormont representing The Bank Of Scotland\n",
      "[NO SPOILERS] Seven Kingdoms couldn’t fill the hole she left behind (By Nicholas Charly)\n",
      "[NO SPOILERS]Is Medieval Europe as bad as Westeros or Essos?\n",
      "[Everything]GOT Season 7 In 3 Minutes\n",
      "[s7] This is my favorite scene in season 7. The queen is sound.\n",
      "[S1] The Hand of the King, an 91-minute edit of S01 (see video tab for viewing)\n",
      "[NO SPOILERS] Game of Thrones Papercut Characters\n",
      "[No Spoilers] Game of Thrones Oud cover\n",
      "[NO SPOILERS] The Dragon Prince and the Winter Rose Circa 281 AC by Raymond Waskita Terutama\n",
      "[NO SPOILERS] Our wedding cake figures turned white walker-ish after a week in the fridge (we wanted to keep and eat it after our honeymoon)\n",
      "[NO SPOILERS] My girlfriend sent me a Weirwood Valentine’s Day popup card\n",
      "[No Spoilers] Another day, more LEGO: White Walkers\n"
     ]
    }
   ],
   "source": [
    "## List comprehension that counts the number of spoilers\n",
    "spoilers = 0\n",
    "listtrue= [data['data']['children'][i]['data']['spoiler'] for i in range(len(data['data']['children'])) if data['data']['children'][i]['data']['spoiler'] == True]\n",
    "print \"Number of spoilers: \" + str(len(listtrue))\n",
    "## Only print headlines that aren't spoilers\n",
    "headlines= [data['data']['children'][i]['data']['title'] for i in range(len(data['data']['children'])) if data['data']['children'][i]['data']['spoiler'] == False]\n",
    "print \"Headlines:\"\n",
    "# loop through and print headlines\n",
    "for headline in headlines:\n",
    "    print headline"
   ]
  },
  {
   "cell_type": "markdown",
   "metadata": {},
   "source": [
    "### Week 2"
   ]
  },
  {
   "cell_type": "markdown",
   "metadata": {},
   "source": [
    ">**Ex 2.1.5**: Take another list `b = list(\"ofcourseistillloveyou\")` and\n",
    "1. get the `set` of characters that exist in both `a` and `b` (intersection),\n",
    "2. get the `set` of characters that exist in either `a` or `b` (union), and\n",
    "3. compute the [Jaccard similarity](https://en.wikipedia.org/wiki/Jaccard_index) between the distinct elements in `a` and `b`.\n",
    "\n",
    ">*Hint: use the `set` function to get a `set`-type object of distinct elements from a list*"
   ]
  },
  {
   "cell_type": "code",
   "execution_count": 3,
   "metadata": {},
   "outputs": [
    {
     "name": "stdout",
     "output_type": "stream",
     "text": [
      "Intersection: set(['c', 'e', 'i', 'o', 's', 'r', 'u', 't'])\n",
      "Union:        set(['a', 'c', 'e', 'd', 'f', 'i', 'h', 'j', 'l', 'o', 'n', 's', 'r', 'u', 't', 'v', 'y'])\n",
      "Jaccard sim:  0.470588235294\n"
     ]
    }
   ],
   "source": [
    "## Initialize lists\n",
    "a = list(\"justreadtheinstructions\")\n",
    "b = list(\"ofcourseistillloveyou\") \n",
    "## Convert lists into sets\n",
    "a_s = set(a)\n",
    "b_s = set(b)\n",
    "## Get the intersect\n",
    "intersect = a_s.intersection(b_s)\n",
    "## Get the union\n",
    "union = a_s.union(b_s)\n",
    "## Output values\n",
    "print \"Intersection: \" + str(intersect)\n",
    "print \"Union:        \" + str(union)\n",
    "print \"Jaccard sim:  \" + str((float(len(intersect))/float(len(union))))"
   ]
  },
  {
   "cell_type": "markdown",
   "metadata": {},
   "source": [
    ">**Ex. 2.2.4**: Looking at the scatter plots there appears to be some unevenness in the number of comments and upvotes that different posts receive.\n",
    "1. Plot the distributions of `x` for \"gameofthrones\" and \"news\" as histograms, side by side. My figure looks like [this](http://ulfaslak.com/computational_analysis_of_big_data/exer_figures/example_2.2c.png).\n",
    "2. What do these distributions say about how people comment on Reddit?"
   ]
  },
  {
   "cell_type": "code",
   "execution_count": 4,
   "metadata": {},
   "outputs": [
    {
     "name": "stdout",
     "output_type": "stream",
     "text": [
      "Getting Game of thrones data\n",
      "Retrieved 25 posts from page \n",
      "Retrieved 25 posts from page t3_807gx3\n",
      "Retrieved 25 posts from page t3_80a7lj\n",
      "Retrieved 25 posts from page t3_7zqohp\n",
      "Retrieved 25 posts from page t3_7zhnnt\n",
      "Retrieved 25 posts from page t3_7z2i4b\n",
      "Retrieved 25 posts from page t3_7ysokg\n",
      "Retrieved 25 posts from page t3_7yfs94\n",
      "Retrieved 25 posts from page t3_7y5vb7\n",
      "Retrieved 25 posts from page t3_7xx9vr\n",
      "Retrieved 25 posts from page t3_7xipzg\n",
      "Retrieved 25 posts from page t3_7xe3pf\n",
      "Retrieved 25 posts from page t3_7wsk6k\n",
      "Retrieved 25 posts from page t3_7wp64d\n",
      "Retrieved 25 posts from page t3_7wd033\n",
      "Retrieved 25 posts from page t3_7vwmpp\n",
      "Retrieved 25 posts from page t3_7vufc6\n",
      "Retrieved 25 posts from page t3_7vlnjj\n",
      "Retrieved 25 posts from page t3_7vfxuw\n",
      "Retrieved 25 posts from page t3_7v3sqh\n",
      "Getting news data\n",
      "Retrieved 25 posts from page \n",
      "Retrieved 25 posts from page t3_80djvu\n",
      "Retrieved 25 posts from page t3_80eva4\n",
      "Retrieved 25 posts from page t3_80k4fs\n",
      "Retrieved 25 posts from page t3_80hhpz\n",
      "Retrieved 25 posts from page t3_80ji59\n",
      "Retrieved 25 posts from page t3_804rca\n",
      "Retrieved 25 posts from page t3_808kq8\n",
      "Retrieved 25 posts from page t3_808x0y\n",
      "Retrieved 25 posts from page None\n",
      "Retrieved 25 posts from page t3_80djvu\n",
      "Retrieved 25 posts from page t3_80eva4\n",
      "Retrieved 25 posts from page t3_80k4fs\n",
      "Retrieved 25 posts from page t3_80hhpz\n",
      "Retrieved 25 posts from page t3_80ji59\n",
      "Retrieved 25 posts from page t3_804rca\n",
      "Retrieved 25 posts from page t3_808kq8\n",
      "Retrieved 25 posts from page t3_808x0y\n",
      "Retrieved 25 posts from page None\n",
      "Retrieved 25 posts from page t3_80djvu\n",
      "Done\n"
     ]
    }
   ],
   "source": [
    "## HIS FUNCTION TO GET DATA -- NOT PART OF ASSIGNMENT\n",
    "def get_x_y(subreddit, N, count=25): \n",
    "    # Function inside another function\n",
    "    # takes a subreddit, the number of posts to retrieve and the id of the last post fethced\n",
    "    # return the data in json form for the posts specifying those parameters\n",
    "    def _get_data(subreddit, count, after):\n",
    "        url = \"https://www.reddit.com/r/%s/.json?count=%d&after=%s\" % (subreddit, count, after) # url to make request to\n",
    "        data = rq.get(url, headers = {'User-agent': 'sneakybot'}).json() # make request to reddit\n",
    "        print \"Retrieved %d posts from page %s\" % (count, after)\n",
    "        return data\n",
    "    after = \"\" # start at the very beginning of the subreddit\n",
    "    x, y = [], [] # intialize lists for number of comments and scores\n",
    "    # make calls to _get_data function in chunks until there are a total of N posts\n",
    "    for n in range(N/count):\n",
    "        # Get the data\n",
    "        data = _get_data(subreddit, count, after)\n",
    "        # Put all the data from the json into x and y respectively\n",
    "        for d in data['data']['children']:\n",
    "            x.append(d['data']['num_comments'])\n",
    "            y.append(d['data']['score'])\n",
    "        # update after for the next request\n",
    "        after = data['data']['after']\n",
    "    # return x and y\n",
    "    return x, y\n",
    "## GET DATA\n",
    "print \"Getting Game of thrones data\"\n",
    "x,y = get_x_y(\"gameofthrones\", 500, count=25)\n",
    "print \"Getting news data\"\n",
    "x_news, y_news = get_x_y(\"news\", 500, count=25)\n",
    "print \"Done\""
   ]
  },
  {
   "cell_type": "code",
   "execution_count": 6,
   "metadata": {},
   "outputs": [
    {
     "data": {
      "image/png": "[encoded data removed]",
      "text/plain": [
       "<matplotlib.figure.Figure at 0x103517990>"
      ]
     },
     "metadata": {},
     "output_type": "display_data"
    }
   ],
   "source": [
    "# make sure plots are in jupyter\n",
    "%matplotlib inline \n",
    "from matplotlib import pyplot as plt # import pyplot\n",
    "plt.figure(figsize=(12,4)) # set figure size\n",
    "plt.subplot(1,2,1) # create subplot for GOT\n",
    "plt.hist(x, bins=6, color=\"red\") # create histogram\n",
    "# Set axis labels and title\n",
    "plt.xlabel(\"Comments\")\n",
    "plt.ylabel(\"Bin Count\")\n",
    "plt.title(\"Game of Thrones\")\n",
    "# create subplot for news\n",
    "plt.subplot(1,2,2)\n",
    "plt.hist(x_news, bins=6, color=\"blue\")\n",
    "plt.xlabel(\"Comments\")\n",
    "plt.ylabel(\"Bin Count\")\n",
    "plt.title(\"News\")\n",
    "# Display plots\n",
    "plt.show()"
   ]
  },
  {
   "cell_type": "markdown",
   "metadata": {},
   "source": [
    "What do these distributions say about how people comment on Reddit?\n",
    "These histograms tell us that overall, an overwhelming amount of posts have between 0 and 1000 comments. However, there are various small peaks of comments much larger than 1000, so it is clear that a small number of posts stand out as very popular and are receiving about 8 times (News) and 3 times(Game of Thrones) the amount of posts as those in these major bins."
   ]
  },
  {
   "cell_type": "markdown",
   "metadata": {},
   "source": [
    ">**Ex. 2.3.5**: Create a $5 \\times 5$ array `X` (a matrix) with random numbers and $5 \\times 1$ array `a` (a tall vector) with 5 random numbers.\n",
    "1. Compute the matrix-vector dot product between these two. Use `numpy`'s `dot` method. \n",
    "2. What happens if you just use `*` instead of `np.dot`? Explain."
   ]
  },
  {
   "cell_type": "code",
   "execution_count": 7,
   "metadata": {},
   "outputs": [
    {
     "name": "stdout",
     "output_type": "stream",
     "text": [
      "Numpy Dot:\n",
      "[[ 2.39300335]\n",
      " [ 2.43533836]\n",
      " [-2.72043499]\n",
      " [ 2.75023882]\n",
      " [ 0.47177465]]\n",
      "\n",
      "Simple Multiplication:\n",
      "[[-0.15528258  0.48014311 -1.0124411   0.35989401 -0.45265355]\n",
      " [ 0.44757336 -0.19736595 -0.69260384  1.26703506 -1.03807061]\n",
      " [ 0.13339684  0.03059634 -0.34781868  0.51414283 -0.15801708]\n",
      " [-0.73782795  0.20793511 -0.36335203  0.54723229 -1.53326373]\n",
      " [ 0.5608595  -0.17782646  0.4342949  -0.79864399 -0.00354452]]\n"
     ]
    }
   ],
   "source": [
    "import numpy as np\n",
    "## Create arrays\n",
    "rand_matrix = np.random.randn(5,5)\n",
    "rand_vector = np.random.randn(5,1)\n",
    "# Dot product\n",
    "rand_dot    = np.dot(rand_matrix, rand_vector)\n",
    "# Simple Multiplication\n",
    "rand_mult   = rand_matrix * rand_vector\n",
    "# Print results\n",
    "print \"Numpy Dot:\"\n",
    "print rand_dot\n",
    "print \"\\nSimple Multiplication:\"\n",
    "print rand_mult"
   ]
  },
  {
   "cell_type": "markdown",
   "metadata": {},
   "source": [
    "Using just the * multiplies each column in the matrix by its element wise complement in the vector. np.dot multiplies the rows in the matrix by the columns in the vector and sums them up creating a 5 x 1 vector."
   ]
  },
  {
   "cell_type": "markdown",
   "metadata": {},
   "source": [
    ">**Ex. 2.4.1**: Take a vector `a = [1, 3, 2, 5, 3, 1, 5, 1, 9000]`:\n",
    "1. Compute the mean of `a` using `numpy`.\n",
    "2. How is median defined? Compute the median of `a` using `numpy`.\n",
    "3. For `a`, why might it make sense to take the median more seriously than the mean?"
   ]
  },
  {
   "cell_type": "code",
   "execution_count": 8,
   "metadata": {},
   "outputs": [
    {
     "name": "stdout",
     "output_type": "stream",
     "text": [
      "Mean: 1002.3333333333334\n",
      "Median: 3.0\n"
     ]
    }
   ],
   "source": [
    "# Initialize variable\n",
    "a = [1, 3, 2, 5, 3, 1, 5, 1, 9000]\n",
    "# Compute mean\n",
    "mean = np.mean(a)\n",
    "print \"Mean: \" + str(mean)\n",
    "# Compute median\n",
    "median = np.median(a)\n",
    "print \"Median: \" + str(median)"
   ]
  },
  {
   "cell_type": "markdown",
   "metadata": {},
   "source": [
    "2.) The median is defined as the number that is located at the 50th quantile of the data, meaning that 50% of the data values are below the median.\n",
    "\n",
    "3.) Taking the median of list a is more suitable than taking the mean in this case because there is an outlier in the list. The number 9000 causes the mean to be inflated and the median to give a more accurate representation of the spread of the list."
   ]
  },
  {
   "cell_type": "markdown",
   "metadata": {},
   "source": [
    "### Week 3"
   ]
  },
  {
   "cell_type": "markdown",
   "metadata": {
    "ExecuteTime": {
     "end_time": "2017-08-23T14:01:10.834257Z",
     "start_time": "2017-08-23T14:01:10.826472Z"
    }
   },
   "source": [
    ">**Ex. 3.1.1**: From the Wikipedia API, get a list of all Marvel superheroes and another list of all Marvel supervillains. Use 'Category:Marvel_Comics_supervillains' and 'Category:Marvel_Comics_superheroes' to get the characters in each category.\n",
    "1. How many superheroes are there? How many supervillains?\n",
    "2. How many characters are both heroes and villains? What is the Jaccard similarity between the two groups?\n",
    "\n",
    ">*Hint: Google something like \"get list all pages in category wikimedia api\" if you're struggling with the query.*"
   ]
  },
  {
   "cell_type": "code",
   "execution_count": 9,
   "metadata": {},
   "outputs": [
    {
     "name": "stdout",
     "output_type": "stream",
     "text": [
      "Heroes: 978\n",
      "Villains: 1302\n",
      "Both heroes and villains: 173\n",
      "Jacquard Similarity: 0.0821072615093\n"
     ]
    }
   ],
   "source": [
    "conth = \"0\" # used to continue making requests and keep track of where you left off\n",
    "contv = \"0\" # used to continue making requests and keep track of where you left off\n",
    "# Instantiate lists\n",
    "heroes = list()\n",
    "villains = list()\n",
    "# Loop through each hero and get the data for the heroes\n",
    "while True:\n",
    "    # Set up URL\n",
    "    urlh = \"https://en.wikipedia.org/w/api.php?format=json&action=query&list=categorymembers&cmtitle=Category:Marvel_Comics_superheroes&cmlimit=500&prop=revisions&rvprop=content&cmcontinue=\"+ conth\n",
    "    datah = rq.get(urlh).json() # Make request\n",
    "    heroes.extend(datah['query']['categorymembers']) # add results to list\n",
    "    try:\n",
    "        conth = datah['continue']['cmcontinue'] # get the point where it left off\n",
    "    except:\n",
    "        break # break if its gotten everything\n",
    "# Do the same for villains        \n",
    "while True:\n",
    "    urlv = \"https://en.wikipedia.org/w/api.php?format=json&action=query&list=categorymembers&cmtitle=Category:Marvel_Comics_supervillains&cmlimit=500&prop=revisions&rvprop=content&cmcontinue=\"+ contv\n",
    "    datav = rq.get(urlv).json()\n",
    "    villains.extend(datav['query']['categorymembers'])\n",
    "    try:\n",
    "        contv = datav['continue']['cmcontinue']\n",
    "    except:\n",
    "        break\n",
    "# Get the heroes and villains and ambiguous's names from the data\n",
    "heroes = [x['title'] for x in heroes]\n",
    "villains = [x['title'] for x in villains]\n",
    "ambiguous = set(heroes).intersection(set(villains)) # members in both heroes and villains\n",
    "# Print results\n",
    "print \"Heroes: \" + str(len(heroes))\n",
    "print \"Villains: \" +str(len(villains))\n",
    "print \"Both heroes and villains: \" + str(len(ambiguous))\n",
    "# Print and compute jaccard similarity\n",
    "print \"Jacquard Similarity: \" + str(float(len(set(heroes).intersection(set(villains))))/float(len(set(heroes).union(set(villains)))))"
   ]
  },
  {
   "cell_type": "markdown",
   "metadata": {},
   "source": [
    ">**Ex. 3.2.1**: Extract the length of the page of each character, and plot the distribution of this variable for each class (heroes/villains/ambiguous). Can you say anything about the popularity of characters in the Marvel universe based on your visualization?\n",
    "\n",
    ">*Hint: The simplest thing is to make a probability mass function, i.e. a normalized histogram. Use `plt.hist` on a list of page lengths, with the argument `normed=True`. Other distribution plots are fine too, though.*"
   ]
  },
  {
   "cell_type": "code",
   "execution_count": 11,
   "metadata": {},
   "outputs": [
    {
     "name": "stdout",
     "output_type": "stream",
     "text": [
      "{'Darkdevil': 387, 'Uproar (comics)': 759, 'Hope Summers (comics)': 945, 'Firestar': 1760, 'Quasar (comics)': 760, 'Razorback (comics)': 327, 'Lei Kung (comics)': 411, 'Klara Prast': 469, 'Cipher (newuniversal)': 324, 'Magik (Illyana Rasputin)': 1269, 'Night Thrasher (Dwayne Taylor)': 401, 'Mockingbird (Marvel Comics)': 1424, 'Doorman (comics)': 439, 'Forge (comics)': 1425, 'J2 (comics)': 385, 'Gentle (comics)': 693, 'Husk (comics)': 750, 'Category:Luke Cage': 206, 'Jolt (comics)': 386, 'Human Torch': 1451, 'Meggan': 521, 'Hercules (Marvel Comics)': 1650, 'Shaman (comics)': 477, 'Bedlam (comics)': 301, 'Finesse (comics)': 358, 'Straw Man (comics)': 449, 'Venus Dee Milo': 686, 'Alpha (Marvel Comics)': 439, 'Nara (comics)': 255, 'Manikin (comics)': 282, 'Box (comics)': 429, 'Black Widow (Claire Voyant)': 852, 'Tag (comics)': 294, 'Hiroim': 593, \"Xi'an (comics)\": 310, 'Captain Ultra': 321, 'Geldoff': 564, 'Death Locket': 306, 'Siryn': 484, 'Fantomex': 894, 'Ladyhawk (comics)': 368, 'Match (Marvel Comics)': 305, 'Colossus (comics)': 1159, 'Kitty Pryde': 1477, 'Jessica Jones': 620, 'Manphibian': 498, 'White Tiger (Kasper Cole)': 474, 'Pixx': 208, 'Sharon Friedlander': 250, 'Magique': 642, 'Machine Man': 928, 'Thor Girl': 729, 'U.S. Agent': 1126, 'Wolverine (Ultimate Marvel character)': 953, 'Valkyrie (Marvel Comics)': 942, 'Archer (Marvel Comics)': 256, 'Gamora': 1138, 'Dazzler': 1513, 'Saint Elmo (comics)': 2742, 'Outlaw (comics)': 726, 'Valkyrie (Brunnhilde)': 942, 'Chamber (comics)': 890, 'Reptil': 438, 'Bob Diamond (comics)': 1043, \"Solomon O'Sullivan\": 277, 'Dominic Fortune': 442, 'Sophia \"Chat\" Sanduval': 788, 'Angel (Thomas Halloway)': 722, 'Madison Jeffries': 950, 'Shanna the She-Devil': 626, 'Karma (comics)': 1125, 'Spider-Man (Gerry Drew)': 1661, 'Ultra Girl': 759, 'Aminedi': 290, 'Blackthorn (comics)': 287, \"Eric O'Grady\": 1076, 'Morningstar (comics)': 299, 'Elsie-Dee': 488, 'Major Mapleleaf': 556, 'Wraith (Hector Rendoza)': 422, 'Golden Archer': 509, 'Motormouth (comics)': 327, 'Nightcrawler (comics)': 1243, 'Hummingbird (comics)': 587, 'Thunderer (Marvel Comics)': 702, 'Liz Allan': 1122, 'Paulie Provenzano': 284, 'Black Cat (comics)': 1243, 'Moon Knight': 1087, 'Hulk 2099': 724, 'Vibranium (character)': 686, 'Andromeda (Marvel Comics)': 559, 'Marrina Smallwood': 430, 'Mark Hazzard: Merc': 291, 'Ghoul (Ultraverse)': 426, 'Synch (comics)': 345, 'Cyclops (Marvel Comics)': 1766, 'Cerise (comics)': 301, 'Molly Hayes': 558, 'Living Lightning': 346, 'Thundra': 635, 'Freedom Ring': 307, 'Wasp (comics)': 1280, 'Union Jack (Joseph Chapman)': 555, 'Hellion': 760, 'Gabriel the Devil Hunter': 279, 'American Eagle (Marvel Comics)': 357, 'Elloe Kaifi': 594, 'Whizzer (Robert Frank)': 835, 'Giant-Man': 563, 'Penance (X-Men)': 338, 'Christian Walker': 312, 'Thunderbird (Neal Shaara)': 692, 'Maggott': 672, 'Agent (comics)': 2743, 'Adam X the X-Treme': 2743, 'Blue Marvel': 419, \"Captain Marvel (Khn'nr)\": 539, 'Category:Spider-Man': 402, 'Stepford Cuckoos': 626, 'Cerebra': 321, 'Hawkeye (Kate Bishop)': 625, 'Scaredycat': 282, 'Spitfire (comics)': 532, 'American Ace': 660, 'Golden Girl': 982, 'Wasabi-No-Ginger': 412, 'War Machine': 1469, 'Athena (Marvel Comics)': 536, 'Ghost Rider (Danny Ketch)': 631, 'Anole (comics)': 787, 'Marvel Boy': 696, 'Juston Seyfert': 312, 'Backhand (comics)': 248, 'Old Lace (comics)': 499, 'Tom Corsi': 262, 'Leech (comics)': 391, 'Arabian Knight (comics)': 395, 'Bill Foster (comics)': 570, 'Bob, Agent of Hydra': 464, 'Hogun': 664, 'Korg (comics)': 611, 'Rikki Barnes': 553, 'Felicity Hardy': 387, 'Revanche': 734, 'Longshot': 1004, 'Category:Black Panther': 232, 'Lila Cheney': 321, 'Izzy Cohen': 439, 'Angela (comics)': 1543, 'Aragorn (comics)': 561, 'Moonglow (comics)': 281, 'Kismet (Marvel Comics)': 515, 'Hornet (comics)': 471, 'Haywire (comics)': 282, 'Deadalus (comics)': 297, 'Astra (Imperial Guard)': 2743, 'Cipher (comics)': 665, 'David Sum': 2742, 'Daredevil (Marvel Comics character)': 1381, 'Radian (Morituri)': 300, 'Crane Mother': 363, 'Dirk Anger': 486, 'Bucky Barnes': 1730, 'Silhouette (comics)': 553, 'Ebon Samurai': 331, 'Iron Man (Ultimate Marvel character)': 798, 'Sunspot (comics)': 1194, 'Barnell Bohusk': 342, 'Anya Corazon': 1034, 'Sharon Ventura': 674, 'Danielle Moonstar': 983, 'Banshee (comics)': 763, 'Caiera': 561, 'Ant-Man (Scott Lang)': 667, 'Revolutionary (comics)': 384, 'Rockslide (comics)': 745, 'Mantis (Marvel Comics)': 1105, 'Miss America (Madeline Joyce)': 843, 'Elysius': 379, 'Circuit Breaker (Transformers)': 963, 'John Carik': 439, 'Sage (comics)': 767, 'Solarman': 550, 'Havok (comics)': 1280, 'Franklin Richards (comics)': 1190, 'Category:Punisher': 462, 'Spider-Woman (Mattie Franklin)': 983, 'Gorilla Girl': 455, 'Pulsar (Marvel Comics)': 638, 'Tom Thumb (comics)': 489, 'Albert (comics)': 2743, 'Super Rabbit': 281, 'Goliath (Marvel Comics)': 543, 'John Jameson (comics)': 1015, 'Jennifer Kale': 1129, 'Tabitha Smith': 1001, 'X-23': 1669, 'Hiro Takachiho': 407, 'Shamrock (comics)': 294, 'Jack Frost (Marvel Comics)': 763, 'Patriot (comics)': 483, 'Thunderbolt (Marvel Comics)': 325, 'Josiah X': 312, 'Gwenpool': 604, 'El Guapo (comics)': 288, 'Junkpile': 289, 'Skyhawk (comics)': 691, 'Deathcry': 313, 'Category:Ghost Rider': 228, 'Pixie (X-Men)': 972, 'Saint Anna (comics)': 2742, 'Melee (comics)': 1803, 'Prime (comics)': 326, 'Coal Tiger': 543, 'Black Jack Tarr': 380, 'Replica (comics)': 1274, 'List of Marvel Comics characters named Iron Man': 591, 'Toxyn': 278, 'Thunderstrike (Kevin Masterson)': 656, 'Dallas Riordan': 356, 'Gabriel (New-Gen)': 301, 'Adam Warlock': 1543, 'Nuklo': 299, 'Silencer (comics)': 298, 'Scarlet Witch': 1098, 'Blindfold (comics)': 805, 'Radius (comics)': 402, 'Alaris (comics)': 2743, 'Balder (comics)': 1297, 'Primal (comics)': 309, 'Delroy Garrett': 496, 'Kevin Sydney': 768, 'Master Mind Excello': 273, 'Corsair (comics)': 715, 'Prodigy (David Alleyne)': 970, 'Paladin (comics)': 386, 'Namorita': 713, 'Category:Black Widow (Marvel Comics)': 347, \"Freedom's Five\": 1086, 'Krugarr': 361, 'Shatterstar': 550, 'Hauptmann Deutschland': 272, 'White Tiger (Hector Ayala)': 463, 'Bucky': 1030, 'Caleb Hammer': 302, 'Machine Teen': 323, 'Shriker': 418, 'Blue Diamond (comics)': 684, 'Riri Williams': 728, 'Nemesis (Alpha Flight)': 426, 'Sequoia (comics)': 241, 'Killraven': 630, 'Wundarr the Aquarian': 885, 'Skin (Marvel Comics)': 327, 'White Tiger (Ava Ayala)': 411, 'Firelord (comics)': 1316, 'Hobgoblin (Imperial Guard)': 644, 'Armor (comics)': 741, 'Wallflower (comics)': 450, 'Nightwatch (comics)': 304, 'Talisman (Alpha Flight)': 438, \"Frankenstein's Monster (Marvel Comics)\": 835, 'Gambit (comics)': 1404, 'Gaia (Marvel Comics)': 292, 'Shang-Chi': 764, 'Mister Fantastic': 970, 'Doc Samson': 861, 'Cypher (Marvel Comics)': 1124, 'Justice (New Universe)': 378, 'Starbrand (newuniversal)': 341, 'Vance Astro': 601, 'Cable (comics)': 1715, 'Makkari (comics)': 839, 'Oracle (Marvel Comics)': 663, 'Starhawk (comics)': 803, 'White Tiger (Heroes for Hire)': 271, 'Firebird (Marvel Comics)': 381, 'Angel Dust (comics)': 293, 'Vibrania': 253, 'Devil-Slayer': 467, 'Feron': 276, 'Kiwi Black': 283, 'Mariko Yashida': 562, 'Nova (Sam Alexander)': 1710, 'Electron (comics)': 628, 'Minotaur (New-Gen)': 296, 'G-Type': 1229, 'Shooting Star (comics)': 332, 'Moondragon': 1072, 'Americop': 543, 'Jade Dragon': 284, 'Redwing (Marvel Comics)': 577, 'Henrietta Hunter': 499, 'Vegas (comics)': 686, 'Toro (comics)': 1046, 'Spinner (Marvel Comics)': 1013, 'Julie Power': 468, 'Crimson Curse': 369, 'Comet Man': 308, 'Category:Peggy Carter': 212, 'She-Hulk': 1489, 'Cammi': 292, 'Falcon (comics)': 816, 'Ronin (Marvel Comics)': 526, 'Victor Mancha': 491, 'Shard (comics)': 299, 'Erg (comics)': 294, 'Ms. Marvel (Kamala Khan)': 1065, 'Lionheart (comics)': 402, 'Category:Nick Fury': 438, 'Nico Minoru': 793, 'Anthem (comics)': 270, 'Satana (Marvel Comics)': 538, 'Red Wolf (comics)': 514, 'Conan (Marvel Comics)': 1109, 'Challenger (comics)': 281, 'Svarog (comics)': 2742, 'Killpower': 293, 'Helix (Marvel Comics)': 284, 'Nate Grey': 1375, 'Tonaja': 978, 'Crusaders (Marvel Comics)': 408, 'Geiger (comics)': 432, 'Black Knight (Sir Percy)': 304, 'Nightmask': 347, 'Thor (Marvel Comics)': 2944, 'Misty Knight': 681, 'Blue Ear': 272, 'Cannonball (comics)': 1062, 'Inertia (Marvel Comics)': 290, 'Captain Midlands': 320, 'Citizen V': 711, 'Lifeguard (comics)': 678, 'Guardsman (comics)': 704, 'Wraith (Zak-Del)': 422, 'Skullfire': 295, 'Ghost Rider (Johnny Blaze)': 841, 'Blackwulf': 429, 'Paydirt (Marvel Comics)': 1252, 'Tangerine (comics)': 283, 'Dakota North (comics)': 470, 'Jackpot (comics)': 434, 'Neutron (Marvel Comics)': 644, 'Auric (comics)': 2743, 'Kenji Uedo': 348, 'Forgotten One (comics)': 625, 'Katie Power': 433, 'Earth Lord': 691, 'Jubilee (comics)': 1129, 'Gertrude Yorkes': 468, 'Southpaw (comics)': 379, 'Psylocke': 1622, 'Guardian (Marvel Comics)': 473, 'Black Bolt': 936, 'G. W. Bridge': 782, 'Roboduck': 289, 'Master Izo': 459, 'Honey Lemon': 399, 'Battlestar (comics)': 569, 'Thunderstrike (Eric Masterson)': 597, 'Miss America (America Chavez)': 524, 'Nadia van Dyne': 452, 'Texas Twister': 586, 'Smuggler (comics)': 279, 'Bloke (comics)': 279, 'Blonde Phantom': 840, 'Sway (comics)': 640, 'Warlock (New Mutants)': 860, 'Bird-Brain': 407, 'Karolina Dean': 524, 'Spike (Marvel Comics)': 350, 'Goliath (Tom Foster)': 458, 'Garrison Kane': 434, 'Rocket Raccoon': 983, 'Thing (comics)': 986, 'Pepper Potts': 735, 'Mister Sensitive': 298, 'Omega the Unknown': 566, 'Hybrid (Scott Washington)': 658, 'Starlight (Marvel Comics)': 629, 'Toxin (comics)': 1092, 'Hyperion (comics)': 669, 'Iceman (Marvel Comics)': 1840, 'Iron Fist (comics)': 1063, 'Category:Spider-Woman': 315, 'Hepzibah (comics)': 1076, 'Starfox (comics)': 767, 'Hector (Marvel Comics)': 306, 'Marvel Boy (Robert Grayson)': 410, 'Spellbinder (Marvel Comics)': 2742, 'Spider-Man (Pavitr Prabhakar)': 629, 'Demolition Man (comics)': 626, 'Solo (Marvel Comics)': 443, 'Star Brand': 610, 'Deadpool': 2456, 'Batwing (Marvel Comics)': 655, 'Portal (comics)': 321, 'GoGo Tomago': 408, 'Shiver Man': 316, 'Wonder Man': 993, 'Nova (Richard Rider)': 1401, 'Iron Man': 2382, 'Ezekiel (comics)': 672, 'Ghost Rider 2099': 466, 'Armageddon (Marvel Comics)': 2743, 'Pulse (Augustus)': 294, 'Sif (comics)': 779, 'Karnak (comics)': 861, 'Ink (comics)': 696, 'Speed (comics)': 494, 'Oya (comics)': 310, 'Darwin (comics)': 695, 'Wulff (comics)': 525, 'Fixx': 268, 'Jeffrey Mace': 933, 'Ricochet (comics)': 452, 'Trance (comics)': 322, 'Ulysses Bloodstone': 359, 'Grace (Marvel Comics)': 583, 'Annex (comics)': 417, 'Hank Pym': 1447, 'Blade (comics)': 887, 'Starshine (comics)': 809, 'Dum Dum Dugan': 1338, 'Black Marvel': 713, 'Phone Ranger': 285, 'Squirrel Girl': 755, 'Smasher': 718, 'Al MacKenzie': 519, 'Sunder (comics)': 2742, 'Collective Man': 294, 'Charlotte Jones (comics)': 297, 'Transonic (comics)': 327, 'M (comics)': 853, 'Gazelle (New-Gen)': 289, 'Sabra (comics)': 349, 'Forbush Man': 327, 'Blaquesmith': 309, 'Hawkeye (comics)': 1440, 'Wildstreak': 292, 'Debrii': 465, 'Thunderclap (comics)': 295, 'Inferno (Dante Pertuz)': 499, 'Hindsight (comics)': 492, 'Vivisector': 322, 'Defensor (comics)': 284, 'Roma (comics)': 432, 'Union Jack (comics)': 525, 'Starr the Slayer': 286, 'Jack Power': 393, 'Genis-Vell': 479, 'Mister Majestic': 391, 'Bling!': 304, 'Microbe (comics)': 289, 'Die-Cut (comics)': 270, 'Hulk (comics)': 1836, 'Spider-Man': 2692, 'Skull the Slayer': 333, 'Brother Voodoo': 733, 'Arnold Roth (Captain America)': 1274, 'Cloud 9 (comics)': 465, 'Armory (comics)': 426, 'Fang (comics)': 690, 'Black Crow (comics)': 300, 'Shola Inkosi': 289, 'Snapdragon (Morituri)': 278, 'Lacuna (comics)': 276, 'Lockheed (comics)': 758, 'Category:Silver Surfer': 209, 'Captain Marvel (Marvel Comics)': 1119, 'Category:Daredevil (Marvel Comics)': 261, 'Blue Eagle (comics)': 342, 'Moon Girl (Marvel Comics)': 544, 'Sunpyre': 419, 'It! The Living Colossus': 313, 'Category:Marvel Comics superhero teams': 347, 'Luke Cage': 1159, 'Sun Girl (Marvel Comics)': 949, 'Captain Universe': 982, 'Karima Shapandar': 756, 'Werewolf by Night': 753, 'Petra (comics)': 678, 'Agent X (Marvel Comics)': 697, 'Xavin': 605, 'Big Bertha (comics)': 462, 'Category:Iron Man': 533, 'Telemetry (comics)': 453, 'Alex Power': 416, 'Indra (comics)': 342, 'Baymax': 409, 'Lyja': 717, 'Nikki (comics)': 697, 'Yondu': 612, 'Adept (comics)': 287, 'Hazmat (comics)': 381, 'Aurora (comics)': 1006, 'Vision (Marvel Comics)': 778, 'Quasar (Wendell Vaughn)': 1216, 'Mettle (comics)': 400, 'Steel Spider': 700, 'Mentor (Imperial Guard)': 661, 'Widget (Marvel Comics)': 305, 'Starbolt': 665, 'Dead Girl': 300, 'Darkstar (comics)': 488, 'Battering Ram (comics)': 2375, 'Witness (comics)': 359, 'Human Torch (android)': 988, 'White Tiger (comics)': 245, 'Phoenix (Guardians of the Galaxy)': 1229, 'Stellaris (comics)': 287, 'Dark Angel (Marvel Comics)': 311, 'Deathlok': 825, 'Rachel van Helsing': 686, 'Meteorite (comics)': 269, 'She-Hulk (Lyra)': 710, 'Chase Stein': 551, 'Bug (comics)': 841, 'Cloud (comics)': 289, 'Two-Gun Kid': 446, 'Doop (comics)': 373, 'Phobos (Marvel Comics)': 391, 'Black Widow (Natasha Romanova)': 2194, 'Human Top (David Mitchell)': 298, 'Goldballs': 290, 'Wicked (comics)': 999, 'Thornn': 329, 'Turbo (comics)': 332, 'Silver Surfer': 2539, 'Preview (comics)': 278, 'Doctor Strange': 1317, 'Wind Warrior': 691, 'Vagabond (comics)': 686, 'Risque (comics)': 319, 'Ghost Rider': 986, 'Graymalkin': 700, 'Thin Man (comics)': 686, 'List of incarnations of Captain America': 614, 'Category:Hulk (comics)': 241, 'Fredzilla': 418, 'Black Knight (Dane Whitman)': 576, 'Sersi': 550, 'Polaris (comics)': 1211, 'Spider-UK': 640, 'Martinex': 566, 'Colleen Wing': 644, 'Devil Dinosaur': 746, 'Power Princess': 419, 'San (comics)': 2742, 'Flex (comics)': 359, 'Slapstick (comics)': 501, 'Kate Waynesboro': 797, 'Black Panther (comics)': 1502, 'Komodo (comics)': 467, 'Nightside (comics)': 645, 'Spider-Man 2211': 1661, 'Sepulchre (comics)': 313, 'Surge (comics)': 835, 'Sentry (Robert Reynolds)': 1156, 'Spider-Girl': 1162, 'Tucker Ford': 290, 'Sleepwalker (comics)': 442, 'Spitfire (New Universe)': 351, 'Captain Britain': 1180, 'Lilandra Neramani': 972, 'Storm (Marvel Comics)': 1311, 'Scorpion (Carmilla Black)': 626, 'Eden Fesi': 308, 'Ikaris': 626, 'Isaiah Bradley': 691, 'Cullen Bloodstone': 303, 'Siege (John Kelly)': 440, 'Blink (comics)': 957, 'Kid Colt': 474, 'Cloak and Dagger (comics)': 1712, 'Puck (Marvel Comics)': 533, 'Wiccan (comics)': 923, 'Sasquatch (comics)': 498, 'Jocasta (comics)': 665, 'Songbird (comics)': 478, 'Cecilia Reyes': 701, 'Spider-Woman (Jessica Drew)': 1591, 'Stacy X': 912, \"Death's Head\": 1650, 'Enigma (Marvel Comics)': 273, \"Ch'od\": 656, 'Sean and Chris': 282, 'Wildcard (comics)': 266, 'Cassandra Lang': 603, 'Wind Dancer': 477, 'Titan (Imperial Guard)': 664, 'Jack of Hearts': 346, 'Michael Van Patrick': 530, 'Protector (Marvel Comics)': 279, 'Witchfire (Marvel Comics)': 411, 'Bloodhawk': 313, 'Vampire by Night': 453, 'Mary Jane Watson': 1023, 'Wysper': 303, 'Blue Shield (comics)': 295, 'Fandral': 686, 'Vyking': 286, 'Dust (comics)': 774, 'Vance Astrovik': 859, 'Cybermancer': 315, 'Ursa Major (comics)': 407, 'Stingray (comics)': 620, 'Patsy Walker': 759, 'Free Spirit (comics)': 526, 'Perun (comics)': 392, 'Yukon Jack': 380, 'Amadeus Cho': 903, 'Elixir (comics)': 877, 'Beast (comics)': 1564, 'Freakshow (comics)': 275, 'Aleta Ogord': 710, 'Velocidad (comics)': 307, 'Jazinda': 542, 'Windshear (comics)': 410, 'Buzz (comics)': 364, \"N'Kantu, the Living Mummy\": 669, 'Shuri (comics)': 518, 'Gauntlet (comics)': 452, 'Chris Bradley': 310, 'Dusk (comics)': 313, 'Hardball (comics)': 452, 'Vision (Timely Comics)': 714, 'Captain (comics)': 297, 'Frog-Man': 323, 'Hack (comics)': 1192, 'Lockjaw (comics)': 877, 'Blazing Skull': 847, 'Hit-Monkey': 601, 'Micromax': 311, 'Thena': 490, 'Ms. Marvel': 568, 'Heather Hudson (Exiles)': 292, 'Yo-Yo Rodriguez': 319, 'Beta Ray Bill': 1330, 'Ethan Edwards': 430, 'Ahura (comics)': 2375, 'Medusa (comics)': 1107, 'Sunfire (comics)': 1031, 'Emrys Killebrew': 523, 'American Dream (comics)': 411, 'Nancy Lu': 367, 'Rom (comics)': 908, 'Mister Immortal': 454, 'Sundragon': 2742, 'Kid Kaiju': 499, 'Wolf Cub (comics)': 662, 'Jarella': 896, 'Jack Flag': 743, 'Orrgo': 491, 'Elsa Bloodstone': 382, 'Power Man (Victor Alvarez)': 435, 'Abigail Brand': 377, 'Red Lotus (comics)': 276, 'Dmitri Bukharin': 614, 'El Aguila': 522, \"Spirit of '76 (Marvel Comics)\": 526, 'King Arthur (Marvel Comics)': 316, 'Flyer (New-Gen)': 287, 'Red Guardian': 624, 'Category:Captain America': 245, 'Spider-Woman (Gwen Stacy)': 1011, 'Domino (comics)': 1177, 'Jolen (comics)': 477, 'Wolverine (character)': 2859, 'Phyla-Vell': 996, 'Thunderbird (comics)': 781, 'Blue Blade': 254, 'Kofi Whitemane': 870, 'Jane Foster (comics)': 722, 'Hulkling': 750, 'Ardina': 247, 'Happy Sam Sawyer': 741, 'Ravage 2099': 468, 'Category:Thor (Marvel Comics)': 269, 'Raza Longknife': 654, 'John the Skrull': 400, 'Jimmy Woo': 640, 'Spyke': 536, 'Nahrees': 484, 'Tigra': 741, 'Nuke (Squadron Supreme)': 429, 'Gravity (comics)': 507, 'Groot': 964, 'Skaar (comics)': 720, 'Onyxx': 296, 'Blacklight (MC2)': 417, 'Bereet': 535, 'Stunt-Master (comics)': 627, 'Amanda Sefton': 530, 'Wild Thing (comics)': 377, 'Darkhawk': 798, 'Iron Patriot': 1169, 'Julia Carpenter': 1278, 'Grasshopper (comics)': 557, 'Silverclaw': 357, 'Captain America': 3853, 'Rintrah (comics)': 1274, 'Zombie (comics)': 819, 'Robert Maverick': 558, 'Junior Juniper': 968, 'Faiza Hussain': 325, 'Charlie-27': 598, 'Flash Thompson': 1204, 'Man-Thing': 1187, 'Red Hulk': 518, 'Zeitgeist (comics)': 293, 'Ruby Summers': 445, 'Mainframe (comics)': 757, 'Flatman (comics)': 477, 'Loa (comics)': 347, 'Nocturne (Talia Wagner)': 414, 'Outlaw Kid': 640, 'Silk (comics)': 1012, 'Kylun': 299, 'Mercury (Marvel Comics)': 759, 'Mayhem (comics)': 290, 'Slipstream (comics)': 660, 'Spider-Man (Miles Morales)': 1388, 'Terror Inc.': 374, 'Invisible Woman': 916, 'Human Top (Bruce Bravelle)': 256, 'Scatterbrain (Morituri)': 288, 'Prodigy (Ritchie Gilmore)': 485, 'Caiman (comics)': 625, 'Category:Wolverine (comics)': 232, 'Rage (comics)': 542, 'Daniel Drumm': 320, 'Star-Lord': 1042, 'She-Venom (Patricia Robertson)': 563, 'Venus (Marvel Comics)': 966, 'Punisher 2099': 739, 'Frank Drake (comics)': 976, 'Dinah Soar': 397, 'Diamond (comics)': 289, 'Rachel Summers': 1043, 'Spider-Man (Marvel Mangaverse)': 642, 'Gladiator (Kallark)': 928, 'Daisy Johnson': 806, 'Moon-Boy': 575, 'Caretaker (comics)': 435, 'La Lunatica': 299, 'Spider-Man Noir': 824, 'Wolfsbane (comics)': 701, \"T'Chaka\": 487, 'Breeze Barton': 687, 'Robbie Baldwin': 888, 'Rictor': 540, 'Monica Rambeau': 798, 'Crystal (comics)': 1096, 'Ghost Rider (Robbie Reyes)': 469, 'Skrullian Skymaster': 488, 'Iron Lad': 424, 'White Tiger (Angela del Toro)': 511, 'Striker (comics)': 2742, 'Shroud (comics)': 538, 'Toni Ho': 292, 'Category:Blade (comics)': 214, 'Pete Wisdom': 357, 'Coldblood': 318, 'Gateway (comics)': 351, 'Hrimhari': 551, 'Magma (comics)': 940, 'Carol Danvers': 1268, 'Topaz (Marvel Comics)': 615, 'Pinky Pinkerton': 1171, 'Drax the Destroyer': 1277, 'Red Nine': 449, 'Shear (comics)': 276, 'Lotus Shinchuko': 262, 'Destroyer (Marvel Comics)': 757, 'U-Go Girl': 759, 'Yukio (comics)': 537, 'Peregrine (comics)': 307, 'Talon (Marvel Comics)': 560, 'Jean Grey': 1381, 'Junta (comics)': 456, 'Lin Sun': 2742, 'Phantom Rider': 527, 'Donyell Taylor': 361, 'Digitek (comics)': 339, 'Korvus': 683, 'Nova (Frankie Raye)': 765, 'Alice Nugent': 407, 'Namora': 917, 'Gin Genie': 295, 'Timeslip (comics)': 291, 'Base (comics)': 277, 'Professor X': 1469, 'Merlyn (Marvel Comics)': 403, 'Black Rider (comics)': 368, 'Echo (Marvel Comics)': 698, 'Mahr Vehl': 814, 'Thea (New-Gen)': 301, 'Illusion (comics)': 512, 'Warren Worthington III': 1762, 'Volstagg': 763, 'Red Sonja': 1180, 'Fin (comics)': 706, 'Vindicator (comics)': 469}\n"
     ]
    }
   ],
   "source": [
    "import os # in order to loop through directories\n",
    "# Init dictionaries key: title value: length of page\n",
    "hero_length = dict()\n",
    "vill_length = dict()\n",
    "ambi_length = dict()\n",
    "# loop through the directory\n",
    "for file_name in os.listdir(\"../data/heroes\"):\n",
    "    with open(\"../data/heroes/\" + file_name) as f:\n",
    "        lines = 0\n",
    "        for line in f:\n",
    "            lines += 1\n",
    "    hero_length[file_name] = lines\n",
    "print hero_length\n",
    "for file_name in os.listdir(\"../data/villains\"):\n",
    "    with open(\"../data/villains/\" + file_name) as f:\n",
    "        lines = 0\n",
    "        for line in f:\n",
    "            lines += 1\n",
    "    vill_length[file_name] = lines\n",
    "\n",
    "for file_name in os.listdir(\"../data/ambiguous\"):\n",
    "    with open(\"../data/ambiguous/\" + file_name) as f:\n",
    "        lines = 0\n",
    "        for line in f:\n",
    "            lines += 1\n",
    "    ambi_length[file_name] = lines\n",
    "    \n"
   ]
  },
  {
   "cell_type": "markdown",
   "metadata": {},
   "source": [
    ">**Ex. 3.2.2**: Find the 10 characters from each class with the longest Wikipedia pages. Visualize their page lengths with bar charts. Comment on the result."
   ]
  },
  {
   "cell_type": "markdown",
   "metadata": {},
   "source": [
    ">**Ex. 3.2.3**: We are interested in knowing if there is a time-trend in the debut of characters.\n",
    "* Extract into three lists, debut years of heroes, villains, and ambiguous characters.\n",
    "* Do all pages have a debut year? Do some have multiple? How do you handle these inconsistencies?\n",
    "* For each class, visualize the amount of characters introduced over time. You choose how you want to visualize this data, but please comment on your choice. Also comment on the outcome of your analysis.\n",
    "\n",
    ">*Hint: The debut year is given on the debut row in the info table of a character's Wiki-page. There are many ways that you can extract this variable. You should try to have a go at it yourself, but if you are short on time, you can use this horribly ugly regular expression code:*\n",
    "\n",
    ">*`re.findall(r\"\\d{4}\\)\", re.findall(r\"debut.+?\\n\", markup_text)[0])[0][:-1]`*"
   ]
  },
  {
   "cell_type": "markdown",
   "metadata": {},
   "source": [
    "### Week 4"
   ]
  },
  {
   "cell_type": "markdown",
   "metadata": {},
   "source": [
    "*If you had trouble boulding a team alliance matrix, use mine. You can load it as a pandas.DataFrame, with pd.read_csv('data_team_alliances.csv', index_col=0). The rightmost column is the target array.*"
   ]
  },
  {
   "cell_type": "markdown",
   "metadata": {},
   "source": [
    "> **Ex. 4.2.1**: Train a classifier on all of your data and test its accuracy.\n",
    "\n",
    ">* If your team alliance matrix is `X_ta` and your target array is `y_ta` you can do this by instantiating a model like:\n",
    ">\n",
    "        from sklearn.naive_bayes import BernoulliNB\n",
    "        model = BernoulliNB()\n",
    "        model.fit(X_ta, y_ta)  # <--- This is the training/fitting/learning step\n",
    "        \n",
    "> The `BernoulliNB` is a version of the Naive Bayes classifier which associates certain features with labels and asks what the probability of a label for a data point is given its features. You are free to use any other classifier if you want. Popular ones are trees, random forests, support vector machines, feed forward neural networks, logistic regression, and the list goes on. With `sklearn`, they are just as easy to employ as the `BernoulliNB` classifier.\n",
    "\n",
    "\n",
    ">1. Test the accuracy of your model. You can use the `.predict` method on the `model` object to get predictions for a matrix of data points. Report the accuracy of your model on the same data that you trained the model on, alongside the baseline accuracy of a \"dumb\" model that only guesses for the majority class.\n",
    "\n",
    ">2. Report the precision, recall and F1 scores, with respect to the minority class (heroes). `sklearn` has implementations that you can use if you are short for time. Extra credit for doing it using only basic linear algebra operations with `numpy`, though."
   ]
  },
  {
   "cell_type": "markdown",
   "metadata": {},
   "source": [
    "> **Ex. 4.3.2**: Implement cross validation. The performance of a classifier is strongly dependent on the amount of data it is trained on. In Ex. 4.3.1 you train it on only half of the data and test it on the other half. If you rerun that code multiple times, with random 50/50 partitions, you are gonna see a lot of uncertainty in performance. Cross validation solves this problem by training on a larger subset of the data and testing on a smaller one, and taking the average performance over K-folds of this process.\n",
    "1. Implement cross validation over $K=10$ folds. For each fold you must record the training and test accuracies. In the end, visualize the distributions of test- and training accuracy as histograms in the same plot. It's important that you comment on the result."
   ]
  },
  {
   "cell_type": "markdown",
   "metadata": {},
   "source": [
    ">**Ex. 4.4.1**: Let's put our classifier to use!\n",
    "* Retrain your model on all of your data.\n",
    "* Create a team alliance representation of the ambiguous characters\n",
    "* Use the model the estimate the probability that each character is a villain (let's call this *villainness*). You can use the `.predict_proba` method on the model to get probability estimates rather than class assignments.\n",
    "* **Visualize the \"heroness\" distribution for all ambiguous characters**. Comment on the result."
   ]
  }
 ],
 "metadata": {
  "kernelspec": {
   "display_name": "Python 2",
   "language": "python",
   "name": "python2"
  },
  "language_info": {
   "codemirror_mode": {
    "name": "ipython",
    "version": 2
   },
   "file_extension": ".py",
   "mimetype": "text/x-python",
   "name": "python",
   "nbconvert_exporter": "python",
   "pygments_lexer": "ipython2",
   "version": "2.7.10"
  }
 },
 "nbformat": 4,
 "nbformat_minor": 2
}
