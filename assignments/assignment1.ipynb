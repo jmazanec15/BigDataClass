{
 "cells": [
  {
   "cell_type": "markdown",
   "metadata": {},
   "source": [
    "> **DO NOT EDIT IF INSIDE `computational_analysis_of_big_data_2018_spring` folder** "
   ]
  },
  {
   "cell_type": "markdown",
   "metadata": {},
   "source": [
    "# Assignment 1"
   ]
  },
  {
   "cell_type": "markdown",
   "metadata": {},
   "source": [
    "**Handin in Peergrade**: *Wednesday*, February 28, 2018, 23:59<br>\n",
    "**Peergrading deadline**: *Sunday*, March 4, 2018, 23:59<br>\n",
    "**Peergrading feedback deadline**: *Wednesday*, March 7, 2018, 23:59"
   ]
  },
  {
   "cell_type": "markdown",
   "metadata": {},
   "source": [
    "[**Questions**](https://github.com/ulfaslak/computational_analysis_of_big_data_2018_spring/issues) **/** [**Feedback**](http://ulfaslak.com/vent)"
   ]
  },
  {
   "cell_type": "markdown",
   "metadata": {},
   "source": [
    "## Problems"
   ]
  },
  {
   "cell_type": "markdown",
   "metadata": {},
   "source": [
    "### Week 1"
   ]
  },
  {
   "cell_type": "markdown",
   "metadata": {},
   "source": [
    ">**Ex. 1.2.2**: Working with JSON files\n",
    ">1. Use [`requests`](https://www.google.dk/search?q=python+requests+get+json&gws_rd=cr&ei=M5OdWaewD8Ti6AS54J24Bg), or another Python module, to store **[this data](https://www.reddit.com/r/gameofthrones/.json)** in a new variable `data`. Store it as a `dict` type object (you can print its type by running `type(data)`)."
   ]
  },
  {
   "cell_type": "code",
   "execution_count": 1,
   "metadata": {},
   "outputs": [
    {
     "name": "stdout",
     "output_type": "stream",
     "text": [
      "<type 'dict'>\n"
     ]
    }
   ],
   "source": [
    "import requests as rq # import requests to make requests to the web\n",
    "# Make request and convert it to json\n",
    "data = rq.get(\"https://www.reddit.com/r/gameofthrones/.json\",  headers = {'User-agent': 'JackMazanec'}).json()\n",
    "# Print type to validate that its a dict\n",
    "print type(data)"
   ]
  },
  {
   "cell_type": "markdown",
   "metadata": {},
   "source": [
    ">**Ex 1.2.5**: Write two `for` loops (or list comprehensions for extra street credits) which:\n",
    ">1. Counts the number of spoilers.\n",
    ">2. Only prints headlines that aren't spoilers."
   ]
  },
  {
   "cell_type": "code",
   "execution_count": 2,
   "metadata": {},
   "outputs": [
    {
     "name": "stdout",
     "output_type": "stream",
     "text": [
      "Number of spoilers: 14\n",
      "Headlines:\n",
      "[Mod Raven] 2018 /r/GameofThrones Survey\n",
      "[EVERYTHING] The Northern Squad\n",
      "[EVERYTHING] AltShiftX - What's the three eyed raven's secret plan?\n",
      "[Everything]GOT Season 7 In 3 Minutes\n",
      "[NO SPOILERS] I put together a guitar and drum video I did of the theme song.\n",
      "[NO SPOILERS]Is Medieval Europe as bad as Westeros or Essos?\n",
      "[NO SPOILERS] Seven Kingdoms couldn’t fill the hole she left behind (By Nicholas Charly)\n",
      "[NO SPOILERS] Friend got me new shirt for birthday\n",
      "[No spoilers] (urgent) What image/object should Hodor sign?\n",
      "[s7] This is my favorite scene in season 7. The queen is sound.\n",
      "[S1] The Hand of the King, an 91-minute edit of S01 (see video tab for viewing)\n",
      "[NO SPOILERS] Game of Thrones Papercut Characters\n",
      "[No Spoilers] Game of Thrones Oud cover\n"
     ]
    }
   ],
   "source": [
    "## List comprehension that counts the number of spoilers\n",
    "spoilers = 0\n",
    "listtrue= [data['data']['children'][i]['data']['spoiler'] for i in range(len(data['data']['children'])) if data['data']['children'][i]['data']['spoiler'] == True]\n",
    "print \"Number of spoilers: \" + str(len(listtrue))\n",
    "## Only print headlines that aren't spoilers\n",
    "headlines= [data['data']['children'][i]['data']['title'] for i in range(len(data['data']['children'])) if data['data']['children'][i]['data']['spoiler'] == False]\n",
    "print \"Headlines:\"\n",
    "# loop through and print headlines\n",
    "for headline in headlines:\n",
    "    print headline"
   ]
  },
  {
   "cell_type": "markdown",
   "metadata": {},
   "source": [
    "### Week 2"
   ]
  },
  {
   "cell_type": "markdown",
   "metadata": {},
   "source": [
    ">**Ex 2.1.5**: Take another list `b = list(\"ofcourseistillloveyou\")` and\n",
    "1. get the `set` of characters that exist in both `a` and `b` (intersection),\n",
    "2. get the `set` of characters that exist in either `a` or `b` (union), and\n",
    "3. compute the [Jaccard similarity](https://en.wikipedia.org/wiki/Jaccard_index) between the distinct elements in `a` and `b`.\n",
    "\n",
    ">*Hint: use the `set` function to get a `set`-type object of distinct elements from a list*"
   ]
  },
  {
   "cell_type": "code",
   "execution_count": 3,
   "metadata": {},
   "outputs": [
    {
     "name": "stdout",
     "output_type": "stream",
     "text": [
      "Intersection: set(['c', 'e', 'i', 'o', 's', 'r', 'u', 't'])\n",
      "Union:        set(['a', 'c', 'e', 'd', 'f', 'i', 'h', 'j', 'l', 'o', 'n', 's', 'r', 'u', 't', 'v', 'y'])\n",
      "Jaccard sim:  0.470588235294\n"
     ]
    }
   ],
   "source": [
    "## Initialize lists\n",
    "a = list(\"justreadtheinstructions\")\n",
    "b = list(\"ofcourseistillloveyou\") \n",
    "## Convert lists into sets\n",
    "a_s = set(a)\n",
    "b_s = set(b)\n",
    "## Get the intersect\n",
    "intersect = a_s.intersection(b_s)\n",
    "## Get the union\n",
    "union = a_s.union(b_s)\n",
    "## Output values\n",
    "print \"Intersection: \" + str(intersect)\n",
    "print \"Union:        \" + str(union)\n",
    "print \"Jaccard sim:  \" + str((float(len(intersect))/float(len(union))))"
   ]
  },
  {
   "cell_type": "markdown",
   "metadata": {},
   "source": [
    ">**Ex. 2.2.4**: Looking at the scatter plots there appears to be some unevenness in the number of comments and upvotes that different posts receive.\n",
    "1. Plot the distributions of `x` for \"gameofthrones\" and \"news\" as histograms, side by side. My figure looks like [this](http://ulfaslak.com/computational_analysis_of_big_data/exer_figures/example_2.2c.png).\n",
    "2. What do these distributions say about how people comment on Reddit?"
   ]
  },
  {
   "cell_type": "code",
   "execution_count": 4,
   "metadata": {},
   "outputs": [
    {
     "name": "stdout",
     "output_type": "stream",
     "text": [
      "Getting Game of thrones data\n",
      "Retrieved 25 posts from page \n",
      "Retrieved 25 posts from page t3_80dxr5\n",
      "Retrieved 25 posts from page t3_7zsbw3\n",
      "Retrieved 25 posts from page t3_800qrn\n",
      "Retrieved 25 posts from page t3_7zlt0r\n",
      "Retrieved 25 posts from page t3_7z6zns\n",
      "Retrieved 25 posts from page t3_7yre23\n",
      "Retrieved 25 posts from page t3_7ydx35\n",
      "Retrieved 25 posts from page t3_7y95yh\n",
      "Retrieved 25 posts from page t3_7xzzwf\n",
      "Retrieved 25 posts from page t3_7xpv99\n",
      "Retrieved 25 posts from page t3_7xlbb1\n",
      "Retrieved 25 posts from page t3_7x0e3u\n",
      "Retrieved 25 posts from page t3_7wndw3\n",
      "Retrieved 25 posts from page t3_7wfzu0\n",
      "Retrieved 25 posts from page t3_7wd8hn\n",
      "Retrieved 25 posts from page t3_7vot0i\n",
      "Retrieved 25 posts from page t3_7vt9vp\n",
      "Retrieved 25 posts from page t3_7ve8fy\n",
      "Retrieved 25 posts from page t3_7v802x\n",
      "Getting news data\n",
      "Retrieved 25 posts from page \n",
      "Retrieved 25 posts from page t3_80n8tm\n",
      "Retrieved 25 posts from page t3_80nwfd\n",
      "Retrieved 25 posts from page t3_80oqzn\n",
      "Retrieved 25 posts from page t3_80hsb9\n",
      "Retrieved 25 posts from page t3_80adct\n",
      "Retrieved 25 posts from page t3_80fcgf\n",
      "Retrieved 25 posts from page t3_80ahb4\n",
      "Retrieved 25 posts from page t3_80a7vh\n",
      "Retrieved 25 posts from page t3_80667c\n",
      "Retrieved 25 posts from page t3_7xcn1n\n",
      "Retrieved 25 posts from page None\n",
      "Retrieved 25 posts from page t3_80n8tm\n",
      "Retrieved 25 posts from page t3_80nwfd\n",
      "Retrieved 25 posts from page t3_80oqzn\n",
      "Retrieved 25 posts from page t3_80hsb9\n",
      "Retrieved 25 posts from page t3_80adct\n",
      "Retrieved 25 posts from page t3_80fcgf\n",
      "Retrieved 25 posts from page t3_80ahb4\n",
      "Retrieved 25 posts from page t3_80a7vh\n",
      "Done\n"
     ]
    }
   ],
   "source": [
    "## HIS FUNCTION TO GET DATA -- NOT PART OF ASSIGNMENT\n",
    "def get_x_y(subreddit, N, count=25): \n",
    "    # Function inside another function\n",
    "    # takes a subreddit, the number of posts to retrieve and the id of the last post fethced\n",
    "    # return the data in json form for the posts specifying those parameters\n",
    "    def _get_data(subreddit, count, after):\n",
    "        url = \"https://www.reddit.com/r/%s/.json?count=%d&after=%s\" % (subreddit, count, after) # url to make request to\n",
    "        data = rq.get(url, headers = {'User-agent': 'sneakybot'}).json() # make request to reddit\n",
    "        print \"Retrieved %d posts from page %s\" % (count, after)\n",
    "        return data\n",
    "    after = \"\" # start at the very beginning of the subreddit\n",
    "    x, y = [], [] # intialize lists for number of comments and scores\n",
    "    # make calls to _get_data function in chunks until there are a total of N posts\n",
    "    for n in range(N/count):\n",
    "        # Get the data\n",
    "        data = _get_data(subreddit, count, after)\n",
    "        # Put all the data from the json into x and y respectively\n",
    "        for d in data['data']['children']:\n",
    "            x.append(d['data']['num_comments'])\n",
    "            y.append(d['data']['score'])\n",
    "        # update after for the next request\n",
    "        after = data['data']['after']\n",
    "    # return x and y\n",
    "    return x, y\n",
    "## GET DATA\n",
    "print \"Getting Game of thrones data\"\n",
    "x,y = get_x_y(\"gameofthrones\", 500, count=25)\n",
    "print \"Getting news data\"\n",
    "x_news, y_news = get_x_y(\"news\", 500, count=25)\n",
    "print \"Done\""
   ]
  },
  {
   "cell_type": "code",
   "execution_count": 6,
   "metadata": {},
   "outputs": [
    {
     "data": {
      "image/png": "[encoded data removed]",
      "text/plain": [
       "<matplotlib.figure.Figure at 0x110fda950>"
      ]
     },
     "metadata": {},
     "output_type": "display_data"
    }
   ],
   "source": [
    "# make sure plots are in jupyter\n",
    "%matplotlib inline \n",
    "from matplotlib import pyplot as plt # import pyplot\n",
    "plt.figure(figsize=(12,4)) # set figure size\n",
    "plt.subplot(1,2,1) # create subplot for GOT\n",
    "plt.hist(x, bins=6, color=\"red\") # create histogram\n",
    "# Set axis labels and title\n",
    "plt.xlabel(\"Comments\")\n",
    "plt.ylabel(\"Bin Count\")\n",
    "plt.title(\"Game of Thrones\")\n",
    "# create subplot for news\n",
    "plt.subplot(1,2,2)\n",
    "plt.hist(x_news, bins=6, color=\"blue\")\n",
    "plt.xlabel(\"Comments\")\n",
    "plt.ylabel(\"Bin Count\")\n",
    "plt.title(\"News\")\n",
    "# Display plots\n",
    "plt.show()"
   ]
  },
  {
   "cell_type": "markdown",
   "metadata": {},
   "source": [
    "What do these distributions say about how people comment on Reddit?\n",
    "These histograms tell us that overall, an overwhelming amount of posts have between 0 and 1000 comments. However, there are various small peaks of comments much larger than 1000, so it is clear that a small number of posts stand out as very popular and are receiving about 8 times (News) and 3 times(Game of Thrones) the amount of posts as those in these major bins."
   ]
  },
  {
   "cell_type": "markdown",
   "metadata": {},
   "source": [
    ">**Ex. 2.3.5**: Create a $5 \\times 5$ array `X` (a matrix) with random numbers and $5 \\times 1$ array `a` (a tall vector) with 5 random numbers.\n",
    "1. Compute the matrix-vector dot product between these two. Use `numpy`'s `dot` method. \n",
    "2. What happens if you just use `*` instead of `np.dot`? Explain."
   ]
  },
  {
   "cell_type": "code",
   "execution_count": 7,
   "metadata": {},
   "outputs": [
    {
     "name": "stdout",
     "output_type": "stream",
     "text": [
      "Numpy Dot:\n",
      "[[-5.50641561]\n",
      " [ 0.88708234]\n",
      " [ 2.04092638]\n",
      " [-2.76455709]\n",
      " [-2.12959806]]\n",
      "\n",
      "Simple Multiplication:\n",
      "[[-7.27966710e-04 -2.62310308e-04  2.26519452e-02 -1.07083693e-02\n",
      "   2.87058912e-02]\n",
      " [-7.71010689e-02 -1.69967878e-01 -8.62189613e-02 -1.53183894e-01\n",
      "   6.68161495e-02]\n",
      " [-1.29027409e+00 -9.20888833e-01  1.41153251e-01 -2.11815856e+00\n",
      "   7.45377697e-01]\n",
      " [-1.88612939e+00 -1.14112964e+00  1.32394831e+00  2.76165402e-01\n",
      "   1.55681710e+00]\n",
      " [ 5.56607174e-01 -6.96273695e-01 -1.03398260e+00  1.76446610e-02\n",
      "  -2.37809637e-01]]\n"
     ]
    }
   ],
   "source": [
    "import numpy as np\n",
    "## Create arrays\n",
    "rand_matrix = np.random.randn(5,5)\n",
    "rand_vector = np.random.randn(5,1)\n",
    "# Dot product\n",
    "rand_dot    = np.dot(rand_matrix, rand_vector)\n",
    "# Simple Multiplication\n",
    "rand_mult   = rand_matrix * rand_vector\n",
    "# Print results\n",
    "print \"Numpy Dot:\"\n",
    "print rand_dot\n",
    "print \"\\nSimple Multiplication:\"\n",
    "print rand_mult"
   ]
  },
  {
   "cell_type": "markdown",
   "metadata": {},
   "source": [
    "Using just the * multiplies each column in the matrix by its element wise complement in the vector. np.dot multiplies the rows in the matrix by the columns in the vector and sums them up creating a 5 x 1 vector."
   ]
  },
  {
   "cell_type": "markdown",
   "metadata": {},
   "source": [
    ">**Ex. 2.4.1**: Take a vector `a = [1, 3, 2, 5, 3, 1, 5, 1, 9000]`:\n",
    "1. Compute the mean of `a` using `numpy`.\n",
    "2. How is median defined? Compute the median of `a` using `numpy`.\n",
    "3. For `a`, why might it make sense to take the median more seriously than the mean?"
   ]
  },
  {
   "cell_type": "code",
   "execution_count": 8,
   "metadata": {},
   "outputs": [
    {
     "name": "stdout",
     "output_type": "stream",
     "text": [
      "Mean: 1002.3333333333334\n",
      "Median: 3.0\n"
     ]
    }
   ],
   "source": [
    "# Initialize variable\n",
    "a = [1, 3, 2, 5, 3, 1, 5, 1, 9000]\n",
    "# Compute mean\n",
    "mean = np.mean(a)\n",
    "print \"Mean: \" + str(mean)\n",
    "# Compute median\n",
    "median = np.median(a)\n",
    "print \"Median: \" + str(median)"
   ]
  },
  {
   "cell_type": "markdown",
   "metadata": {},
   "source": [
    "2.) The median is defined as the number that is located at the 50th quantile of the data, meaning that 50% of the data values are below the median.\n",
    "\n",
    "3.) Taking the median of list a is more suitable than taking the mean in this case because there is an outlier in the list. The number 9000 causes the mean to be inflated and the median to give a more accurate representation of the spread of the list."
   ]
  },
  {
   "cell_type": "markdown",
   "metadata": {},
   "source": [
    "### Week 3"
   ]
  },
  {
   "cell_type": "markdown",
   "metadata": {
    "ExecuteTime": {
     "end_time": "2017-08-23T14:01:10.834257Z",
     "start_time": "2017-08-23T14:01:10.826472Z"
    }
   },
   "source": [
    ">**Ex. 3.1.1**: From the Wikipedia API, get a list of all Marvel superheroes and another list of all Marvel supervillains. Use 'Category:Marvel_Comics_supervillains' and 'Category:Marvel_Comics_superheroes' to get the characters in each category.\n",
    "1. How many superheroes are there? How many supervillains?\n",
    "2. How many characters are both heroes and villains? What is the Jaccard similarity between the two groups?\n",
    "\n",
    ">*Hint: Google something like \"get list all pages in category wikimedia api\" if you're struggling with the query.*"
   ]
  },
  {
   "cell_type": "code",
   "execution_count": 11,
   "metadata": {},
   "outputs": [
    {
     "name": "stdout",
     "output_type": "stream",
     "text": [
      "Heroes: 978\n",
      "Villains: 1302\n",
      "Both heroes and villains: 173\n",
      "Jacquard Similarity: 0.0821072615093\n"
     ]
    }
   ],
   "source": [
    "conth = \"0\" # used to continue making requests and keep track of where you left off\n",
    "contv = \"0\" # used to continue making requests and keep track of where you left off\n",
    "# Instantiate lists\n",
    "heroes = list()\n",
    "villains = list()\n",
    "# Loop through each hero and get the data for the heroes\n",
    "while True:\n",
    "    # Set up URL\n",
    "    urlh = \"https://en.wikipedia.org/w/api.php?format=json&action=query&list=categorymembers&cmtitle=Category:Marvel_Comics_superheroes&cmlimit=500&prop=revisions&rvprop=content&cmcontinue=\"+ conth\n",
    "    datah = rq.get(urlh).json() # Make request\n",
    "    heroes.extend(datah['query']['categorymembers']) # add results to list\n",
    "    try:\n",
    "        conth = datah['continue']['cmcontinue'] # get the point where it left off\n",
    "    except:\n",
    "        break # break if its gotten everything\n",
    "# Do the same for villains        \n",
    "while True:\n",
    "    urlv = \"https://en.wikipedia.org/w/api.php?format=json&action=query&list=categorymembers&cmtitle=Category:Marvel_Comics_supervillains&cmlimit=500&prop=revisions&rvprop=content&cmcontinue=\"+ contv\n",
    "    datav = rq.get(urlv).json()\n",
    "    villains.extend(datav['query']['categorymembers'])\n",
    "    try:\n",
    "        contv = datav['continue']['cmcontinue']\n",
    "    except:\n",
    "        break\n",
    "# Get the heroes and villains and ambiguous's names from the data\n",
    "heroes = [x['title'] for x in heroes]\n",
    "villains = [x['title'] for x in villains]\n",
    "ambiguous = set(heroes).intersection(set(villains)) # members in both heroes and villains\n",
    "# Print results\n",
    "print \"Heroes: \" + str(len(heroes))\n",
    "print \"Villains: \" +str(len(villains))\n",
    "print \"Both heroes and villains: \" + str(len(ambiguous))\n",
    "# Print and compute jaccard similarity\n",
    "print \"Jacquard Similarity: \" + str(float(len(set(heroes).intersection(set(villains))))/float(len(set(heroes).union(set(villains)))))"
   ]
  },
  {
   "cell_type": "markdown",
   "metadata": {},
   "source": [
    ">**Ex. 3.2.1**: Extract the length of the page of each character, and plot the distribution of this variable for each class (heroes/villains/ambiguous). Can you say anything about the popularity of characters in the Marvel universe based on your visualization?\n",
    "\n",
    ">*Hint: The simplest thing is to make a probability mass function, i.e. a normalized histogram. Use `plt.hist` on a list of page lengths, with the argument `normed=True`. Other distribution plots are fine too, though.*"
   ]
  },
  {
   "cell_type": "code",
   "execution_count": 12,
   "metadata": {
    "scrolled": true
   },
   "outputs": [
    {
     "data": {
      "image/png": "[encoded data removed]",
      "text/plain": [
       "<matplotlib.figure.Figure at 0x112a2c710>"
      ]
     },
     "metadata": {},
     "output_type": "display_data"
    }
   ],
   "source": [
    "import os # in order to loop through directories\n",
    "# Init dictionaries key: title value: length of page\n",
    "hero_length = dict()\n",
    "vill_length = dict()\n",
    "ambi_length = dict()\n",
    "# loop through the directory\n",
    "# heroes\n",
    "for file_name in os.listdir(\"../data/heroes\"):\n",
    "    with open(\"../data/heroes/\" + file_name) as f:\n",
    "        lines = 0\n",
    "        for line in f: lines += 1\n",
    "    hero_length[file_name] = lines\n",
    "# villains\n",
    "for file_name in os.listdir(\"../data/villains\"):\n",
    "    with open(\"../data/villains/\" + file_name) as f:\n",
    "        lines = 0\n",
    "        for line in f: lines += 1\n",
    "    vill_length[file_name] = lines\n",
    "# ambiguous\n",
    "for file_name in os.listdir(\"../data/ambiguous\"):\n",
    "    with open(\"../data/ambiguous/\" + file_name) as f:\n",
    "        lines = 0\n",
    "        for line in f: lines += 1\n",
    "    ambi_length[file_name] = lines\n",
    "    \n",
    "# Convert dicts to lists\n",
    "hero_vals = hero_length.values()\n",
    "vill_vals = vill_length.values()\n",
    "ambi_vals = ambi_length.values()\n",
    "# plots\n",
    "plt.figure(figsize=(12,4)) # set figure size\n",
    "# create subplot for Heroes\n",
    "plt.subplot(1,3,1) \n",
    "plt.hist(hero_vals, normed=True) # create hist\n",
    "# Set axis labels and title\n",
    "plt.xlabel(\"Number of lines on page\")\n",
    "plt.ylabel(\"Frequency\")\n",
    "plt.title(\"Heroes\")\n",
    "# create subplot for villains\n",
    "plt.subplot(1,3,2) \n",
    "plt.hist(vill_vals, normed=True, color=\"red\") # create hist\n",
    "# Set axis labels and title\n",
    "plt.xlabel(\"Number of lines on page\")\n",
    "plt.ylabel(\"Frequency\")\n",
    "plt.title(\"Villains\")\n",
    "# create subplot for ambiguous\n",
    "plt.subplot(1,3,3) \n",
    "plt.hist(ambi_vals, normed=True, color=\"green\") # create hist\n",
    "# Set axis labels and title\n",
    "plt.xlabel(\"Number of lines on page\")\n",
    "plt.ylabel(\"Frequency\")\n",
    "plt.title(\"Ambiguous\")\n",
    "plt.tight_layout()\n",
    "#plt.show()"
   ]
  },
  {
   "cell_type": "markdown",
   "metadata": {},
   "source": [
    "It seems like the graphs are skewed right. It seems like the majority of characters have smaller wikipedia pages. There are a couple heroes that stand out as the most popular with over 1000 more lines than the most in Ambiguous or Villains. We thought this made sense because people admire clearcut heroes more than villains or ambiguous characters."
   ]
  },
  {
   "cell_type": "markdown",
   "metadata": {},
   "source": [
    ">**Ex. 3.2.2**: Find the 10 characters from each class with the longest Wikipedia pages. Visualize their page lengths with bar charts. Comment on the result."
   ]
  },
  {
   "cell_type": "code",
   "execution_count": 71,
   "metadata": {},
   "outputs": [
    {
     "data": {
      "image/png": "[encoded data removed]",
      "text/plain": [
       "<matplotlib.figure.Figure at 0x112d53990>"
      ]
     },
     "metadata": {},
     "output_type": "display_data"
    },
    {
     "name": "stdout",
     "output_type": "stream",
     "text": [
      "Hero legend\n",
      "1: Jean Grey.txt\n",
      "2: Wolverine (character).txt\n",
      "3: Black Panther (comics).txt\n",
      "4: Moon Knight.txt\n",
      "5: Spider-Man.txt\n",
      "6: Cable (comics).txt\n",
      "7: She-Hulk.txt\n",
      "8: X-23.txt\n",
      "9: Deadpool.txt\n",
      "10: Cyclops (Marvel Comics).txt\n",
      "\n",
      "Villain legend\n",
      "1: Dormammu.txt\n",
      "2: Doctor Octopus.txt\n",
      "3: Hood (comics).txt\n",
      "4: Loki (comics).txt\n",
      "5: Red Skull.txt\n",
      "6: Mandarin (comics).txt\n",
      "7: Norman Osborn.txt\n",
      "8: Vulture (Marvel Comics).txt\n",
      "9: Carnage (comics).txt\n",
      "10: Galactus.txt\n",
      "\n",
      "Ambiguous legend\n",
      "1: Namor.txt\n",
      "2: Eddie Brock.txt\n",
      "3: Rogue (comics).txt\n",
      "4: Emma Frost.txt\n",
      "5: Sabretooth (comics).txt\n",
      "6: Phoenix Force (comics).txt\n",
      "7: Mystique (comics).txt\n",
      "8: Magneto (comics).txt\n",
      "9: Crimson Dynamo.txt\n",
      "10: Legion (Marvel Comics).txt\n"
     ]
    }
   ],
   "source": [
    "# Get titles of top line characters\n",
    "h = sorted(hero_length, key=hero_length.get, reverse=True)[0:10]\n",
    "v = sorted(vill_length, key=vill_length.get, reverse=True)[0:10]\n",
    "a = sorted(ambi_length, key=ambi_length.get, reverse=True)[0:10]\n",
    "# Get lists of heights\n",
    "h_heights = [hero_length[x] for x in h]\n",
    "v_heights = [vill_length[x] for x in v]\n",
    "a_heights = [ambi_length[x] for x in a]\n",
    "# Make bars\n",
    "plt.figure(figsize=(12,4)) # set figure size\n",
    "# Heroes\n",
    "plt.subplot(1,3,1) \n",
    "plt.xlabel(\"Heroes\")\n",
    "plt.ylabel(\"Number of Lines\")\n",
    "plt.title(\"Heroes\")\n",
    "plt.bar(range(1, len(h) + 1), h_heights,width=0.8, align=\"center\")\n",
    "plt.xticks(range(1, len(h) + 1))\n",
    "# Villains\n",
    "plt.subplot(1,3,2) \n",
    "plt.xlabel(\"Villains\")\n",
    "plt.ylabel(\"Number of Lines\")\n",
    "plt.title(\"Villains\")\n",
    "plt.bar(range(1, len(v) + 1), v_heights,width=0.8, align=\"center\", color=\"red\")\n",
    "plt.xticks(range(1, len(v) + 1))\n",
    "# Villains\n",
    "plt.subplot(1,3,3) \n",
    "plt.xlabel(\"Ambiguous\")\n",
    "plt.ylabel(\"Number of Lines\")\n",
    "plt.title(\"Villains\")\n",
    "plt.bar(range(1, len(a) + 1), a_heights,width=0.8, align=\"center\", color=\"green\")\n",
    "plt.xticks(range(1, len(a) + 1))\n",
    "plt.show()\n",
    "# Legends because they couldnt fit on the graphs\n",
    "print \"Hero legend\"\n",
    "for i,hero in enumerate(h): print str(i+1) + \": \" + hero\n",
    "print \"\\nVillain legend\"\n",
    "for i,vill in enumerate(v): print str(i+1) + \": \" + vill\n",
    "print \"\\nAmbiguous legend\"\n",
    "for i,ambi in enumerate(a): print str(i+1) + \": \" + ambi"
   ]
  },
  {
   "cell_type": "markdown",
   "metadata": {},
   "source": [
    "Some unexpected heroes, villains, and ambiguous characters page lengths are the long"
   ]
  },
  {
   "cell_type": "markdown",
   "metadata": {},
   "source": [
    ">**Ex. 3.2.3**: We are interested in knowing if there is a time-trend in the debut of characters.\n",
    "* Extract into three lists, debut years of heroes, villains, and ambiguous characters.\n",
    "* Do all pages have a debut year? Do some have multiple? How do you handle these inconsistencies?\n",
    "* For each class, visualize the amount of characters introduced over time. You choose how you want to visualize this data, but please comment on your choice. Also comment on the outcome of your analysis.\n",
    "\n",
    ">*Hint: The debut year is given on the debut row in the info table of a character's Wiki-page. There are many ways that you can extract this variable. You should try to have a go at it yourself, but if you are short on time, you can use this horribly ugly regular expression code:*\n",
    "\n",
    ">*`re.findall(r\"\\d{4}\\)\", re.findall(r\"debut.+?\\n\", markup_text)[0])[0][:-1]`*"
   ]
  },
  {
   "cell_type": "markdown",
   "metadata": {},
   "source": [
    "### Week 4"
   ]
  },
  {
   "cell_type": "markdown",
   "metadata": {},
   "source": [
    "*If you had trouble boulding a team alliance matrix, use mine. You can load it as a pandas.DataFrame, with pd.read_csv('data_team_alliances.csv', index_col=0). The rightmost column is the target array.*"
   ]
  },
  {
   "cell_type": "markdown",
   "metadata": {},
   "source": [
    "> **Ex. 4.2.1**: Train a classifier on all of your data and test its accuracy.\n",
    "\n",
    ">* If your team alliance matrix is `X_ta` and your target array is `y_ta` you can do this by instantiating a model like:\n",
    ">\n",
    "        from sklearn.naive_bayes import BernoulliNB\n",
    "        model = BernoulliNB()\n",
    "        model.fit(X_ta, y_ta)  # <--- This is the training/fitting/learning step\n",
    "        \n",
    "> The `BernoulliNB` is a version of the Naive Bayes classifier which associates certain features with labels and asks what the probability of a label for a data point is given its features. You are free to use any other classifier if you want. Popular ones are trees, random forests, support vector machines, feed forward neural networks, logistic regression, and the list goes on. With `sklearn`, they are just as easy to employ as the `BernoulliNB` classifier.\n",
    "\n",
    "\n",
    ">1. Test the accuracy of your model. You can use the `.predict` method on the `model` object to get predictions for a matrix of data points. Report the accuracy of your model on the same data that you trained the model on, alongside the baseline accuracy of a \"dumb\" model that only guesses for the majority class.\n",
    "\n",
    ">2. Report the precision, recall and F1 scores, with respect to the minority class (heroes). `sklearn` has implementations that you can use if you are short for time. Extra credit for doing it using only basic linear algebra operations with `numpy`, though."
   ]
  },
  {
   "cell_type": "markdown",
   "metadata": {},
   "source": [
    "> **Ex. 4.3.2**: Implement cross validation. The performance of a classifier is strongly dependent on the amount of data it is trained on. In Ex. 4.3.1 you train it on only half of the data and test it on the other half. If you rerun that code multiple times, with random 50/50 partitions, you are gonna see a lot of uncertainty in performance. Cross validation solves this problem by training on a larger subset of the data and testing on a smaller one, and taking the average performance over K-folds of this process.\n",
    "1. Implement cross validation over $K=10$ folds. For each fold you must record the training and test accuracies. In the end, visualize the distributions of test- and training accuracy as histograms in the same plot. It's important that you comment on the result."
   ]
  },
  {
   "cell_type": "markdown",
   "metadata": {},
   "source": [
    ">**Ex. 4.4.1**: Let's put our classifier to use!\n",
    "* Retrain your model on all of your data.\n",
    "* Create a team alliance representation of the ambiguous characters\n",
    "* Use the model the estimate the probability that each character is a villain (let's call this *villainness*). You can use the `.predict_proba` method on the model to get probability estimates rather than class assignments.\n",
    "* **Visualize the \"heroness\" distribution for all ambiguous characters**. Comment on the result."
   ]
  }
 ],
 "metadata": {
  "kernelspec": {
   "display_name": "Python 2",
   "language": "python",
   "name": "python2"
  },
  "language_info": {
   "codemirror_mode": {
    "name": "ipython",
    "version": 2
   },
   "file_extension": ".py",
   "mimetype": "text/x-python",
   "name": "python",
   "nbconvert_exporter": "python",
   "pygments_lexer": "ipython2",
   "version": "2.7.10"
  }
 },
 "nbformat": 4,
 "nbformat_minor": 2
}
