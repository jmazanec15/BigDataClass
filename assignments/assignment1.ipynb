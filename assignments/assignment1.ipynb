{
 "cells": [
  {
   "cell_type": "markdown",
   "metadata": {},
   "source": [
    "> **DO NOT EDIT IF INSIDE `computational_analysis_of_big_data_2018_spring` folder** "
   ]
  },
  {
   "cell_type": "markdown",
   "metadata": {},
   "source": [
    "# Assignment 1"
   ]
  },
  {
   "cell_type": "markdown",
   "metadata": {},
   "source": [
    "**Handin in Peergrade**: *Wednesday*, February 28, 2018, 23:59<br>\n",
    "**Peergrading deadline**: *Sunday*, March 4, 2018, 23:59<br>\n",
    "**Peergrading feedback deadline**: *Wednesday*, March 7, 2018, 23:59"
   ]
  },
  {
   "cell_type": "markdown",
   "metadata": {},
   "source": [
    "[**Questions**](https://github.com/ulfaslak/computational_analysis_of_big_data_2018_spring/issues) **/** [**Feedback**](http://ulfaslak.com/vent)"
   ]
  },
  {
   "cell_type": "markdown",
   "metadata": {},
   "source": [
    "## Problems"
   ]
  },
  {
   "cell_type": "markdown",
   "metadata": {},
   "source": [
    "### Week 1"
   ]
  },
  {
   "cell_type": "markdown",
   "metadata": {},
   "source": [
    ">**Ex. 1.2.2**: Working with JSON files\n",
    ">1. Use [`requests`](https://www.google.dk/search?q=python+requests+get+json&gws_rd=cr&ei=M5OdWaewD8Ti6AS54J24Bg), or another Python module, to store **[this data](https://www.reddit.com/r/gameofthrones/.json)** in a new variable `data`. Store it as a `dict` type object (you can print its type by running `type(data)`)."
   ]
  },
  {
   "cell_type": "code",
   "execution_count": 1,
   "metadata": {},
   "outputs": [
    {
     "name": "stdout",
     "output_type": "stream",
     "text": [
      "<type 'dict'>\n"
     ]
    }
   ],
   "source": [
    "import requests as rq # import requests to make requests to the web\n",
    "# Make request and convert it to json\n",
    "data = rq.get(\"https://www.reddit.com/r/gameofthrones/.json\",  headers = {'User-agent': 'JackMazanec'}).json()\n",
    "# Print type to validate that its a dict\n",
    "print type(data)"
   ]
  },
  {
   "cell_type": "markdown",
   "metadata": {},
   "source": [
    ">**Ex 1.2.5**: Write two `for` loops (or list comprehensions for extra street credits) which:\n",
    ">1. Counts the number of spoilers.\n",
    ">2. Only prints headlines that aren't spoilers."
   ]
  },
  {
   "cell_type": "code",
   "execution_count": 2,
   "metadata": {},
   "outputs": [
    {
     "name": "stdout",
     "output_type": "stream",
     "text": [
      "Number of spoilers: 16\n",
      "Headlines:\n",
      "[NO SPOILERS] 'The Drowned God'. A piece I did after a massive GoT marathon.\n",
      "[NO SPOILERS] Stuck on a train in Scotland, just awaiting the invasion of the White Walkers\n",
      "[EVERYTHING] AltShiftX - What's the three eyed raven's secret plan?\n",
      "[NO SPOILERS] “Weirwood Leaf”, Acrylic on a Sycamore Leaf 6”X 7”\n",
      "[NO SPOILERS] George RR Martin's blog post about casting of GoT in 2009 and fans reaction to it\n",
      "[NO SPOILERS] My favorite GoT wallpaper (by Adam Spizak)\n",
      "[EVERYTHING] Arya and Gendry prediction\n",
      "[NO SPOILERS] I put together a guitar and drum video I did of the theme song.\n",
      "[EVERYTHING] A Duality of Ice and Fire: Why Azor Ahai is two heads of the Three Headed Dragon\n",
      "[Everything]GOT Season 7 In 3 Minutes\n"
     ]
    }
   ],
   "source": [
    "## List comprehension that counts the number of spoilers\n",
    "spoilers = 0\n",
    "listtrue= [data['data']['children'][i]['data']['spoiler'] for i in range(len(data['data']['children'])) if data['data']['children'][i]['data']['spoiler'] == True]\n",
    "print \"Number of spoilers: \" + str(len(listtrue))\n",
    "## Only print headlines that aren't spoilers\n",
    "headlines= [data['data']['children'][i]['data']['title'] for i in range(len(data['data']['children'])) if data['data']['children'][i]['data']['spoiler'] == False]\n",
    "print \"Headlines:\"\n",
    "# loop through and print headlines\n",
    "for headline in headlines:\n",
    "    print headline"
   ]
  },
  {
   "cell_type": "markdown",
   "metadata": {},
   "source": [
    "### Week 2"
   ]
  },
  {
   "cell_type": "markdown",
   "metadata": {},
   "source": [
    ">**Ex 2.1.5**: Take another list `b = list(\"ofcourseistillloveyou\")` and\n",
    "1. get the `set` of characters that exist in both `a` and `b` (intersection),\n",
    "2. get the `set` of characters that exist in either `a` or `b` (union), and\n",
    "3. compute the [Jaccard similarity](https://en.wikipedia.org/wiki/Jaccard_index) between the distinct elements in `a` and `b`.\n",
    "\n",
    ">*Hint: use the `set` function to get a `set`-type object of distinct elements from a list*"
   ]
  },
  {
   "cell_type": "code",
   "execution_count": 3,
   "metadata": {},
   "outputs": [
    {
     "name": "stdout",
     "output_type": "stream",
     "text": [
      "Intersection: set(['c', 'e', 'i', 'o', 's', 'r', 'u', 't'])\n",
      "Union:        set(['a', 'c', 'e', 'd', 'f', 'i', 'h', 'j', 'l', 'o', 'n', 's', 'r', 'u', 't', 'v', 'y'])\n",
      "Jaccard sim:  0.470588235294\n"
     ]
    }
   ],
   "source": [
    "## Initialize lists\n",
    "a = list(\"justreadtheinstructions\")\n",
    "b = list(\"ofcourseistillloveyou\") \n",
    "## Convert lists into sets\n",
    "a_s = set(a)\n",
    "b_s = set(b)\n",
    "## Get the intersect\n",
    "intersect = a_s.intersection(b_s)\n",
    "## Get the union\n",
    "union = a_s.union(b_s)\n",
    "## Output values\n",
    "print \"Intersection: \" + str(intersect)\n",
    "print \"Union:        \" + str(union)\n",
    "print \"Jaccard sim:  \" + str((float(len(intersect))/float(len(union))))"
   ]
  },
  {
   "cell_type": "markdown",
   "metadata": {},
   "source": [
    ">**Ex. 2.2.4**: Looking at the scatter plots there appears to be some unevenness in the number of comments and upvotes that different posts receive.\n",
    "1. Plot the distributions of `x` for \"gameofthrones\" and \"news\" as histograms, side by side. My figure looks like [this](http://ulfaslak.com/computational_analysis_of_big_data/exer_figures/example_2.2c.png).\n",
    "2. What do these distributions say about how people comment on Reddit?"
   ]
  },
  {
   "cell_type": "code",
   "execution_count": 4,
   "metadata": {},
   "outputs": [
    {
     "name": "stdout",
     "output_type": "stream",
     "text": [
      "Getting Game of thrones data\n",
      "Retrieved 25 posts from page \n",
      "Retrieved 25 posts from page t3_80ppgv\n",
      "Retrieved 25 posts from page t3_8073rl\n",
      "Retrieved 25 posts from page t3_7zxeho\n",
      "Retrieved 25 posts from page t3_7zuokv\n",
      "Retrieved 25 posts from page t3_7zc7lq\n",
      "Retrieved 25 posts from page t3_7yxk4s\n",
      "Retrieved 25 posts from page t3_7ywpdc\n",
      "Retrieved 25 posts from page t3_7yh1y3\n",
      "Retrieved 25 posts from page t3_7y1xzz\n",
      "Retrieved 25 posts from page t3_7xktwv\n",
      "Retrieved 25 posts from page t3_7xm6j9\n",
      "Retrieved 25 posts from page t3_7xcmni\n",
      "Retrieved 25 posts from page t3_7wxoon\n",
      "Retrieved 25 posts from page t3_7wmrm5\n",
      "Retrieved 25 posts from page t3_7w26rm\n",
      "Retrieved 25 posts from page t3_7w0o5c\n",
      "Retrieved 25 posts from page t3_7vqy2g\n",
      "Retrieved 25 posts from page t3_7v6cnn\n",
      "Retrieved 25 posts from page t3_7vcx4n\n",
      "Getting news data\n",
      "Retrieved 25 posts from page \n",
      "Retrieved 25 posts from page t3_80uizt\n",
      "Retrieved 25 posts from page t3_80rdbc\n",
      "Retrieved 25 posts from page t3_80puxh\n",
      "Retrieved 25 posts from page t3_80rqq8\n",
      "Retrieved 25 posts from page t3_80nzc6\n",
      "Retrieved 25 posts from page t3_80fvpu\n",
      "Retrieved 25 posts from page t3_80g5u2\n",
      "Retrieved 25 posts from page t3_80h319\n",
      "Retrieved 25 posts from page t3_80fbsm\n",
      "Retrieved 25 posts from page None\n",
      "Retrieved 25 posts from page t3_80uizt\n",
      "Retrieved 25 posts from page t3_80rdbc\n",
      "Retrieved 25 posts from page t3_80puxh\n",
      "Retrieved 25 posts from page t3_80rqq8\n",
      "Retrieved 25 posts from page t3_80nzc6\n",
      "Retrieved 25 posts from page t3_80fvpu\n",
      "Retrieved 25 posts from page t3_80g5u2\n",
      "Retrieved 25 posts from page t3_80h319\n",
      "Retrieved 25 posts from page t3_80fbsm\n",
      "Done\n"
     ]
    }
   ],
   "source": [
    "## HIS FUNCTION TO GET DATA -- NOT PART OF ASSIGNMENT\n",
    "def get_x_y(subreddit, N, count=25): \n",
    "    # Function inside another function\n",
    "    # takes a subreddit, the number of posts to retrieve and the id of the last post fethced\n",
    "    # return the data in json form for the posts specifying those parameters\n",
    "    def _get_data(subreddit, count, after):\n",
    "        url = \"https://www.reddit.com/r/%s/.json?count=%d&after=%s\" % (subreddit, count, after) # url to make request to\n",
    "        data = rq.get(url, headers = {'User-agent': 'sneakybot'}).json() # make request to reddit\n",
    "        print \"Retrieved %d posts from page %s\" % (count, after)\n",
    "        return data\n",
    "    after = \"\" # start at the very beginning of the subreddit\n",
    "    x, y = [], [] # intialize lists for number of comments and scores\n",
    "    # make calls to _get_data function in chunks until there are a total of N posts\n",
    "    for n in range(N/count):\n",
    "        # Get the data\n",
    "        data = _get_data(subreddit, count, after)\n",
    "        # Put all the data from the json into x and y respectively\n",
    "        for d in data['data']['children']:\n",
    "            x.append(d['data']['num_comments'])\n",
    "            y.append(d['data']['score'])\n",
    "        # update after for the next request\n",
    "        after = data['data']['after']\n",
    "    # return x and y\n",
    "    return x, y\n",
    "## GET DATA\n",
    "print \"Getting Game of thrones data\"\n",
    "x,y = get_x_y(\"gameofthrones\", 500, count=25)\n",
    "print \"Getting news data\"\n",
    "x_news, y_news = get_x_y(\"news\", 500, count=25)\n",
    "print \"Done\""
   ]
  },
  {
   "cell_type": "code",
   "execution_count": 5,
   "metadata": {},
   "outputs": [
    {
     "data": {
      "image/png": "[encoded data removed]",
      "text/plain": [
       "<matplotlib.figure.Figure at 0x10ff54390>"
      ]
     },
     "metadata": {},
     "output_type": "display_data"
    }
   ],
   "source": [
    "# make sure plots are in jupyter\n",
    "%matplotlib inline \n",
    "from matplotlib import pyplot as plt # import pyplot\n",
    "plt.figure(figsize=(12,4)) # set figure size\n",
    "plt.subplot(1,2,1) # create subplot for GOT\n",
    "plt.hist(x, bins=6, color=\"red\") # create histogram\n",
    "# Set axis labels and title\n",
    "plt.xlabel(\"Comments\")\n",
    "plt.ylabel(\"Bin Count\")\n",
    "plt.title(\"Game of Thrones\")\n",
    "# create subplot for news\n",
    "plt.subplot(1,2,2)\n",
    "plt.hist(x_news, bins=6, color=\"blue\")\n",
    "plt.xlabel(\"Comments\")\n",
    "plt.ylabel(\"Bin Count\")\n",
    "plt.title(\"News\")\n",
    "# Display plots\n",
    "plt.show()"
   ]
  },
  {
   "cell_type": "markdown",
   "metadata": {},
   "source": [
    "What do these distributions say about how people comment on Reddit?\n",
    "These histograms tell us that overall, an overwhelming amount of posts have between 0 and 1000 comments. However, there are various small peaks of comments much larger than 1000, so it is clear that a small number of posts stand out as very popular and are receiving about 8 times (News) and 3 times(Game of Thrones) the amount of posts as those in these major bins."
   ]
  },
  {
   "cell_type": "markdown",
   "metadata": {},
   "source": [
    ">**Ex. 2.3.5**: Create a $5 \\times 5$ array `X` (a matrix) with random numbers and $5 \\times 1$ array `a` (a tall vector) with 5 random numbers.\n",
    "1. Compute the matrix-vector dot product between these two. Use `numpy`'s `dot` method. \n",
    "2. What happens if you just use `*` instead of `np.dot`? Explain."
   ]
  },
  {
   "cell_type": "code",
   "execution_count": 6,
   "metadata": {},
   "outputs": [
    {
     "name": "stdout",
     "output_type": "stream",
     "text": [
      "Numpy Dot:\n",
      "[[ 4.29600149]\n",
      " [ 2.25453959]\n",
      " [-5.46214188]\n",
      " [ 1.79618718]\n",
      " [-1.15947634]]\n",
      "\n",
      "Simple Multiplication:\n",
      "[[ 0.51443479  1.13381829 -0.84061199  1.63751939  0.97852302]\n",
      " [ 1.71695372  1.84437508  1.62952772 -2.32902938 -0.47915461]\n",
      " [-1.28452368 -1.03727877 -0.05156635 -0.7421082   0.63991487]\n",
      " [-0.11376668  1.01622006 -1.39889877  0.01033536  0.13705147]\n",
      " [-0.02796066  0.03272539 -0.65136666  0.17982263 -0.23750622]]\n"
     ]
    }
   ],
   "source": [
    "import numpy as np\n",
    "## Create arrays\n",
    "rand_matrix = np.random.randn(5,5)\n",
    "rand_vector = np.random.randn(5,1)\n",
    "# Dot product\n",
    "rand_dot    = np.dot(rand_matrix, rand_vector)\n",
    "# Simple Multiplication\n",
    "rand_mult   = rand_matrix * rand_vector\n",
    "# Print results\n",
    "print \"Numpy Dot:\"\n",
    "print rand_dot\n",
    "print \"\\nSimple Multiplication:\"\n",
    "print rand_mult"
   ]
  },
  {
   "cell_type": "markdown",
   "metadata": {},
   "source": [
    "Using just the * multiplies each column in the matrix by its element wise complement in the vector. np.dot multiplies the rows in the matrix by the columns in the vector and sums them up creating a 5 x 1 vector."
   ]
  },
  {
   "cell_type": "markdown",
   "metadata": {},
   "source": [
    ">**Ex. 2.4.1**: Take a vector `a = [1, 3, 2, 5, 3, 1, 5, 1, 9000]`:\n",
    "1. Compute the mean of `a` using `numpy`.\n",
    "2. How is median defined? Compute the median of `a` using `numpy`.\n",
    "3. For `a`, why might it make sense to take the median more seriously than the mean?"
   ]
  },
  {
   "cell_type": "code",
   "execution_count": 7,
   "metadata": {},
   "outputs": [
    {
     "name": "stdout",
     "output_type": "stream",
     "text": [
      "Mean: 1002.3333333333334\n",
      "Median: 3.0\n"
     ]
    }
   ],
   "source": [
    "# Initialize variable\n",
    "a = [1, 3, 2, 5, 3, 1, 5, 1, 9000]\n",
    "# Compute mean\n",
    "mean = np.mean(a)\n",
    "print \"Mean: \" + str(mean)\n",
    "# Compute median\n",
    "median = np.median(a)\n",
    "print \"Median: \" + str(median)"
   ]
  },
  {
   "cell_type": "markdown",
   "metadata": {},
   "source": [
    "2.) The median is defined as the number that is located at the 50th quantile of the data, meaning that 50% of the data values are below the median.\n",
    "\n",
    "3.) Taking the median of list a is more suitable than taking the mean in this case because there is an outlier in the list. The number 9000 causes the mean to be inflated and the median to give a more accurate representation of the spread of the list."
   ]
  },
  {
   "cell_type": "markdown",
   "metadata": {},
   "source": [
    "### Week 3"
   ]
  },
  {
   "cell_type": "markdown",
   "metadata": {
    "ExecuteTime": {
     "end_time": "2017-08-23T14:01:10.834257Z",
     "start_time": "2017-08-23T14:01:10.826472Z"
    }
   },
   "source": [
    ">**Ex. 3.1.1**: From the Wikipedia API, get a list of all Marvel superheroes and another list of all Marvel supervillains. Use 'Category:Marvel_Comics_supervillains' and 'Category:Marvel_Comics_superheroes' to get the characters in each category.\n",
    "1. How many superheroes are there? How many supervillains?\n",
    "2. How many characters are both heroes and villains? What is the Jaccard similarity between the two groups?\n",
    "\n",
    ">*Hint: Google something like \"get list all pages in category wikimedia api\" if you're struggling with the query.*"
   ]
  },
  {
   "cell_type": "code",
   "execution_count": 8,
   "metadata": {},
   "outputs": [
    {
     "name": "stdout",
     "output_type": "stream",
     "text": [
      "Heroes: 978\n",
      "Villains: 1302\n",
      "Both heroes and villains: 173\n",
      "Jacquard Similarity: 0.0821072615093\n"
     ]
    }
   ],
   "source": [
    "conth = \"0\" # used to continue making requests and keep track of where you left off\n",
    "contv = \"0\" # used to continue making requests and keep track of where you left off\n",
    "# Instantiate lists\n",
    "heroes = list()\n",
    "villains = list()\n",
    "# Loop through each hero and get the data for the heroes\n",
    "while True:\n",
    "    # Set up URL\n",
    "    urlh = \"https://en.wikipedia.org/w/api.php?format=json&action=query&list=categorymembers&cmtitle=Category:Marvel_Comics_superheroes&cmlimit=500&prop=revisions&rvprop=content&cmcontinue=\"+ conth\n",
    "    datah = rq.get(urlh).json() # Make request\n",
    "    heroes.extend(datah['query']['categorymembers']) # add results to list\n",
    "    try:\n",
    "        conth = datah['continue']['cmcontinue'] # get the point where it left off\n",
    "    except:\n",
    "        break # break if its gotten everything\n",
    "# Do the same for villains        \n",
    "while True:\n",
    "    urlv = \"https://en.wikipedia.org/w/api.php?format=json&action=query&list=categorymembers&cmtitle=Category:Marvel_Comics_supervillains&cmlimit=500&prop=revisions&rvprop=content&cmcontinue=\"+ contv\n",
    "    datav = rq.get(urlv).json()\n",
    "    villains.extend(datav['query']['categorymembers'])\n",
    "    try:\n",
    "        contv = datav['continue']['cmcontinue']\n",
    "    except:\n",
    "        break\n",
    "# Get the heroes and villains and ambiguous's names from the data\n",
    "heroes = [x['title'] for x in heroes]\n",
    "villains = [x['title'] for x in villains]\n",
    "ambiguous = set(heroes).intersection(set(villains)) # members in both heroes and villains\n",
    "# Print results\n",
    "print \"Heroes: \" + str(len(heroes))\n",
    "print \"Villains: \" +str(len(villains))\n",
    "print \"Both heroes and villains: \" + str(len(ambiguous))\n",
    "# Print and compute jaccard similarity\n",
    "print \"Jacquard Similarity: \" + str(float(len(set(heroes).intersection(set(villains))))/float(len(set(heroes).union(set(villains)))))"
   ]
  },
  {
   "cell_type": "markdown",
   "metadata": {},
   "source": [
    ">**Ex. 3.2.1**: Extract the length of the page of each character, and plot the distribution of this variable for each class (heroes/villains/ambiguous). Can you say anything about the popularity of characters in the Marvel universe based on your visualization?\n",
    "\n",
    ">*Hint: The simplest thing is to make a probability mass function, i.e. a normalized histogram. Use `plt.hist` on a list of page lengths, with the argument `normed=True`. Other distribution plots are fine too, though.*"
   ]
  },
  {
   "cell_type": "code",
   "execution_count": 87,
   "metadata": {
    "scrolled": true
   },
   "outputs": [
    {
     "data": {
      "image/png": "[encoded data removed]",
      "text/plain": [
       "<matplotlib.figure.Figure at 0x111b92e50>"
      ]
     },
     "metadata": {},
     "output_type": "display_data"
    }
   ],
   "source": [
    "import os # in order to loop through directories\n",
    "# Init dictionaries key: title value: length of page\n",
    "hero_length = dict()\n",
    "vill_length = dict()\n",
    "ambi_length = dict()\n",
    "# loop through the directories\n",
    "# get the lines for each file\n",
    "# heroes\n",
    "for file_name in os.listdir(\"../data/heroes\"):\n",
    "    with open(\"../data/heroes/\" + file_name) as f:\n",
    "        lines = 0\n",
    "        for line in f: lines += 1\n",
    "    hero_length[file_name] = lines\n",
    "# villains\n",
    "for file_name in os.listdir(\"../data/villains\"):\n",
    "    with open(\"../data/villains/\" + file_name) as f:\n",
    "        lines = 0\n",
    "        for line in f: lines += 1\n",
    "    vill_length[file_name] = lines\n",
    "# ambiguous\n",
    "for file_name in os.listdir(\"../data/ambiguous\"):\n",
    "    with open(\"../data/ambiguous/\" + file_name) as f:\n",
    "        lines = 0\n",
    "        for line in f: lines += 1\n",
    "    ambi_length[file_name] = lines\n",
    "    \n",
    "# Convert dicts to lists\n",
    "hero_vals = hero_length.values()\n",
    "vill_vals = vill_length.values()\n",
    "ambi_vals = ambi_length.values()\n",
    "# plots\n",
    "plt.figure(figsize=(12,4)) # set figure size\n",
    "# create subplot for Heroes\n",
    "plt.subplot(1,3,1) \n",
    "plt.hist(hero_vals, normed=True) # create hist\n",
    "# Set axis labels and title\n",
    "plt.xlabel(\"Number of lines on page\")\n",
    "plt.ylabel(\"Frequency\")\n",
    "plt.title(\"Heroes\")\n",
    "# create subplot for villains\n",
    "plt.subplot(1,3,2) \n",
    "plt.hist(vill_vals, normed=True, color=\"red\") # create hist\n",
    "# Set axis labels and title\n",
    "plt.xlabel(\"Number of lines on page\")\n",
    "plt.ylabel(\"Frequency\")\n",
    "plt.title(\"Villains\")\n",
    "# create subplot for ambiguous\n",
    "plt.subplot(1,3,3) \n",
    "plt.hist(ambi_vals, normed=True, color=\"green\") # create hist\n",
    "# Set axis labels and title\n",
    "plt.xlabel(\"Number of lines on page\")\n",
    "plt.ylabel(\"Frequency\")\n",
    "plt.title(\"Ambiguous\")\n",
    "plt.tight_layout()"
   ]
  },
  {
   "cell_type": "markdown",
   "metadata": {},
   "source": [
    "It seems like the graphs are skewed right. It seems like the majority of characters have smaller wikipedia pages. There are a couple heroes that stand out as the most popular with over 1000 more lines than the most in Ambiguous or Villains. We thought this made sense because people admire clearcut heroes more than villains or ambiguous characters."
   ]
  },
  {
   "cell_type": "markdown",
   "metadata": {},
   "source": [
    ">**Ex. 3.2.2**: Find the 10 characters from each class with the longest Wikipedia pages. Visualize their page lengths with bar charts. Comment on the result."
   ]
  },
  {
   "cell_type": "code",
   "execution_count": 10,
   "metadata": {},
   "outputs": [
    {
     "data": {
      "image/png": "[encoded data removed]",
      "text/plain": [
       "<matplotlib.figure.Figure at 0x111ae06d0>"
      ]
     },
     "metadata": {},
     "output_type": "display_data"
    },
    {
     "name": "stdout",
     "output_type": "stream",
     "text": [
      "Hero legend\n",
      "1: Jean Grey.txt\n",
      "2: Wolverine (character).txt\n",
      "3: Black Panther (comics).txt\n",
      "4: Moon Knight.txt\n",
      "5: Spider-Man.txt\n",
      "6: Cable (comics).txt\n",
      "7: She-Hulk.txt\n",
      "8: X-23.txt\n",
      "9: Deadpool.txt\n",
      "10: Cyclops (Marvel Comics).txt\n",
      "\n",
      "Villain legend\n",
      "1: Dormammu.txt\n",
      "2: Doctor Octopus.txt\n",
      "3: Hood (comics).txt\n",
      "4: Loki (comics).txt\n",
      "5: Red Skull.txt\n",
      "6: Mandarin (comics).txt\n",
      "7: Norman Osborn.txt\n",
      "8: Vulture (Marvel Comics).txt\n",
      "9: Carnage (comics).txt\n",
      "10: Galactus.txt\n",
      "\n",
      "Ambiguous legend\n",
      "1: Namor.txt\n",
      "2: Eddie Brock.txt\n",
      "3: Rogue (comics).txt\n",
      "4: Emma Frost.txt\n",
      "5: Sabretooth (comics).txt\n",
      "6: Phoenix Force (comics).txt\n",
      "7: Mystique (comics).txt\n",
      "8: Magneto (comics).txt\n",
      "9: Crimson Dynamo.txt\n",
      "10: Legion (Marvel Comics).txt\n"
     ]
    }
   ],
   "source": [
    "# Get titles of top line characters\n",
    "h = sorted(hero_length, key=hero_length.get, reverse=True)[0:10]\n",
    "v = sorted(vill_length, key=vill_length.get, reverse=True)[0:10]\n",
    "a = sorted(ambi_length, key=ambi_length.get, reverse=True)[0:10]\n",
    "# Get lists of heights\n",
    "h_heights = [hero_length[x] for x in h]\n",
    "v_heights = [vill_length[x] for x in v]\n",
    "a_heights = [ambi_length[x] for x in a]\n",
    "# Make bars\n",
    "plt.figure(figsize=(12,4)) # set figure size\n",
    "# Heroes\n",
    "plt.subplot(1,3,1) \n",
    "plt.xlabel(\"Heroes\")\n",
    "plt.ylabel(\"Number of Lines\")\n",
    "plt.title(\"Heroes\")\n",
    "plt.bar(range(1, len(h) + 1), h_heights,width=0.8, align=\"center\")\n",
    "plt.xticks(range(1, len(h) + 1))\n",
    "# Villains\n",
    "plt.subplot(1,3,2) \n",
    "plt.xlabel(\"Villains\")\n",
    "plt.ylabel(\"Number of Lines\")\n",
    "plt.title(\"Villains\")\n",
    "plt.bar(range(1, len(v) + 1), v_heights,width=0.8, align=\"center\", color=\"red\")\n",
    "plt.xticks(range(1, len(v) + 1))\n",
    "# Villains\n",
    "plt.subplot(1,3,3) \n",
    "plt.xlabel(\"Ambiguous\")\n",
    "plt.ylabel(\"Number of Lines\")\n",
    "plt.title(\"Ambigiuous\")\n",
    "plt.bar(range(1, len(a) + 1), a_heights,width=0.8, align=\"center\", color=\"green\")\n",
    "plt.xticks(range(1, len(a) + 1))\n",
    "plt.show()\n",
    "# Legends because they couldnt fit on the graphs\n",
    "print \"Hero legend\"\n",
    "for i,hero in enumerate(h): print str(i+1) + \": \" + hero\n",
    "print \"\\nVillain legend\"\n",
    "for i,vill in enumerate(v): print str(i+1) + \": \" + vill\n",
    "print \"\\nAmbiguous legend\"\n",
    "for i,ambi in enumerate(a): print str(i+1) + \": \" + ambi"
   ]
  },
  {
   "cell_type": "markdown",
   "metadata": {},
   "source": [
    "Some unexpected heroes, villains, and ambiguous characters page lengths are the longest. We had never heard of Jean Grey before this class."
   ]
  },
  {
   "cell_type": "markdown",
   "metadata": {},
   "source": [
    ">**Ex. 3.2.3**: We are interested in knowing if there is a time-trend in the debut of characters.\n",
    "* Extract into three lists, debut years of heroes, villains, and ambiguous characters.\n",
    "* Do all pages have a debut year? Do some have multiple? How do you handle these inconsistencies?\n",
    "* For each class, visualize the amount of characters introduced over time. You choose how you want to visualize this data, but please comment on your choice. Also comment on the outcome of your analysis.\n",
    "\n",
    ">*Hint: The debut year is given on the debut row in the info table of a character's Wiki-page. There are many ways that you can extract this variable. You should try to have a go at it yourself, but if you are short on time, you can use this horribly ugly regular expression code:*\n",
    "\n",
    ">*`re.findall(r\"\\d{4}\\)\", re.findall(r\"debut.+?\\n\", markup_text)[0])[0][:-1]`*"
   ]
  },
  {
   "cell_type": "code",
   "execution_count": 11,
   "metadata": {},
   "outputs": [
    {
     "name": "stdout",
     "output_type": "stream",
     "text": [
      "[2002, 2003, 1941, 2005, 1998, 1976, 1977, 1977, 1962, 2014, 2005, 1971, 1996, 1974, 1998, 1981, 1947, 1971, 1990, 2004, 1979, 1961, 2005, 1992, 1993, 2002, 1991, 1970, 1987, 1977, 2006, 1998, 1998, 2014, 2003, 1993, 1978, 1992, 1993, 1971, 2011, 1998, 1991, 1988, 2008, 2001, 1975, 1975, 2011, 1984, 1985, 1963, 1954, 1965, 1984, 1997, 1941, 1979, 1977, 1975, 1941, 1976, 1967, 1986, 1982, 2009, 1991, 1987, 1975, 2002, 1941, 1977, 1977, 1978, 1941, 1995, 1969, 1978, 1987, 1987, 1941, 1994, 1967, 1980, 1966, 1962, 2011, 2017, 1969, 1964, 1940, 2003, 1968, 1968, 1965, 1941, 2005, 2008, 2014, 1994, 1987, 1990, 1993, 1977, 2005, 2001, 1972, 2001, 1939, 1975, 1984, 1976, 2014, 1989, 1983, 1977, 2003, 1982, 2008, 1969, 1995, 1977, 1980, 1998, 1979, 1989, 2016, 1975, 2003, 1984, 1993, 1964, 2016, 1962, 2012, 1963, 1963, 1940, 1943, 1950, 1978, 1987, 1972, 2009, 2004, 1975, 1967, 1972, 1980, 1962, 1962, 1963, 1966, 1968, 2009, 2015, 1963, 2009, 1982, 1971, 1962, 1986, 1990, 1994, 2001, 1941, 1976, 2003, 2003, 2002, 1983, 1977, 1962, 1977, 1991, 2006, 1983, 1976, 1978, 2010, 1995, 1998, 2012, 1976, 1979, 1979, 1973, 1982, 1975, 1982, 1982, 1993, 1995, 2005, 1982, 1953, 1979, 1983, 1992, 2013, 1974, 1995, 2001, 1979, 2006, 2016, 1994, 2007, 2000, 2007, 1991, 1992, 1994, 2007, 1977, 1998, 2007, 1987, 1940, 1972, 1953, 1969, 1981, 1963, 1916, 1981, 2006, 2003, 2003, 1994, 1990, 2008, 1998, 1994, 1962, 2008, 2005, 1993, 1984, 1980, 2013, 2006, 2008, 1983, 1974, 2003, 1978, 1984, 2017, 1990, 1989, 1963, 1961, 1975, 1985, 1986, 1972, 2003, 1993, 1995, 1985, 1985, 2005, 2001, 2010, 1969, 1986, 1974, 1973, 1944, 1976, 1992, 1992, 1987, 1981, 2010, 1987, 1970, 1973, 1978, 1979, 1979, 1975, 1984, 2012, 1977, 2014, 1976, 2003, 2003, 1962, 1985, 1981, 1981, 1985, 2014, 1993, 1976, 1994, 1977, 1984, 1993, 1989, 1977, 2004, 1966, 1998, 2007, 2003, 1979, 2000, 2001, 1948, 2000, 2003, 1976, 1991, 1939, 1977, 2010, 1988, 1992, 1984, 1975, 1973, 1963, 1969, 2007, 2003, 1978, 1984, 1975, 1982, 1972, 1984, 1967, 1995, 2006, 2008, 2014, 1943, 2004, 2005, 1948, 1961, 1963, 1984, 1970, 1971, 1973, 1992, 1941, 2007, 2005, 1979, 1983, 1968, 1981, 1993, 1994, 1999, 1997, 1963, 1994, 1982, 1977, 1977, 2016, 1977, 2001, 1971, 1976, 1991, 1965, 1966, 2004, 1989, 1977, 1993, 1977, 1981, 1988, 1986, 1986, 1983, 1979, 2005, 1980, 1989, 1980, 2004, 2005, 1970, 1965, 1980, 1977, 1983, 1979, 1989, 1963, 2010, 2002, 1989, 1964, 2010, 1982, 1974, 1991, 1963, 1963, 1941, 1986, 2012, 1964, 1955, 1967, 1996, 2006, 1989, 1991, 1988, 1988, 2008, 1966, 1975, 1966, 1969, 1998, 1975, 1985, 2001, 1964, 2015, 1967, 1969, 1994, 1982, 1990, 2015, 2017, 1984, 1989, 1976, 2003, 1986, 1973, 2002, 2006, 1999, 1971, 1969, 2008, 1943, 1974, 1973, 1970, 1994, 1990, 1942, 1996, 1979, 1997, 1962, 1992, 1960, 1953, 1968, 1965, 2017, 2001, 1999, 1987, 1994, 2009, 1972, 2005, 1977, 1969, 1971, 2004, 2012, 1940, 1998, 2005, 1976, 1969, 2004, 2012, 1976, 2006, 1974, 1987, 1982, 2000, 1984, 1991, 1994, 1941, 1977, 2001, 1984, 1991, 2001, 2003, 1991, 1963, 1993, 2013, 1973, 1970, 1993, 1994, 1975, 1993, 1985, 2010, 1963, 1974, 1973, 1976, 1978, 1976, 1986, 2005, 2007, 1940, 1941, 1976, 1961, 2001, 1986, 1962, 2006, 1961, 1991, 2008, 1993, 1977, 2016, 1976, 1982, 1996, 2005, 2013, 1981, 1980, 2006, 1975, 1941, 1966, 2004, 2004, 1983, 1992, 1950, 2001, 1979, 1984, 1993, 1997, 2004, 2006, 2005, 1989, 2004, 2004, 2012, 1985, 1985, 2001, 2001, 2003, 1976, 2005, 1985, 1987, 2003, 1998, 1990, 2003, 2005, 1964, 1989, 1995, 2011, 1973, 1997, 1998, 2001, 2004, 1964, 1975, 1948, 1962, 1941, 1987, 1976, 1997, 2008, 2007, 2005, 1973, 1973, 1973, 2014, 2014, 1972, 1974, 1998, 1972, 2008, 2007, 1976, 2009, 1984, 1984, 2001, 1946, 2001, 1956, 1967, 1972, 1998, 1981, 1971, 1972, 1976, 1980, 1973, 1955, 1993, 2005, 1977, 2002, 2008, 2005, 2005, 1982, 2002, 2002, 1992, 1996, 1978, 1976, 2003, 1961, 1977, 1977, 2009, 2009, 2003, 2005, 2005, 1993, 1973, 2007, 1965, 1977, 1985, 2011, 1963, 1969, 1971, 1986, 1948, 1988, 1976, 1976, 1973, 1993, 1981, 1992, 1987, 1987, 1992, 2009, 1992, 1967, 1983, 1986, 1975]\n"
     ]
    }
   ],
   "source": [
    "import re\n",
    "import os\n",
    "#grabs all instanes of the word'debut' from each heroes' page if the page has a debut year\n",
    "debutss=[]\n",
    "for file_name in os.listdir(\"../data/heroes\"):\n",
    "    with open(\"../data/heroes/\" + file_name) as f:\n",
    "        ff=f.read()\n",
    "        debuts=re.findall(r'debut.+?\\n',ff) #catches the word debut and the remaining text up until a new line\n",
    "        debutss.append(debuts)\n",
    "\n",
    "#Makes a list with only the first instances of debut from each heroes' page \n",
    "first_instances=[]\n",
    "for i in debutss: #iterates through the list of 'debut' instances compiled from the code above\n",
    "    for x,y in enumerate(i): #accesses each element of the larger list 'debutss' as a list and appends the first element\n",
    "        if y != []:\n",
    "            if x == 0:\n",
    "                first_instances.append(y)\n",
    "\n",
    "#takes the list of the first instance of debut for each characer and grabs only the year within that text\n",
    "debs_heroes=[]\n",
    "match2=re.findall(r\"\\d{4}\\)\",str(first_instances)) #performs a regular expression (4 numerical characters) on 1st debuts\n",
    "debs_heroes.append(match2)\n",
    "debut_yearsh=debs_heroes\n",
    "\n",
    "#Cleans the list created above because the regular expression captures a ')' at the end of the year\n",
    "final_heroes=[]\n",
    "for year in debs_heroes:\n",
    "    for i in year:\n",
    "        final_heroes.append(int(i[:-1])) #grabs the year and converts it from a string to an integer\n",
    "print final_heroes\n",
    "\n"
   ]
  },
  {
   "cell_type": "code",
   "execution_count": 12,
   "metadata": {},
   "outputs": [
    {
     "name": "stdout",
     "output_type": "stream",
     "text": [
      "[1965, 1964, 1970, 1995, 1975, 2000, 1980, 2003, 1964, 1979, 1970, 1979, 1964, 1991, 1967, 1965, 1966, 1975, 1981, 1981, 1983, 1987, 1992, 1985, 1983, 1982, 1976, 1966, 1966, 2000, 1988, 1995, 1962, 2016, 1969, 1977, 1977, 1985, 1966, 1991, 1984, 1983, 1967, 1986, 1972, 2001, 2003, 2003, 1968, 1999, 1973, 1975, 1995, 1969, 1969, 1979, 1963, 1983, 1978, 1977, 1995, 1965, 1995, 1968, 1979, 2006, 1979, 1963, 1977, 1987, 1988, 1965, 1972, 1973, 1993, 1975, 1972, 1991, 1984, 1963, 2002, 1965, 1974, 2008, 1966, 1968, 1973, 1981, 1993, 1986, 2004, 1965, 1965, 1981, 1963, 1986, 1962, 1995, 1973, 1989, 1963, 1964, 1965, 1975, 1978, 1988, 1966, 2002, 1990, 1986, 1989, 2004, 1963, 2012, 1984, 1985, 1986, 1993, 1976, 1993, 1983, 1988, 1990, 2002, 1976, 1981, 1986, 1988, 1993, 1984, 1990, 1969, 1969, 1993, 1973, 1980, 1967, 1968, 1978, 1986, 1973, 1981, 1985, 1999, 1981, 1966, 1993, 1966, 1975, 1999, 1986, 1974, 1992, 1974, 1992, 1984, 1991, 1966, 1979, 1989, 1981, 1965, 1976, 1979, 1986, 1987, 1979, 1962, 1970, 1973, 2006, 1973, 1976, 1989, 1989, 1963, 1970, 1976, 2006, 2001, 2012, 1983, 1984, 1982, 1964, 2007, 1990, 1976, 2003, 1977, 1977, 2006, 1979, 1994, 1994, 1980, 1963, 1976, 1984, 1988, 1988, 1973, 1980, 1966, 1980, 2004, 1988, 1964, 1964, 1964, 1967, 2006, 1985, 2008, 1978, 1975, 1983, 1988, 1976, 1964, 1966, 1968, 1976, 1976, 1984, 1991, 1973, 1963, 1969, 1986, 1969, 1962, 1972, 1980, 1996, 2008, 1977, 1973, 1988, 1966, 1969, 1968, 1964, 1994, 1977, 1977, 1967, 1970, 1988, 1964, 2016, 1980, 2006, 1998, 2000, 2006, 2007, 1964, 1996, 1988, 1980, 1999, 1980, 1983, 1971, 1988, 1987, 1964, 1992, 1963, 1977, 2000, 1963, 1964, 1964, 1968, 1981, 1971, 1976, 1966, 1966, 1978, 1989, 1997, 2001, 1946, 1962, 1986, 1965, 1986, 1992, 1970, 1969, 1977, 1966, 1971, 1990, 1974, 1975, 1973, 1943, 1988, 1985, 1971, 1990, 2007, 1963, 1966, 1969, 1982, 1980, 1974, 1983, 1964, 1964, 1986, 1963, 1979, 1993, 1973, 1982, 1982, 1997, 1992, 1992, 2000, 1990, 1993, 1991, 1975, 1984, 1985, 1942, 1973, 2001, 1996, 1992, 2008, 2011, 1970, 1969, 1982, 1995, 1969, 1993, 1963, 1964, 1991, 1992, 1992, 1987, 1977, 1963, 1944, 1972, 1983, 1963, 1973, 1982, 1982, 1976, 1975, 1965, 2005, 1985, 1993, 1985, 1968, 2000, 1986, 1992, 2011, 1976, 1972, 2007, 1967, 1972, 1978, 1979, 2002, 1977, 1985, 1990, 1980, 1979, 1970, 1993, 1978, 1993, 1973, 1966, 1973, 1941, 1977, 1967, 1985, 1972, 1990, 1992, 2007, 1976, 1964, 1993, 1970, 1991, 1968, 1990, 1986, 1993, 2006, 2002, 1977, 1980, 1976, 1972, 1976, 1998, 1960, 1989, 1989, 1993, 1995, 1940, 2012, 1985, 1997, 1977, 2005, 1966, 1990, 1991, 1991, 1980, 1952, 1986, 1969, 1986, 1977, 1988, 1984, 1978, 1974, 1970, 1975, 1975, 1968, 1979, 1987, 1970, 1980, 1984, 1983, 2001, 1988, 1977, 1998, 1985, 2004, 1965, 1973, 2002, 1993, 2006, 2003, 1994, 1975, 1991, 1973, 1980, 1987, 1963, 1965, 1986, 1981, 1990, 1984, 1988, 1992, 1985, 1960, 1984, 1981, 1981, 1973, 2006, 1963, 1988, 1988, 1970, 1968, 1980, 1966, 1966, 1992, 1965, 1993, 1974, 1974, 1983, 1986, 1967, 1992, 1963, 1976, 1989, 1965, 1969, 1982, 1969, 1976, 1966, 1966, 1980, 1974, 2001, 1993, 1975, 1991, 2006, 1992, 1963, 1998, 1977, 1991, 1987, 1988, 1968, 1974, 1969, 1977, 1988, 1997, 1981, 1965, 1966, 1975, 1984, 1987, 1977, 1963, 2003, 1983, 1974, 1963, 1965, 1963, 1962, 1970, 1988, 1999, 1961, 1969, 1986, 1986, 1979, 1991, 1993, 2001, 1984, 1975, 1977, 2006, 1976, 2009, 2014, 1996, 1989, 2008, 1991, 1955, 1968, 1970, 1980, 1966, 1964, 1962, 2009, 1975, 2014, 1974, 1992, 1973, 1970, 2004, 1969, 1985, 2006, 1974, 1969, 1969, 1983, 1978, 2007, 2009, 1999, 1984, 1988, 1970, 1984, 1989, 1965, 1961, 1976, 1991, 1989, 1981, 1992, 1976, 1989, 1981, 1998, 1988, 1981, 1966, 1964, 2007, 2007, 2009, 2013, 1974, 1982, 1973, 1967, 1968, 1990, 2005, 1975, 2006, 1993, 1977, 1988, 1978, 1995, 1996, 1964, 1992, 1986, 1966, 1996, 1974, 1986, 2008, 2008, 1982, 1983, 2005, 1975, 1995, 1996, 1967, 1963, 1967, 1973, 2009, 1978, 1968, 1976, 1962, 1968, 1973, 1951, 1972, 1995, 1971, 1986, 1977, 1974, 1985, 1987, 1963, 1964, 1975, 1969, 1973, 1996, 1988, 1968, 1998, 1982, 1992, 1977, 1965, 1976, 1977, 1979, 1974, 1974, 1998, 1986, 1979, 1980, 1967, 1973, 1977, 1944, 2003, 1976, 1977, 1994, 1991, 1989, 1977, 1964, 1975, 2013, 1988, 1970, 1964, 1999, 1988, 1988, 1996, 2008, 1995, 1998, 1977, 1970, 1964, 1978, 1988, 1966, 1987, 1972, 1963, 1989, 1983, 2009, 1988, 2007, 1962, 1973, 1987, 1989, 2008, 1972, 1960, 1975, 1973, 1970, 1964, 1964, 1963, 1962, 1966, 1966, 1966, 1991, 1973, 1989, 1992, 1964, 1965, 2005, 2009, 1965, 1984, 1977, 1984, 1981, 1974, 1982, 1963, 1986, 1977, 1965, 2009, 1964, 1977, 1973, 1963, 1966, 1984, 1980, 1977, 1981, 1987, 1947, 1987, 1968, 1968, 1972, 2004, 1993, 1990, 1966, 1966, 1963, 1988, 1973, 1990, 1968, 1963, 1963, 2004, 1983, 1976, 1989, 1967, 1960, 1963, 1964, 1965, 1965, 1968, 1968, 1969, 2006, 2005, 1997, 1983, 1981, 1981, 1975, 2005, 1967, 1982, 1972, 1990, 2001, 1964, 2011, 1974, 2004, 1978, 1988, 1976, 1988, 1978, 1973, 1981, 1964, 1976, 1985, 1985, 1985, 2005, 2008, 1965, 1961, 1964, 2007, 2008, 2001, 1964, 1970, 1975, 1975, 1963, 1966, 1982, 1979, 2006, 1984, 1964, 1966, 2009, 2013, 1967, 1963, 1972, 1974, 1963, 1972, 2002, 1981, 1964, 1964, 1964, 1949, 1962, 1984, 1961, 2008, 1974, 1986, 1975, 1990, 1977, 1983, 1984, 1988, 1992, 1991, 1992, 1992, 1955, 1978, 1992, 1964, 2013, 2000, 1986, 1989, 2005, 1974, 1976, 1990, 2007, 2005, 1988, 1970, 1978, 2005, 1966, 1992, 1990, 1977, 1966, 1980]\n"
     ]
    }
   ],
   "source": [
    "#Does the same for villains\n",
    "debutssv=[]\n",
    "for file_name in os.listdir(\"../data/villains\"):\n",
    "    with open(\"../data/villains/\" + file_name) as f:\n",
    "        ff=f.read()\n",
    "        debuts=re.findall(r'debut.+?\\n',ff) #catches the word debut and the remaining text up until a new line\n",
    "        debutssv.append(debuts)\n",
    "\n",
    "#Makes a list with only the first instances of debut from each heroes' page \n",
    "first_instancesv=[]\n",
    "for i in debutssv: #iterates through the list of 'debut' instances compiled from the code above\n",
    "    for x,y in enumerate(i): #accesses each element of the larger list 'debutss' as a list and appends the first element\n",
    "        if y != []:\n",
    "            if x == 0:\n",
    "                first_instancesv.append(y)\n",
    "\n",
    "#takes the list of the first instance of debut for each characer and grabs only the year within that text\n",
    "debs_villains=[]\n",
    "match2=re.findall(r\"\\d{4}\\)\",str(first_instancesv)) #performs a regular expression (4 numerical characters) on 1st debuts\n",
    "debs_villains.append(match2)\n",
    "\n",
    "#Cleans the list created above because the regular expression captures a ')' at the end of the year\n",
    "final_villains=[]\n",
    "for year in debs_villains:\n",
    "    for i in year:\n",
    "        final_villains.append(int(i[:-1])) #grabs the year and converts it from a string to an integer\n",
    "print final_villains"
   ]
  },
  {
   "cell_type": "code",
   "execution_count": 13,
   "metadata": {},
   "outputs": [
    {
     "name": "stdout",
     "output_type": "stream",
     "text": [
      "[1972, 1953, 1983, 1961, 1986, 1991, 1974, 1982, 1974, 2002, 1985, 1986, 1976, 2000, 2009, 2010, 1988, 1964, 1965, 1980, 1984, 1997, 2008, 2010, 1969, 1971, 1991, 1993, 1984, 1972, 1964, 2001, 2006, 2008, 2010, 2014, 1985, 2008, 1986, 1988, 1988, 2008, 2012, 1994, 1973, 1995, 1962, 1974, 1975, 1994, 1994, 1996, 2016, 1976, 1983, 1993, 1976, 1984, 1988, 1976, 2001, 2007, 2009, 1993, 1988, 1984, 1939, 1965, 1985, 1965, 1964, 1986, 1967, 1997, 2000, 2005, 1995, 1980, 1963, 1962, 2008, 1982, 1954, 1992, 1940, 1968, 1989, 1977, 1982, 1986, 1963, 1977, 1981, 1973, 1977, 1961, 1972, 1981, 1986, 1967, 1968, 1965, 1974, 2009, 1978, 1978, 1983, 1986, 1977, 1966, 1992, 1985, 1999, 2010, 1980, 1984, 1975, 1979, 1991, 1965, 2006, 1991, 1984, 1991, 1985, 1974, 1981, 1981, 1973, 2001, 1974, 2003, 1977, 1984, 1996, 1999, 2005, 1981, 1995, 1988, 1980, 2006, 2007, 2016, 2018, 1974, 1995, 1995, 2011, 2013, 2014, 1968, 1961, 2003, 1994, 2012, 2001, 1966, 1969, 1981, 1964, 1997, 2000, 2001, 2004, 2010, 2013, 2016, 1991, 1995, 1992, 2002, 1972, 1975, 1978, 1997, 2009, 1970, 1961, 1983, 1990, 1991, 1977, 1986, 1977, 1992, 1986, 1980, 1963, 1990, 1984, 1975, 1978, 1965, 1975, 1998]\n"
     ]
    }
   ],
   "source": [
    "debutssa=[]\n",
    "for file_name in os.listdir(\"../data/ambiguous\"):\n",
    "    with open(\"../data/ambiguous/\" + file_name) as f:\n",
    "        ff=f.read()\n",
    "        debuts=re.findall(r'debut.+?\\n',ff) #catches the word debut and the remaining text up until a new line\n",
    "        debutssa.append(debuts)\n",
    "\n",
    "#Makes a list with only the first instances of debut from each ambiguous character's page \n",
    "first_instancesa=[]\n",
    "for i in debutssa: #iterates through the list of 'debut' instances compiled from the code above\n",
    "    for x,y in enumerate(i): #accesses each element of the larger list 'debutss' as a list and appends the first element\n",
    "        if y != []:\n",
    "            if x == 0:\n",
    "                first_instancesa.append(y)\n",
    "\n",
    "#takes the list of the first instance of debut for each characer and grabs only the year within that text\n",
    "debs_amb=[]\n",
    "match2=re.findall(r\"\\d{4}\\)\",str(first_instancesa)) #performs a regular expression (4 numerical characters) on 1st debuts\n",
    "debs_amb.append(match2)\n",
    "\n",
    "#Cleans the list created above because the regular expression captures a ')' at the end of the year\n",
    "final_ambiguous=[]\n",
    "for year in debs_amb:\n",
    "    for i in year:\n",
    "        final_ambiguous.append(int(i[:-1])) #grabs the year and converts it from a string to an integer\n",
    "print final_ambiguous"
   ]
  },
  {
   "cell_type": "markdown",
   "metadata": {},
   "source": [
    "### Week 4"
   ]
  },
  {
   "cell_type": "markdown",
   "metadata": {},
   "source": [
    "*If you had trouble boulding a team alliance matrix, use mine. You can load it as a pandas.DataFrame, with pd.read_csv('data_team_alliances.csv', index_col=0). The rightmost column is the target array.*"
   ]
  },
  {
   "cell_type": "markdown",
   "metadata": {},
   "source": [
    "Just used to setup 4.2.1"
   ]
  },
  {
   "cell_type": "code",
   "execution_count": 14,
   "metadata": {
    "collapsed": true
   },
   "outputs": [],
   "source": [
    "import re, os\n",
    "\n",
    "def get_alliances(char, faction=None):\n",
    "    \"\"\"Return list of alliances for Marvel character.\"\"\"\n",
    "    \n",
    "    if faction is None:\n",
    "        for faction in [\"heroes\", \"ambiguous\", \"villains\"]:\n",
    "            faction_chars = [c[:-4] for c in os.listdir(\"../data/%s\" % faction)]\n",
    "            if char in faction_chars:\n",
    "                break\n",
    "    \n",
    "    # Load character markup\n",
    "    with open(\"../data/%s/%s.txt\" % (faction, char)) as fp:\n",
    "        markup = fp.read()\n",
    "\n",
    "    # Get alliance field\n",
    "    alliances_field = re.findall(r\"alliances[\\w\\W]+?\\n\", markup)\n",
    "    if alliances_field == []:\n",
    "        return []\n",
    "\n",
    "    # Extract teams from alliance field\n",
    "    return [t[2:-1] for t in re.findall(r\"\\[\\[.+?[\\]\\|]\", alliances_field[0][10:])]"
   ]
  },
  {
   "cell_type": "code",
   "execution_count": 15,
   "metadata": {
    "collapsed": true
   },
   "outputs": [],
   "source": [
    "teams = set()\n",
    "for faction in [\"heroes\", \"ambiguous\", \"villains\"]:\n",
    "\n",
    "    faction_chars = [c[:-4] for c in os.listdir(\"../data/%s\" % faction) if c != \".DS_Store\"]\n",
    "    \n",
    "    for char in faction_chars:\n",
    "        teams.update(get_alliances(char))"
   ]
  },
  {
   "cell_type": "code",
   "execution_count": 16,
   "metadata": {
    "collapsed": true
   },
   "outputs": [],
   "source": [
    "import numpy as np\n",
    "index_dict = dict(zip(list(teams), range(len(teams))))\n",
    "\n",
    "def get_alliance_vect(char):\n",
    "    char_teams = get_alliances(char)\n",
    "\n",
    "    alliance_vector = [0] * len(teams)\n",
    "    for ct in char_teams:\n",
    "        team_index = index_dict[ct]\n",
    "        alliance_vector[team_index] = 1\n",
    "        \n",
    "    return np.array(alliance_vector)"
   ]
  },
  {
   "cell_type": "code",
   "execution_count": 17,
   "metadata": {
    "collapsed": true
   },
   "outputs": [],
   "source": [
    "X, y = [], []\n",
    "for faction in [\"heroes\", \"villains\"]:\n",
    "    for char in [c[:-4] for c in os.listdir(\"../data/%s\" % faction) if c != \".DS_Store\"]:\n",
    "        if sum(get_alliance_vect(char)) == 0:\n",
    "            continue\n",
    "        X.append(get_alliance_vect(char))\n",
    "        \n",
    "        if faction == \"heroes\":\n",
    "            y.append(1)\n",
    "        if faction == \"villains\":\n",
    "            y.append(0)\n",
    "    \n",
    "        \n",
    "X = np.array(X)\n",
    "y = np.array(y)"
   ]
  },
  {
   "cell_type": "markdown",
   "metadata": {},
   "source": [
    "> **Ex. 4.2.1**: Train a classifier on all of your data and test its accuracy.\n",
    "\n",
    ">* If your team alliance matrix is `X_ta` and your target array is `y_ta` you can do this by instantiating a model like:\n",
    ">\n",
    "        from sklearn.naive_bayes import BernoulliNB\n",
    "        model = BernoulliNB()\n",
    "        model.fit(X_ta, y_ta)  # <--- This is the training/fitting/learning step\n",
    "        \n",
    "> The `BernoulliNB` is a version of the Naive Bayes classifier which associates certain features with labels and asks what the probability of a label for a data point is given its features. You are free to use any other classifier if you want. Popular ones are trees, random forests, support vector machines, feed forward neural networks, logistic regression, and the list goes on. With `sklearn`, they are just as easy to employ as the `BernoulliNB` classifier.\n",
    "\n",
    "\n",
    ">1. Test the accuracy of your model. You can use the `.predict` method on the `model` object to get predictions for a matrix of data points. Report the accuracy of your model on the same data that you trained the model on, alongside the baseline accuracy of a \"dumb\" model that only guesses for the majority class.\n",
    "\n",
    ">2. Report the precision, recall and F1 scores, with respect to the minority class (heroes). `sklearn` has implementations that you can use if you are short for time. Extra credit for doing it using only basic linear algebra operations with `numpy`, though."
   ]
  },
  {
   "cell_type": "code",
   "execution_count": 86,
   "metadata": {},
   "outputs": [
    {
     "name": "stdout",
     "output_type": "stream",
     "text": [
      "Prediction accuracy: 0.9192339716902581\n",
      "Baseline accuracy: 0.515403830142\n",
      "Precision: 0.960151802657\n",
      "Recall: 0.86941580756\n",
      "F1 score: 0.912533814247\n"
     ]
    }
   ],
   "source": [
    "from sklearn.naive_bayes import BernoulliNB\n",
    "# Setup a model\n",
    "model = BernoulliNB()\n",
    "model.fit(X, y) # fit the model with your data\n",
    "y_pred = model.predict(X) # make predictions on the training data\n",
    "accuracy = np.mean(y == y_pred) # calculate the accuracy\n",
    "print \"Prediction accuracy: \" + str(accuracy)\n",
    "# Baseline\n",
    "y_base_accuracy = float(sum((1-y)))/(len(y))\n",
    "print \"Baseline accuracy: \" + str(y_base_accuracy)\n",
    "# Precision: (true positives)/(false positives + true positives)\n",
    "tp = sum(y_pred & y)\n",
    "fp = sum(y_pred & (1-y))\n",
    "fn = sum((1-y_pred) & y)\n",
    "precision = float(tp)/(tp+fp)\n",
    "recall = float(tp)/(tp+fn)\n",
    "f1 = 2*(precision*recall)/(precision+recall)\n",
    "# Print\n",
    "print \"Precision: \" + str(precision)\n",
    "print \"Recall: \" + str(recall)\n",
    "print \"F1 score: \" + str(f1)"
   ]
  },
  {
   "cell_type": "markdown",
   "metadata": {},
   "source": [
    "> **Ex. 4.3.2**: Implement cross validation. The performance of a classifier is strongly dependent on the amount of data it is trained on. In Ex. 4.3.1 you train it on only half of the data and test it on the other half. If you rerun that code multiple times, with random 50/50 partitions, you are gonna see a lot of uncertainty in performance. Cross validation solves this problem by training on a larger subset of the data and testing on a smaller one, and taking the average performance over K-folds of this process.\n",
    "1. Implement cross validation over $K=10$ folds. For each fold you must record the training and test accuracies. In the end, visualize the distributions of test- and training accuracy as histograms in the same plot. It's important that you comment on the result."
   ]
  },
  {
   "cell_type": "code",
   "execution_count": 80,
   "metadata": {},
   "outputs": [
    {
     "data": {
      "image/png": "[encoded data removed]",
      "text/plain": [
       "<matplotlib.figure.Figure at 0x111b92950>"
      ]
     },
     "metadata": {},
     "output_type": "display_data"
    },
    {
     "name": "stdout",
     "output_type": "stream",
     "text": [
      "Red is the test data. Blue is the training data.\n"
     ]
    }
   ],
   "source": [
    "# Implementation of Cross validation\n",
    "from sklearn.metrics import f1_score\n",
    "# Initialize lsit\n",
    "train_accuracy = list()\n",
    "test_accuracy = list()\n",
    "index_cut = int(len(X_t)*0.9) # split data into halfs\n",
    "# Run for 10 folds\n",
    "for k in range(10):\n",
    "    # Shuffle data\n",
    "    data = zip(X, y)\n",
    "    np.random.shuffle(data)\n",
    "    # Put data back together\n",
    "    X_t = [r[0] for r in data]\n",
    "    y_t = [r[1] for r in data]\n",
    "    # Cut data in half\n",
    "    X_train, y_train = X_t[:index_cut], y_t[:index_cut] # training set\n",
    "    X_test, y_test = X_t[index_cut+1:], y_t[index_cut+1:] # testing set\n",
    "    # Set up the model\n",
    "    model = BernoulliNB()\n",
    "    # Train the model on trainig data\n",
    "    model.fit(X_train, y_train) # fit the model with your data\n",
    "    # Predict result\n",
    "    y_train_pred = model.predict(X_train) # make predictions on the training data\n",
    "    y_test_pred = model.predict(X_test) # make predictions on the training data\n",
    "    # Compute accuracy\n",
    "    accuracy_train = \tnp.mean(y_train == y_train_pred) # calculate the accuracy\n",
    "    accuracy_test = \tnp.mean(y_test == y_test_pred) # calculate the accuracy\n",
    "    # Add to list\n",
    "    train_accuracy.append(accuracy_train)\n",
    "    test_accuracy.append(accuracy_test)\n",
    "\n",
    "# Print results\n",
    "plt.xlabel(\"Accuracy\")\n",
    "plt.ylabel(\"Frequency\")\n",
    "plt.title(\"Training vs. Test\")\n",
    "plt.hist(train_accuracy, color='blue', alpha=.5)\n",
    "plt.hist(test_accuracy, color='red', alpha=.5)\n",
    "plt.show()\n",
    "print \"Red is the test data. Blue is the training data.\""
   ]
  },
  {
   "cell_type": "markdown",
   "metadata": {},
   "source": [
    "We can see in this histogram that the distribution of our model's accuracy levels on the training data is much narrower than the distribution of the model's accuracy when tested on the test data. This makes sense because we trained the model with the test data. Also, we put 90% of our data into the training group, meaning that the model fits extremely well to this mass of data but struggles a bit in its versatility when applied to the smaller 10% of data in our test group. "
   ]
  },
  {
   "cell_type": "markdown",
   "metadata": {},
   "source": [
    ">**Ex. 4.4.1**: Let's put our classifier to use!\n",
    "* Retrain your model on all of your data.\n",
    "* Create a team alliance representation of the ambiguous characters\n",
    "* Use the model the estimate the probability that each character is a villain (let's call this *villainness*). You can use the `.predict_proba` method on the model to get probability estimates rather than class assignments.\n",
    "* **Visualize the \"heroness\" distribution for all ambiguous characters**. Comment on the result."
   ]
  },
  {
   "cell_type": "code",
   "execution_count": 85,
   "metadata": {},
   "outputs": [
    {
     "name": "stdout",
     "output_type": "stream",
     "text": [
      "Villainess array:\n",
      "[0.9384511450244472, 0.8585942088140092, 0.038242980158333, 0.6646295386540767, 0.8114607338585108, 0.14119901953709335, 0.9157220412665925, 0.3608905057568404, 0.882954774444097, 0.8585817597728206, 0.052049081030925884, 0.2289525740443513, 0.9908946953025515, 0.9923640037650429, 0.8387402456595531, 0.7730060863249315, 0.9065548512308238, 0.7632233834584269, 0.5849599413219715, 0.012629742975863684, 0.7519242260938401, 0.6301568389986721, 0.18498421320729416, 0.7910794683671388, 0.7632233834584269, 0.9935377921203228, 0.2510736438974067, 0.1832192010321269, 0.9883955218496843, 0.7947775361013036, 0.7197227564822818, 0.8659013185859675, 0.13729281231596902, 0.5170895630287574, 0.08864492986200558, 0.3608905057568404, 0.9405712073258844, 0.17193537909528148, 0.017777754357950107, 0.11076754004593348, 0.04001922395301632, 0.8587785923326747, 0.33406878713901866, 0.5170895630287574, 0.9073574575297622, 0.4806264731490347, 1.394063217673112e-06, 0.04127266960924383, 0.8585692682406565, 0.7928935514329201, 0.9389784678047431, 0.9914351658739148, 0.8288378233199948, 0.030907317606395965, 0.38561437903312484, 0.18374549976078824, 0.14534076286004782, 0.6412676724546132, 0.6434003811970055, 0.9984575347035534, 0.0033166108423083197, 0.07982847548295632, 0.15742895999966422, 0.31306658621114924, 0.9787914423773444, 0.9938057539638955, 0.910850188777709, 0.020464485335021595, 0.9419334049821997, 0.3550085111760768, 0.7632233834584269, 0.7075293683393726, 0.23718868584960515, 0.9942616989492108, 0.9011919517608251, 0.015640764013953992, 0.18374549976078824, 0.891060083023314, 0.3966484978753187, 0.8503234534250184, 0.3455269305689643, 0.7332763014029298, 0.9914351658739148, 0.14567731267643907, 0.0076558732178656315, 0.6162689478988786, 0.9769806573835166, 0.13152874788128707, 0.31306658621114924, 0.07127444878253353, 0.7632233834584269, 0.8965620726929926, 0.7632233834584269, 0.012720296032375747, 0.07156712678028761, 0.5450663261036066, 0.7069928359187441, 0.8362644925643812, 0.2874084250158634, 0.7941175328373911, 0.6258855050561042, 0.5257087891899246, 0.18374549976078824, 0.11059591975118235, 0.5069799234332474, 0.024701177114345295, 0.17588651085377913, 0.0029542664367136575, 0.3608905057568404, 0.13016601831116245, 0.0003263818987597634, 0.5014919442227207, 0.9993649702012367, 0.9983611408960746, 0.2790553293203832, 0.990122962913862, 0.02699187056212769, 0.998692756256725, 0.5170895630287574, 0.0010559480091358285, 0.7632233834584269, 0.7631862612972632, 0.0732747210309591, 0.9655071951743777, 0.9929067323824999, 0.7268930445617301, 0.2613444610498658, 0.18374549976078824, 0.9782346808926466, 0.8596537029318871, 9.315136468136311e-05, 0.002456982796310226, 0.8134853957245944, 0.8833388700460317, 0.2847363687786998, 0.9932008965034114]\n"
     ]
    },
    {
     "data": {
      "image/png": "[encoded data removed]",
      "text/plain": [
       "<matplotlib.figure.Figure at 0x111fb9d50>"
      ]
     },
     "metadata": {},
     "output_type": "display_data"
    }
   ],
   "source": [
    "# Set up new model\n",
    "model = BernoulliNB()\n",
    "# Train on old data\n",
    "model.fit(X, y)\n",
    "# X ambi will contain the alliances matrix for the ambiguous characters\n",
    "X_ambi = []\n",
    "# Loop through the ambiguous directory\n",
    "for char in [c[:-4] for c in os.listdir(\"../data/ambiguous\") if c != \".DS_Store\"]:\n",
    "    # Skip characters without alliances\n",
    "    if sum(get_alliance_vect(char)) == 0: continue\n",
    "    # Add the vector to the list\n",
    "    X_ambi.append(get_alliance_vect(char))       \n",
    "# Format as a numpy array\n",
    "X_ambi = np.array(X_ambi)\n",
    "# Get the villainess and heroeness prob predictions from the model\n",
    "X_prob = model.predict_proba(X_ambi)\n",
    "# List of villainess\n",
    "X_vill = [r[0] for r in X_prob]\n",
    "print \"Villainess array:\"\n",
    "print X_vill\n",
    "# Create a list of just heroness\n",
    "X_heroness = [r[1] for r in X_prob]\n",
    "# Plot the data in a histogram\n",
    "plt.xlabel(\"Heroness\")\n",
    "plt.ylabel(\"Frequency\")\n",
    "plt.title(\"Heroness of ambiguous\")\n",
    "plt.hist(X_heroness, alpha=.5)\n",
    "plt.show()\n"
   ]
  },
  {
   "cell_type": "markdown",
   "metadata": {},
   "source": [
    "It seems that most ambiguous characters are much closer to heroes or villains than the direct middle. This is evidenced by the inverted bell curve shape of the histogram"
   ]
  }
 ],
 "metadata": {
  "kernelspec": {
   "display_name": "Python 2",
   "language": "python",
   "name": "python2"
  },
  "language_info": {
   "codemirror_mode": {
    "name": "ipython",
    "version": 2
   },
   "file_extension": ".py",
   "mimetype": "text/x-python",
   "name": "python",
   "nbconvert_exporter": "python",
   "pygments_lexer": "ipython2",
   "version": "2.7.10"
  }
 },
 "nbformat": 4,
 "nbformat_minor": 2
}
