{
 "cells": [
  {
   "cell_type": "markdown",
   "metadata": {},
   "source": [
    "> **DO NOT EDIT IF INSIDE `computational_analysis_of_big_data_2018_spring` folder** "
   ]
  },
  {
   "cell_type": "markdown",
   "metadata": {},
   "source": [
    "# Week 2: A Data Scientist's most fundamental tools"
   ]
  },
  {
   "cell_type": "markdown",
   "metadata": {},
   "source": [
    "*Thursday, January 25, 2018*"
   ]
  },
  {
   "cell_type": "markdown",
   "metadata": {
    "ExecuteTime": {
     "end_time": "2017-08-23T15:30:03.634114Z",
     "start_time": "2017-08-23T15:30:03.629294Z"
    }
   },
   "source": [
    "Today's exercises will be related to chapters 3, 4, 5, 6 from DSfS. The point of these exercises is to refresh your memory on some mathematics and get you comfortable doing computations in code. It's a bit much this time, I admit that, but we're laying the foundation for great things and it's important we cover the (many) basics first.\n",
    "\n",
    "The exercises today cover:\n",
    "* Essential Python\n",
    "* Data visualization\n",
    "* Linear algebra\n",
    "* Statistics\n",
    "* Probability theory\n",
    "\n",
    "This is the last week where we will be doing Python for the sake of learning Python. If you feel that it is very difficult you should read the chapter in the book carefully. Alternatively, you can go through [Codeacademy's Python course](https://www.codecademy.com/learn/learn-python).\n",
    "\n",
    "**On explaining your code**: Some of you may be new to solving problems using code. At this point you may be wondering what level of detail I expect from your solutions. This is the guideline: Solve the exercises in a manner that allows you to—later in life—use them as examples. This also means that you should add code comments when the code isn't self-explanatory or if you're afraid it won't make sense when you look at it with fresh eyes. You may also want to comment on your output in plain text to capture the conclusions you arrive at throughout your analysis. But express yourself succinctly. To quote our friend Einstein: *\"Make everything as simple as possible, but not simpler\"*. When you optimize for your own future comprehension, other people will also be able to understand what you did.\n",
    "\n",
    "**Feedback:** If you find errors or have an opinion, positive or negative, about some of the exercises (or the teaching in general) that you would like to voice you can send me anonymous feedback at http://ulfaslak.com/vent."
   ]
  },
  {
   "cell_type": "markdown",
   "metadata": {},
   "source": [
    "## Exercises"
   ]
  },
  {
   "cell_type": "markdown",
   "metadata": {},
   "source": [
    "### Part 1: Essential Python (DSFS Chapter 2)"
   ]
  },
  {
   "cell_type": "markdown",
   "metadata": {},
   "source": [
    ">**Ex. 2.1.1**: Why does `5 / 2 == 2` in Python 2.7?"
   ]
  },
  {
   "cell_type": "markdown",
   "metadata": {},
   "source": [
    "Because it is integer division. This will always round down."
   ]
  },
  {
   "cell_type": "markdown",
   "metadata": {},
   "source": [
    ">**Ex. 2.1.2**: What is the point of using `try` and `except`? Write some code that shows how to use these."
   ]
  },
  {
   "cell_type": "markdown",
   "metadata": {},
   "source": [
    "This allows your code to customize exception handling."
   ]
  },
  {
   "cell_type": "code",
   "execution_count": 1,
   "metadata": {},
   "outputs": [
    {
     "name": "stdout",
     "output_type": "stream",
     "text": [
      "r is not defined\n"
     ]
    }
   ],
   "source": [
    "try:\n",
    "    x = r\n",
    "except:\n",
    "    print \"r is not defined\""
   ]
  },
  {
   "cell_type": "markdown",
   "metadata": {},
   "source": [
    ">**Ex 2.1.3**: Last week you learned about `dict`s, so now you're ready for `defaultdict`s.\n",
    "1. What is a `defaultdict`? How would you say it is different from a normal Python `dict`?\n",
    "2. Write some code that takes a list of tuples:\n",
    "\n",
    ">        l = [(\"a\", 1), (\"b\", 3), (\"a\", None), (\"c\", False), (\"b\", True), (\"a\", None)]\n",
    "\n",
    ">     And produces a `defaultdict` object\n",
    "\n",
    ">        defaultdict(<type 'list'>, {'a': [1, None, None], 'c': [False], 'b': [3, True]})\n",
    "\n",
    ">*Hint: you can import `defaultdict` from `collections`*"
   ]
  },
  {
   "cell_type": "markdown",
   "metadata": {},
   "source": [
    "A default dict is a lot like a regular dict except that it is initialized with a function that takes no arguments and reutrns a default value for a key.So, it will never throw a key exeption  error."
   ]
  },
  {
   "cell_type": "code",
   "execution_count": 2,
   "metadata": {},
   "outputs": [
    {
     "name": "stdout",
     "output_type": "stream",
     "text": [
      "defaultdict(<function <lambda> at 0x10c414a28>, {'a': [1, None, None], 'c': [False], 'b': [3, True]})\n"
     ]
    }
   ],
   "source": [
    "from collections import defaultdict\n",
    "def create_defaultdict(l):\n",
    "    dd = defaultdict(lambda: list())\n",
    "    for item in l:\n",
    "        dd[item[0]].append(item[1])\n",
    "    return dd\n",
    "\n",
    "l = [(\"a\", 1), (\"b\", 3), (\"a\", None), (\"c\", False), (\"b\", True), (\"a\", None)]\n",
    "t = create_defaultdict(l)\n",
    "print t"
   ]
  },
  {
   "cell_type": "markdown",
   "metadata": {},
   "source": [
    ">**Ex 2.1.4**: Take a list `a = list(\"justreadtheinstructions\")` and\n",
    "1. count the number of times each element occurs using `Counter`,\n",
    "2. report the two most common elements\n",
    "\n",
    ">*Hint: you can import `Counter` from `collections`*"
   ]
  },
  {
   "cell_type": "code",
   "execution_count": 3,
   "metadata": {},
   "outputs": [
    {
     "name": "stdout",
     "output_type": "stream",
     "text": [
      "[('t', 4), ('s', 3)]\n"
     ]
    }
   ],
   "source": [
    "from collections import Counter\n",
    "def countit(l):\n",
    "    count = Counter()\n",
    "    for c in l:\n",
    "        count[c] += 1\n",
    "    return count\n",
    "\n",
    "a = list(\"justreadtheinstructions\")\n",
    "print countit(a).most_common(2)\n",
    "\n"
   ]
  },
  {
   "cell_type": "markdown",
   "metadata": {},
   "source": [
    ">**Ex 2.1.5**: Take another list `b = list(\"ofcourseistillloveyou\")` and\n",
    "1. get the `set` of characters that exist in both `a` and `b` (intersection),\n",
    "2. get the `set` of characters that exist in either `a` or `b` (union), and\n",
    "3. compute the [Jaccard similarity](https://en.wikipedia.org/wiki/Jaccard_index) between the distinct elements in `a` and `b`.\n",
    "\n",
    ">*Hint: use the `set` function to get a `set`-type object of distinct elements from a list*"
   ]
  },
  {
   "cell_type": "code",
   "execution_count": 4,
   "metadata": {},
   "outputs": [
    {
     "name": "stdout",
     "output_type": "stream",
     "text": [
      "set(['c', 'e', 'i', 'o', 's', 'r', 'u', 't'])\n",
      "set(['a', 'c', 'e', 'd', 'f', 'i', 'h', 'j', 'l', 'o', 'n', 's', 'r', 'u', 't', 'v', 'y'])\n",
      "0.470588235294\n"
     ]
    }
   ],
   "source": [
    "b = list(\"ofcourseistillloveyou\") \n",
    "a_s = set(a)\n",
    "b_s = set(b)\n",
    "intersect = a_s.intersection(b_s)\n",
    "union = a_s.union(b_s)\n",
    "print intersect\n",
    "print union\n",
    "print (float(len(intersect))/float(len(union)))"
   ]
  },
  {
   "cell_type": "markdown",
   "metadata": {},
   "source": [
    "**Note:** If you finish all of today's exercises, either in class or at some point before the next session, I encourage you to read through the rest of Chapter 2 and try coding up some examples with the different functionality that Joel introduces. It will be worth your while."
   ]
  },
  {
   "cell_type": "markdown",
   "metadata": {},
   "source": [
    "### Part 2: Visualization (DSFS Chapter 3)"
   ]
  },
  {
   "cell_type": "markdown",
   "metadata": {},
   "source": [
    ">**Ex. 2.2.1**: Create two lists, `x` and `y`, that each contain 10 numbers of your liking. Using `matplotlib`'s `scatter` function, plot these two lists against each other. Give your figure x and y **axis labels** and a **title**.\n",
    "\n",
    ">*Hint: To get figures to display inside the notebook, use the Jupyter magic `%matplotlib inline`* <br>\n",
    ">***Info***:* From now on, unless otherwise stated, you should always label your axes and title your figure appropriately.*"
   ]
  },
  {
   "cell_type": "code",
   "execution_count": 6,
   "metadata": {},
   "outputs": [
    {
     "data": {
      "image/png": "[encoded data removed]",
      "text/plain": [
       "<matplotlib.figure.Figure at 0x10cd1a890>"
      ]
     },
     "metadata": {},
     "output_type": "display_data"
    }
   ],
   "source": [
    "%matplotlib inline\n",
    "from matplotlib import pyplot as plt\n",
    "x = [1,2,3,4,5,6,7,8,9,10]\n",
    "y = [11,12,13,14,15,16,17,18,19,20]\n",
    "plt.scatter(x, y)\n",
    "plt.xlabel(\"X\")\n",
    "plt.ylabel(\"Y\")\n",
    "plt.title(\"X v Y\")\n",
    "plt.show()"
   ]
  },
  {
   "cell_type": "markdown",
   "metadata": {},
   "source": [
    "> **Ex. 2.2.2**: The below code returns two lists with numbers. Explain what it does using code comments above or at the end of each line."
   ]
  },
  {
   "cell_type": "code",
   "execution_count": 7,
   "metadata": {
    "ExecuteTime": {
     "end_time": "2018-01-25T07:50:36.294332Z",
     "start_time": "2018-01-25T07:50:26.950182Z"
    }
   },
   "outputs": [
    {
     "name": "stdout",
     "output_type": "stream",
     "text": [
      "Retrieved 25 posts from page \n",
      "Retrieved 25 posts from page t3_7u80ou\n",
      "Retrieved 25 posts from page t3_7tuy3d\n",
      "Retrieved 25 posts from page t3_7tmy77\n",
      "Retrieved 25 posts from page t3_7tficv\n",
      "Retrieved 25 posts from page t3_7t1m9c\n",
      "Retrieved 25 posts from page t3_7sw0st\n",
      "Retrieved 25 posts from page t3_7souy1\n",
      "Retrieved 25 posts from page t3_7sab7p\n",
      "Retrieved 25 posts from page t3_7rysa3\n",
      "Retrieved 25 posts from page t3_7rqxwa\n",
      "Retrieved 25 posts from page t3_7rn1oz\n",
      "Retrieved 25 posts from page t3_7rby5j\n",
      "Retrieved 25 posts from page t3_7r3o4p\n",
      "Retrieved 25 posts from page t3_7qw5cp\n",
      "Retrieved 25 posts from page t3_7ql1wx\n",
      "Retrieved 25 posts from page t3_7q9kiq\n",
      "Retrieved 25 posts from page t3_7pvp4j\n",
      "Retrieved 25 posts from page t3_7pox6i\n",
      "Retrieved 25 posts from page t3_7pg9js\n"
     ]
    }
   ],
   "source": [
    "import requests as rq # imports request library under name rq\n",
    "\n",
    "# Takes a subreddit path, the total number of posts to be retireve, and the number of posts to retrieve per fetch\n",
    "# returns lists of the number of comments (x) and the score for a post (y)\n",
    "def get_x_y(subreddit, N, count=25): \n",
    "    # Function inside another function\n",
    "    # takes a subreddit, the number of posts to retrieve and the id of the last post fethced\n",
    "    # return the data in json form for the posts specifying those parameters\n",
    "    def _get_data(subreddit, count, after):\n",
    "        url = \"https://www.reddit.com/r/%s/.json?count=%d&after=%s\" % (subreddit, count, after) # url to make request to\n",
    "        data = rq.get(url, headers = {'User-agent': 'sneakybot'}).json() # make request to reddit\n",
    "        print \"Retrieved %d posts from page %s\" % (count, after)\n",
    "        return data\n",
    "    \n",
    "    after = \"\" # start at the very beginning of the subreddit\n",
    "\n",
    "    x, y = [], [] # intialize lists for number of comments and scores\n",
    "    # make calls to _get_data function in chunks until there are a total of N posts\n",
    "    for n in range(N/count):\n",
    "        # Get the data\n",
    "        data = _get_data(subreddit, count, after)\n",
    "        # Put all the data from the json into x and y respectively\n",
    "        for d in data['data']['children']:\n",
    "            x.append(d['data']['num_comments'])\n",
    "            y.append(d['data']['score'])\n",
    "        # update after for the next request\n",
    "        after = data['data']['after']\n",
    "    # return x and y\n",
    "    return x, y\n",
    "# make call to function                          \n",
    "x, y = get_x_y(\"gameofthrones\", 500, count=25)"
   ]
  },
  {
   "cell_type": "markdown",
   "metadata": {},
   "source": [
    ">**Ex. 2.2.3**: The code above gives you number of the number of comments versus score for 500 posts on the \"gameofthrones\" subreddit. But the `get_x_y` just needs the name of subreddit to run, so we could give it another, like \"news\".\n",
    "1. In two seperate figures, floating side by side, scatter plot (left) the set of x and y variables for \"gameofthrones\" and (right) x and y for \"news\". Choose different colors for the points in either plot. My figure looks like [this](http://ulfaslak.com/computational_analysis_of_big_data/exer_figures/example_2.2b.png).\n",
    "2. Comment on any differences you see in the trends. Why might number of comments versus post upvotes look different for a TV-show than for world news?"
   ]
  },
  {
   "cell_type": "code",
   "execution_count": 8,
   "metadata": {
    "scrolled": true
   },
   "outputs": [
    {
     "name": "stdout",
     "output_type": "stream",
     "text": [
      "Retrieved 25 posts from page \n",
      "Retrieved 25 posts from page t3_7u1g43\n",
      "Retrieved 25 posts from page t3_7ucbxf\n",
      "Retrieved 25 posts from page t3_7u89ty\n",
      "Retrieved 25 posts from page t3_7u14gq\n",
      "Retrieved 25 posts from page t3_7u3ujt\n",
      "Retrieved 25 posts from page t3_7u4usg\n",
      "Retrieved 25 posts from page t3_7u3onm\n",
      "Retrieved 25 posts from page t3_7u3ji1\n",
      "Retrieved 25 posts from page t3_7tz4q5\n",
      "Retrieved 25 posts from page None\n",
      "Retrieved 25 posts from page t3_7u1g43\n",
      "Retrieved 25 posts from page t3_7ucbxf\n",
      "Retrieved 25 posts from page t3_7u89ty\n",
      "Retrieved 25 posts from page t3_7u14gq\n",
      "Retrieved 25 posts from page t3_7u3ujt\n",
      "Retrieved 25 posts from page t3_7u4usg\n",
      "Retrieved 25 posts from page t3_7u3onm\n",
      "Retrieved 25 posts from page t3_7u3ji1\n",
      "Retrieved 25 posts from page t3_7tz4q5\n"
     ]
    }
   ],
   "source": [
    "x_news, y_news = get_x_y(\"news\", 500, count=25)"
   ]
  },
  {
   "cell_type": "code",
   "execution_count": 10,
   "metadata": {},
   "outputs": [
    {
     "data": {
      "image/png": "[encoded data removed]",
      "text/plain": [
       "<matplotlib.figure.Figure at 0x10d874310>"
      ]
     },
     "metadata": {},
     "output_type": "display_data"
    }
   ],
   "source": [
    "plt.figure(figsize=(10,4))\n",
    "plt.subplot(1,2,1)\n",
    "plt.scatter(x, y, color='red')\n",
    "plt.xlabel(\"Comments\")\n",
    "plt.ylabel(\"Score\")\n",
    "plt.title(\"Game of Thrones\")\n",
    "plt.xlim([0, 3500]) \n",
    "plt.ylim([0, 35000])\n",
    "plt.subplot(1,2,2)\n",
    "plt.scatter(x_news, y_news, color='blue')\n",
    "plt.xlabel(\"Comments\")\n",
    "plt.ylabel(\"Score\")\n",
    "plt.title(\"News\")\n",
    "plt.tight_layout()\n",
    "plt.xlim([0, 10000]) \n",
    "plt.ylim([0, 120000])\n",
    "plt.show()"
   ]
  },
  {
   "cell_type": "markdown",
   "metadata": {},
   "source": [
    "For game of thrones  there seems to be be less comments per upvote. This may be because the news may have more controversial topics and people want to elaborate more on their points of view. Also the news seems to be a much more popular subreddit based on the number of scores and number of comments."
   ]
  },
  {
   "cell_type": "markdown",
   "metadata": {},
   "source": [
    ">**Ex. 2.2.4**: Looking at the scatter plots there appears to be some unevenness in the number of comments and upvotes that different posts receive.\n",
    "1. Plot the distributions of `x` for \"gameofthrones\" and \"news\" as histograms, side by side. My figure looks like [this](http://ulfaslak.com/computational_analysis_of_big_data/exer_figures/example_2.2c.png).\n",
    "2. What do these distributions say about how people comment on Reddit?"
   ]
  },
  {
   "cell_type": "code",
   "execution_count": 24,
   "metadata": {
    "scrolled": false
   },
   "outputs": [
    {
     "data": {
      "image/png": "[encoded data removed]",
      "text/plain": [
       "<matplotlib.figure.Figure at 0x10e692f90>"
      ]
     },
     "metadata": {},
     "output_type": "display_data"
    }
   ],
   "source": [
    "plt.figure(figsize=(12,4))\n",
    "plt.subplot(1,2,1)\n",
    "plt.hist(x, bins=6, color=\"red\")\n",
    "plt.xlabel(\"Comments\")\n",
    "plt.ylabel(\"Bin Count\")\n",
    "plt.title(\"Game of Thrones\")\n",
    "plt.subplot(1,2,2)\n",
    "plt.hist(x_news, bins=6, color=\"blue\")\n",
    "plt.xlabel(\"Comments\")\n",
    "plt.ylabel(\"Bin Count\")\n",
    "plt.title(\"News\")\n",
    "plt.show()"
   ]
  },
  {
   "cell_type": "markdown",
   "metadata": {},
   "source": [
    "People do not typically comment very much on reddit posts. Specifically, the heavy majority of posts have between 0 and 500 comments. Occasionally, there are some major outliers. This may be because there are just so many posts that there aren't enough users to comment on everything."
   ]
  },
  {
   "cell_type": "markdown",
   "metadata": {},
   "source": [
    ">**Ex. 2.2.5**: Histograms are great but not perfect for visualizing distributions, so let's try something a little more advanced.\n",
    "1. Load the `seaborn` package as `sns`. If it isn't installed, you can do so by running `conda install seaborn` in your terminal/console. Take your above code, copy it into the cell below and substitute the `plt.hist` function with `sns.kdeplot`.\n",
    "2. You plots probably will look a little noisy. This is because the default value of the `bw` parameter in `kdeplot` is quite small (like 0.1 or something). Increase it until your plots start looking nicer, and explain what `bw` is, and why one should adjust it.\n",
    "\n",
    "> *Hint: If you get an AttributeError, it's because `seaborn` only accepts data as vectorized `numpy` arrays. You can fix this by importing `numpy` as `np`, and running `x = np.array(x)`, somewhere in your code.*"
   ]
  },
  {
   "cell_type": "code",
   "execution_count": 38,
   "metadata": {},
   "outputs": [
    {
     "data": {
      "image/png": "[encoded data removed]",
      "text/plain": [
       "<matplotlib.figure.Figure at 0x110caccd0>"
      ]
     },
     "metadata": {},
     "output_type": "display_data"
    }
   ],
   "source": [
    "import seaborn as sns\n",
    "plt.figure(figsize=(10,4))\n",
    "plt.subplot(1,2,1)\n",
    "sns.kdeplot(x,bw=4, color=\"red\")\n",
    "plt.xlabel(\"Comments\")\n",
    "plt.ylabel(\"Count\")\n",
    "plt.title(\"Game of Thrones\")\n",
    "\n",
    "plt.subplot(1,2,2)\n",
    "sns.kdeplot(x_news,bw=2, color=\"blue\")\n",
    "plt.xlabel(\"Comments\")\n",
    "plt.ylabel(\"Count\")\n",
    "plt.title(\"News\")\n",
    "plt.show()"
   ]
  },
  {
   "cell_type": "markdown",
   "metadata": {},
   "source": [
    "Determines how to scale the bivariate dimensions. It stands for bandwidth. One should adjust it to look so that one can factor out noise and determine the general pattern of the graph."
   ]
  },
  {
   "cell_type": "markdown",
   "metadata": {},
   "source": [
    "### Part 3: Linear algebra (DSFS Chapter 4)"
   ]
  },
  {
   "cell_type": "markdown",
   "metadata": {},
   "source": [
    ">**Ex. 2.3.1**: What does Joel mean when he uses the word *vector*?"
   ]
  },
  {
   "cell_type": "markdown",
   "metadata": {},
   "source": [
    "He describes it as an object that can be added together or that can be multiplied by scalars to form new vectors. He also says they are points in some finite dimensional space that can store data."
   ]
  },
  {
   "cell_type": "markdown",
   "metadata": {},
   "source": [
    ">**Ex. 2.3.2**: Using `numpy`, compute:\n",
    "1. `2 * [2, 3]`,\n",
    "2. `[3, 8] + [6, 1]`,\n",
    "3. `[3, 8] * [6, 1]` and\n",
    "4. `[3, 8] · [6, 1]` (that's a dot product)?"
   ]
  },
  {
   "cell_type": "code",
   "execution_count": 47,
   "metadata": {},
   "outputs": [
    {
     "name": "stdout",
     "output_type": "stream",
     "text": [
      "[4 6]\n",
      "[9 9]\n",
      "[18  8]\n",
      "26\n"
     ]
    }
   ],
   "source": [
    "import numpy as np\n",
    "a1 = 2*np.array([2, 3])\n",
    "print a1\n",
    "a2 = np.array([3, 8]) + np.array([6, 1])\n",
    "print a2\n",
    "a3 = np.array([3, 8]) * np.array([6, 1])\n",
    "print a3\n",
    "a4 = np.dot(np.array([3, 8]), np.array([6, 1]))\n",
    "print a4"
   ]
  },
  {
   "cell_type": "markdown",
   "metadata": {},
   "source": [
    ">**Ex. 2.3.3**: Imagine you have two vectors. What does it mean that the dot product between them is zero or very close to zero? What if it's very large? Intuitively, what does the dot product then measure?"
   ]
  },
  {
   "cell_type": "markdown",
   "metadata": {},
   "source": [
    "The dot product measures the sum of the product of each dimension. Or, in more mathematical terms, it is the length's of each vector multiplied by the cosine of the angle between them. So, if the dot product is close to 0, the vectors are close to perpendicular. If the dot product is large, the vectors point in the same general direction. Intuitively, the dot product measures the length of the projection of one vector onto another.\n",
    "\n"
   ]
  },
  {
   "cell_type": "markdown",
   "metadata": {},
   "source": [
    ">**Ex. 2.3.4**: An $n \\times k$ matrix has how many rows and columns? Construct a $5\\times5$ *`array`* with `numpy`."
   ]
  },
  {
   "cell_type": "markdown",
   "metadata": {},
   "source": [
    "n rows, k columns"
   ]
  },
  {
   "cell_type": "code",
   "execution_count": 51,
   "metadata": {},
   "outputs": [
    {
     "name": "stdout",
     "output_type": "stream",
     "text": [
      "[[0. 0. 0. 0. 0.]\n",
      " [0. 0. 0. 0. 0.]\n",
      " [0. 0. 0. 0. 0.]\n",
      " [0. 0. 0. 0. 0.]\n",
      " [0. 0. 0. 0. 0.]]\n"
     ]
    }
   ],
   "source": [
    "r = np.zeros((5,5))\n",
    "print r"
   ]
  },
  {
   "cell_type": "markdown",
   "metadata": {},
   "source": [
    ">**Ex. 2.3.5**: Create a $5 \\times 5$ array `X` (a matrix) with random numbers and $5 \\times 1$ array `a` (a tall vector) with 5 random numbers, and compute the matrix-vector multiplication between these two. Use `numpy`'s `dot` method. What happens if you just use `*`?"
   ]
  },
  {
   "cell_type": "code",
   "execution_count": 54,
   "metadata": {},
   "outputs": [
    {
     "name": "stdout",
     "output_type": "stream",
     "text": [
      "[[-3.80160885e-01  2.42728095e+00  5.91693916e-01 -1.20645933e+00\n",
      "  -1.21935922e+00]\n",
      " [ 9.32021950e-01 -8.74496888e-01  1.19227947e+00  1.10645648e+00\n",
      "  -3.29917088e-01]\n",
      " [ 2.28813386e+00 -1.28969067e-03  1.56739272e-01  1.70971149e-01\n",
      "  -1.51110358e-01]\n",
      " [ 4.05533333e-01 -2.37316576e+00 -8.76667757e-01 -9.30483337e-01\n",
      "   3.72412586e-01]\n",
      " [-2.15143165e-01  1.49333753e-01  9.63683207e-01 -2.39829410e-01\n",
      "   1.54987467e+00]]\n",
      "\n",
      "\n",
      "[[0.66008899]\n",
      " [1.54495484]\n",
      " [0.97777403]\n",
      " [0.82927697]\n",
      " [0.92309599]]\n"
     ]
    }
   ],
   "source": [
    "ran1 = np.random.randn(5,5)\n",
    "print ran1\n",
    "print(\"\\n\")\n",
    "ran2 = np.random.randn(5,1)\n",
    "print ran2"
   ]
  },
  {
   "cell_type": "markdown",
   "metadata": {},
   "source": [
    "### Part 4: Statistics (DSFS Chapter 5)"
   ]
  },
  {
   "cell_type": "markdown",
   "metadata": {},
   "source": [
    ">**Ex. 2.4.1**: Take a vector `a = [1, 3, 2, 5, 3, 1, 5, 1, 9000]`:\n",
    "1. Compute the mean of `a` using `numpy`.\n",
    "2. How is median defined? Compute the median of `a` using `numpy`.\n",
    "3. For `a`, why might it make sense to take the median more seriously than the mean?"
   ]
  },
  {
   "cell_type": "code",
   "execution_count": 57,
   "metadata": {},
   "outputs": [
    {
     "name": "stdout",
     "output_type": "stream",
     "text": [
      "1002.3333333333334\n",
      "3.0\n"
     ]
    }
   ],
   "source": [
    "a = [1, 3, 2, 5, 3, 1, 5, 1, 9000]\n",
    "mean = np.mean(a)\n",
    "print mean\n",
    "# Median is defined\n",
    "median = np.median(a)\n",
    "print median"
   ]
  },
  {
   "cell_type": "markdown",
   "metadata": {},
   "source": [
    "The median is defined as the middle most value in the data.\n",
    "\n",
    "It may make sense to take the median more seriously because the mean is affected by an outlier data point. The data is skewed.  "
   ]
  },
  {
   "cell_type": "markdown",
   "metadata": {},
   "source": [
    ">**Ex. 2.4.2**: Using the same vector `a`:\n",
    "1. How is *range* defined? Compute it.\n",
    "2. How is *variance* defined? How does variance and standard deviation relate? Compute them.\n",
    "3. What is the interquartile range? Compute it."
   ]
  },
  {
   "cell_type": "markdown",
   "metadata": {},
   "source": [
    "Range is defined as the difference between the largest and smallest value."
   ]
  },
  {
   "cell_type": "code",
   "execution_count": 61,
   "metadata": {},
   "outputs": [
    {
     "name": "stdout",
     "output_type": "stream",
     "text": [
      "8999\n"
     ]
    }
   ],
   "source": [
    "print max(a)-min(a)"
   ]
  },
  {
   "cell_type": "markdown",
   "metadata": {},
   "source": [
    "Variance is defined as the squared deviation of a value from the mean. Variance is the square of the standard deviation."
   ]
  },
  {
   "cell_type": "code",
   "execution_count": 64,
   "metadata": {},
   "outputs": [
    {
     "name": "stdout",
     "output_type": "stream",
     "text": [
      "7995336.222222224\n",
      "2827.6025573305424\n"
     ]
    }
   ],
   "source": [
    "variance = np.var(a)\n",
    "print variance\n",
    "std = np.std(a)\n",
    "print std"
   ]
  },
  {
   "cell_type": "markdown",
   "metadata": {},
   "source": [
    "Interquartile range is the difference between the median of the second half of the data and the first half of the data."
   ]
  },
  {
   "cell_type": "code",
   "execution_count": 68,
   "metadata": {},
   "outputs": [
    {
     "name": "stdout",
     "output_type": "stream",
     "text": [
      "18.0\n"
     ]
    }
   ],
   "source": [
    "first_med, second_med = np.percentile(x, [25 ,75])\n",
    "iqr = second_med - first_med\n",
    "print iqr"
   ]
  },
  {
   "cell_type": "markdown",
   "metadata": {},
   "source": [
    ">**Ex. 2.4.3**: Covariance and correlation are both measures of trend similarity.\n",
    "1. How do they relate?\n",
    "2. Compute the correlation between `a` and `b = [0, 4, 1, 6, 2, 0, 6, 0, 2]`.\n",
    "3. How does that result change if you remove the last data-point from each list? Why? What word do we use for that last point?"
   ]
  },
  {
   "cell_type": "markdown",
   "metadata": {},
   "source": [
    "Covariance measures how two variables in tandem deviate from their means. Correlation is the covariance divided by both standard deviations."
   ]
  },
  {
   "cell_type": "code",
   "execution_count": 73,
   "metadata": {},
   "outputs": [
    {
     "name": "stdout",
     "output_type": "stream",
     "text": [
      "0.044769396695071434\n"
     ]
    }
   ],
   "source": [
    "def correlation(x, y):\n",
    "    n = len(x)\n",
    "    cov = np.dot(np.mean(x), np.mean(y)) / (n - 1)\n",
    "    return cov/np.std(x)/np.std(y)\n",
    "b = [0, 4, 1, 6, 2, 0, 6, 0, 2]\n",
    "print correlation(a, b)\n"
   ]
  },
  {
   "cell_type": "code",
   "execution_count": 79,
   "metadata": {},
   "outputs": [
    {
     "name": "stdout",
     "output_type": "stream",
     "text": [
      "0.26544667796357857\n"
     ]
    }
   ],
   "source": [
    "b= b[:-1]\n",
    "a= a[:-1]\n",
    "print correlation(a, b)"
   ]
  },
  {
   "cell_type": "markdown",
   "metadata": {},
   "source": [
    "The correlation gets a lot bigger. This is because the outlier in a is removed. It is an outlier."
   ]
  },
  {
   "cell_type": "markdown",
   "metadata": {},
   "source": [
    "### Part 5: Probability (DSFS Chapter 6)"
   ]
  },
  {
   "cell_type": "markdown",
   "metadata": {},
   "source": [
    ">**Ex. 2.5.1**: What does it mean that the probabilities of two different events are dependent? Can you give an example of events whose probabilities of occuring depend on each other (name something that is not in the book)?"
   ]
  },
  {
   "cell_type": "markdown",
   "metadata": {},
   "source": [
    "The outcome of one of the events will impact the outcome of the other event.\n",
    "\n",
    "For instance, in the Superbowl, if the Patriots win, Tom Brady will have a better shot of winning Superbowl MVP and if Tom Brady wins Superbowl MVP, there is a greater chance that the Patriots won."
   ]
  },
  {
   "cell_type": "markdown",
   "metadata": {},
   "source": [
    ">**Ex. 2.5.2**: Joel gives an example in the book that illustrates the conditional probablity of “both children are girls” knowing “at least one of the children is a girl” versus the probability that \"both children are girls\" knowing \"the older child is a girl\". He computes these probabilities with the code below"
   ]
  },
  {
   "cell_type": "code",
   "execution_count": 82,
   "metadata": {
    "ExecuteTime": {
     "end_time": "2018-01-25T08:16:31.651914Z",
     "start_time": "2018-01-25T08:16:31.594181Z"
    }
   },
   "outputs": [
    {
     "name": "stdout",
     "output_type": "stream",
     "text": [
      "P(both | older): 0.514228456914\n",
      "P(both | either):  0.341541328364\n"
     ]
    }
   ],
   "source": [
    "import random\n",
    "\n",
    "def random_kid():\n",
    "    return random.choice([\"boy\", \"girl\"])\n",
    "\n",
    "both_girls = 0\n",
    "older_girl = 0\n",
    "either_girl = 0\n",
    "\n",
    "random.seed(0)\n",
    "for _ in range(10000):\n",
    "    younger = random_kid()\n",
    "    older = random_kid()\n",
    "    if older == \"girl\":\n",
    "        older_girl += 1\n",
    "    if older == \"girl\" and younger == \"girl\":\n",
    "        both_girls += 1\n",
    "    if older == \"girl\" or younger == \"girl\":\n",
    "        either_girl += 1\n",
    "\n",
    "print \"P(both | older):\", both_girls * 1.0 / older_girl      # 0.514 ~ 1/2\n",
    "print \"P(both | either): \", both_girls * 1.0 / either_girl   # 0.342 ~ 1/3"
   ]
  },
  {
   "cell_type": "markdown",
   "metadata": {},
   "source": [
    ">Now imagine a family with three children. Assume the only genders are 'boy' and 'girl' and that their probability of occuring are equal and independent. Write a similar piece of code that computes:\n",
    "1. the probability of three girls?\n",
    "1. the probability of two girls and one boy?\n",
    "1. the probability of one girl and two boys?\n",
    "1. the probability of three boys?\n",
    "1. the probability that all children are girls given that the oldest child is a girl?\n",
    "1. the probability that all children are girls given that one of the children is a girl?"
   ]
  },
  {
   "cell_type": "code",
   "execution_count": 96,
   "metadata": {},
   "outputs": [
    {
     "name": "stdout",
     "output_type": "stream",
     "text": [
      "P(three): 0.1249\n",
      "P(two): 0.3782\n",
      "P(one): 0.3771\n",
      "P(none): 0.1198\n",
      "P(all | older): 0.250300601202\n",
      "P(all | one):  0.14189956828\n"
     ]
    }
   ],
   "source": [
    "all_3 = 0\n",
    "just_2 = 0\n",
    "just_1 = 0\n",
    "none = 0\n",
    "oldest_girl = 0\n",
    "total = 10000\n",
    "random.seed(0)\n",
    "for _ in range(10000):\n",
    "    younger = random_kid()\n",
    "    middle = random_kid()\n",
    "    older = random_kid()\n",
    "    girls = 0\n",
    "    if younger == \"girl\": girls += 1\n",
    "    if middle  == \"girl\": girls += 1\n",
    "    if older   == \"girl\": \n",
    "        girls += 1\n",
    "        oldest_girl += 1\n",
    "    if girls == 3:\n",
    "        all_3 += 1\n",
    "    elif girls == 2:\n",
    "        just_2 += 1\n",
    "    elif girls == 1:\n",
    "        just_1 += 1\n",
    "    else:\n",
    "        total -= 1 # decrement total when no girls\n",
    "        none += 1\n",
    "print \"P(three):\", all_3 * 1.0 / 10000      # ~1/8\n",
    "print \"P(two):\", just_2 * 1.0 / 10000      # ~3/8\n",
    "print \"P(one):\", just_1 * 1.0 / 10000      # ~3/8\n",
    "print \"P(none):\", none * 1.0 / 10000      # ~1/8\n",
    "print \"P(all | older):\", all_3 * 1.0 / older_girl      # ~ 1/4\n",
    "print \"P(all | one): \", all_3 * 1.0 / total   # ~ (1/8)/(7/8) == 8/56"
   ]
  },
  {
   "cell_type": "markdown",
   "metadata": {},
   "source": [
    ">**Ex. 2.5.3**: Central limit theorem.\n",
    "\n",
    ">The central limit theorem is fun because we can get Gaussian distributions from probability distributions that are _not_ Gaussian. Let's explore that in the following exercise.\n",
    "1. Use Python's `random` module to simulate rolling a fair six-sided die `1E7` times. Plot the distribution of dice rolls using a bar-chart. (*Hint: Use `Counter` (see p. 24) to bin the values, then go back to Chapter 3 for examples of how to plot bar-charts.*). Describe the shape of the distribution.\n",
    "2. Now perform a new simulation. Roll a fair six-sided die 10 times and take the *average*. Do that `1E6` times. Plot the distribution of those average values. This time you can't use `Counter` (since the averages are not integer values). Instead use `numpy.histogram` to distribute those numbers into 25 bins. What does the `numpy.histogram` function return? Do the two arrays have the same length?\n",
    "3. Then let's use `matplotlib.pyplot.bar` to plot the binned data. You will have to deal with the fact that the counts- and bin-arrays have different lengths. Explain how you deal with this problem and why.\n",
    "4. Describe the shape of _this_ distribution. Explain in your own words what happened to that flat distribution of die-rolls to suddenly make it Gaussian just by taking some averages.\n",
    "5. Calculate the mean and standard deviation of the averaged values. Could you have predicted these values by reading DSfS pp. 78-80?"
   ]
  },
  {
   "cell_type": "code",
   "execution_count": 113,
   "metadata": {},
   "outputs": [
    {
     "data": {
      "image/png": "[encoded data removed]",
      "text/plain": [
       "<matplotlib.figure.Figure at 0x110d32b10>"
      ]
     },
     "metadata": {},
     "output_type": "display_data"
    }
   ],
   "source": [
    "cnt = [0, 0, 0, 0, 0, 0]\n",
    "\n",
    "for i in range(10**7):\n",
    "    cnt[random.randint(1, 6)-1] += 1\n",
    "plt.bar([1,2,3,4,5,6], cnt)\n",
    "plt.title('Dice distribution over 10^7 rolls')\n",
    "plt.ylabel('Count')\n",
    "plt.xlabel('Die number')\n",
    "plt.show()\n",
    "    "
   ]
  },
  {
   "cell_type": "markdown",
   "metadata": {},
   "source": [
    "It seems that each value is equally likely to be rolled"
   ]
  },
  {
   "cell_type": "code",
   "execution_count": 125,
   "metadata": {},
   "outputs": [],
   "source": [
    "avgs = list()\n",
    "for _ in range(10**6):\n",
    "    cnt = [0.,0.,0.,0.,0.,0.]\n",
    "    for _ in range(10):\n",
    "        cnt[random.randint(1, 6)-1] += 1\n",
    "    avgs.append((1*cnt[0] + 2*cnt[1] + 3*cnt[2] + 4*cnt[3] + 5*cnt[4] + 6*cnt[5])/10.)\n",
    "v, b = np.histogram(avgs, bins=25)"
   ]
  },
  {
   "cell_type": "markdown",
   "metadata": {},
   "source": [
    "np.histogram returns the bin count and the bin values for a set of data. The cutoffs have a length of 1 more than the values"
   ]
  },
  {
   "cell_type": "code",
   "execution_count": 131,
   "metadata": {},
   "outputs": [
    {
     "data": {
      "image/png": "[encoded data removed]",
      "text/plain": [
       "<matplotlib.figure.Figure at 0x110d2cc50>"
      ]
     },
     "metadata": {},
     "output_type": "display_data"
    }
   ],
   "source": [
    "plt.bar(b[:-1], v)\n",
    "plt.title('Average value for dice rolls')\n",
    "plt.ylabel('bin count')\n",
    "plt.xlabel('average')\n",
    "plt.show()"
   ]
  },
  {
   "cell_type": "markdown",
   "metadata": {},
   "source": [
    "There is a difference in lengths because the np.histogram returns the bin stop and starts, which will lead to 1 more than total values. To adhere to the, I had the number of bins be one less than that and labeled the x axis with the corresponding tick marks."
   ]
  },
  {
   "cell_type": "markdown",
   "metadata": {},
   "source": [
    "The shape is that of a bell curve. It is no longer flat because we are taking the average of 10 samples. Because the mean (1+2+3+4+5+6)/6 = 21/6 = 3.5, the data should be centered around 3.5. When plotting a bunch of averages, the distribution will be Gaussian."
   ]
  },
  {
   "cell_type": "code",
   "execution_count": null,
   "metadata": {
    "collapsed": true
   },
   "outputs": [],
   "source": []
  }
 ],
 "metadata": {
  "kernelspec": {
   "display_name": "Python 2",
   "language": "python",
   "name": "python2"
  },
  "language_info": {
   "codemirror_mode": {
    "name": "ipython",
    "version": 2
   },
   "file_extension": ".py",
   "mimetype": "text/x-python",
   "name": "python",
   "nbconvert_exporter": "python",
   "pygments_lexer": "ipython2",
   "version": "2.7.10"
  },
  "nav_menu": {},
  "toc": {
   "navigate_menu": true,
   "number_sections": false,
   "sideBar": true,
   "threshold": 6,
   "toc_cell": false,
   "toc_section_display": "block",
   "toc_window_display": true
  }
 },
 "nbformat": 4,
 "nbformat_minor": 1
}
