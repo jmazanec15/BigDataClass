{
 "cells": [
  {
   "cell_type": "markdown",
   "metadata": {},
   "source": [
    "> **DO NOT EDIT IF INSIDE `computational_analysis_of_big_data_2018_spring` folder** "
   ]
  },
  {
   "cell_type": "markdown",
   "metadata": {},
   "source": [
    "# Week 5: Machine Learning 2"
   ]
  },
  {
   "cell_type": "markdown",
   "metadata": {},
   "source": [
    "*Thursday, February 22, 2018*"
   ]
  },
  {
   "cell_type": "markdown",
   "metadata": {
    "ExecuteTime": {
     "end_time": "2017-08-23T15:30:03.634114Z",
     "start_time": "2017-08-23T15:30:03.629294Z"
    }
   },
   "source": [
    "There are innumerable machine learning models (and algorithms for fitting them to data) out there, and each one has something special about it that makes it suitable to a specific type of problem. To apply machine learning and get some initial results is fairly straight forward. Getting under the hood, however, requires a bit of work. This week we will look into how Decision Trees and PCA works. In the exercises today you will:\n",
    "\n",
    "* Implement a standard decision tree mechanism\n",
    "* Use PCA to visualize clusters in your data"
   ]
  },
  {
   "cell_type": "markdown",
   "metadata": {},
   "source": [
    "**Questions**: Outside of class, use [issue on GitHub](https://github.com/ulfaslak/computational_analysis_of_big_data_2018_spring/issues) for asking questions.\n",
    "\n",
    "**Feedback:** Am I going too fast over things? Overexplaining? Send me anonymous feedback about the exercises, lectures and course in general at http://ulfaslak.com/vent."
   ]
  },
  {
   "cell_type": "markdown",
   "metadata": {},
   "source": [
    "## Exercises"
   ]
  },
  {
   "cell_type": "markdown",
   "metadata": {},
   "source": [
    "**Get started**: Load the data you used last week to classify hero/villainness. It should consist of two arrays, one of dimensions ($N_{characters}$, $N_{teams}$) which is your feature matrix that has the team alliances of each character as a row vector of ones and zeros, and another of dimensions ($N_{characters}$, ) which is your target array that gives whether a character is a hero (1) or a villain (0). You can either load the data or copy/paste the code that generates it.\n",
    "\n",
    "*Hint: If you had trouble with the data, use mine. You can load it as a `pandas.DataFrame`, with `pd.read_csv('data_team_alliances.csv', index_col=0)`. The rightmost column is the target array. Do not include this in PCA (think about why)!.*"
   ]
  },
  {
   "cell_type": "code",
   "execution_count": 1,
   "metadata": {
    "collapsed": true
   },
   "outputs": [],
   "source": [
    "import re, os\n",
    "# Get alliances function\n",
    "def get_alliances(char, faction=None):\n",
    "    \"\"\"Return list of alliances for Marvel character.\"\"\"\n",
    "    \n",
    "    if faction is None:\n",
    "        for faction in [\"heroes\", \"ambiguous\", \"villains\"]:\n",
    "            faction_chars = [c[:-4] for c in os.listdir(\"../data/%s\" % faction)]\n",
    "            if char in faction_chars:\n",
    "                break\n",
    "    \n",
    "    # Load character markup\n",
    "    with open(\"../data/%s/%s.txt\" % (faction, char)) as fp:\n",
    "        markup = fp.read()\n",
    "\n",
    "    # Get alliance field\n",
    "    alliances_field = re.findall(r\"alliances[\\w\\W]+?\\n\", markup)\n",
    "    if alliances_field == []:\n",
    "        return []\n",
    "\n",
    "    # Extract teams from alliance field\n",
    "    return [t[2:-1] for t in re.findall(r\"\\[\\[.+?[\\]\\|]\", alliances_field[0][10:])]"
   ]
  },
  {
   "cell_type": "code",
   "execution_count": 2,
   "metadata": {
    "collapsed": true
   },
   "outputs": [],
   "source": [
    "# Get a set of teams\n",
    "teams = set()\n",
    "for faction in [\"heroes\", \"ambiguous\", \"villains\"]:\n",
    "\n",
    "    faction_chars = [c[:-4] for c in os.listdir(\"../data/%s\" % faction) if c != \".DS_Store\"]\n",
    "    for char in faction_chars:\n",
    "        teams.update(get_alliances(char)) # set of all alliances for every character"
   ]
  },
  {
   "cell_type": "code",
   "execution_count": 3,
   "metadata": {
    "collapsed": true
   },
   "outputs": [],
   "source": [
    "import numpy as np\n",
    "index_dict = dict(zip(list(teams), range(len(teams)))) # teams and their index\n",
    "\n",
    "def get_alliance_vect(char):\n",
    "    char_teams = get_alliances(char) # for a certain character, get his alliances\n",
    "    alliance_vector = [0] * len(teams) # cteate list of zeroes for all teams\n",
    "    # for each character team the character has\n",
    "    # get that index\n",
    "    # and set the alliance vector to 1\n",
    "    for ct in char_teams:\n",
    "        team_index = index_dict[ct]\n",
    "        alliance_vector[team_index] = 1\n",
    "    # return vector as np array\n",
    "    return np.array(alliance_vector)"
   ]
  },
  {
   "cell_type": "code",
   "execution_count": 6,
   "metadata": {},
   "outputs": [],
   "source": [
    "X = [] # 1 Characters per row; 1 alliance per column\n",
    "y = []\n",
    "for faction in [\"heroes\", \"villains\"]:\n",
    "    for char in [c[:-4] for c in os.listdir(\"../data/%s\" % faction) if c != \".DS_Store\"]:\n",
    "        if sum(get_alliance_vect(char)) == 0:\n",
    "            # skip character has no alliances\n",
    "            continue\n",
    "        # Add character's alliances vector to X\n",
    "        X.append(get_alliance_vect(char))\n",
    "        if faction == \"heroes\":\n",
    "            y.append(1)\n",
    "        else:\n",
    "            y.append(0)\n",
    "# Character alliance matrix\n",
    "X = np.array(X)\n",
    "y = np.array(y)"
   ]
  },
  {
   "cell_type": "markdown",
   "metadata": {},
   "source": [
    "### Part 1: Decision trees"
   ]
  },
  {
   "cell_type": "markdown",
   "metadata": {},
   "source": [
    "In this exercise you will implement the decision making algorithm of a decision tree classifier, step by step."
   ]
  },
  {
   "cell_type": "markdown",
   "metadata": {
    "ExecuteTime": {
     "end_time": "2017-08-23T14:01:10.834257Z",
     "start_time": "2017-08-23T14:01:10.826472Z"
    }
   },
   "source": [
    ">**Ex. 5.1.1**: Read about [Shannon entropy](https://en.wikipedia.org/wiki/Entropy_(information_theory).\n",
    "1. What is it? How is it defined mathematically (write out the formula in LateX formatting)?\n",
    "2. Write a function that computes the Shannon-entropy of a probability vector. Compute the Shannon entropy of `p=[0.4, 0.6]`."
   ]
  },
  {
   "cell_type": "markdown",
   "metadata": {},
   "source": [
    "Information entropy - average amount of information produced by a stochastic source of data.\n",
    "Think \"The measure of information entropy associated with each possible data value is the negative logarithm of the probability mass function for the value\""
   ]
  },
  {
   "cell_type": "markdown",
   "metadata": {},
   "source": [
    "\"The entropy provides an absolute limit on the shortest possible average length of a lossless compression encoding of the data produced by a source, and if the entropy of the source is less than the channel capacity of the communication channel, the data generated by the source can be reliably communicated to the receiver\""
   ]
  },
  {
   "cell_type": "code",
   "execution_count": 7,
   "metadata": {},
   "outputs": [
    {
     "name": "stdout",
     "output_type": "stream",
     "text": [
      "0.970950594455\n"
     ]
    }
   ],
   "source": [
    "import math\n",
    "def ShannonEntropy(v):\n",
    "    # Shannon entropy is the sum of -p*log(p) for all events\n",
    "    return sum([-1*i * math.log(i, 2) for i in v])\n",
    "\n",
    "p = [0.4, 0.6]\n",
    "print ShannonEntropy(p)"
   ]
  },
  {
   "cell_type": "markdown",
   "metadata": {
    "ExecuteTime": {
     "end_time": "2017-08-23T14:01:10.834257Z",
     "start_time": "2017-08-23T14:01:10.826472Z"
    }
   },
   "source": [
    ">**Ex. 5.1.2**: Split your data into two subsets. One where characters are affiliated with X-men and one where they are not.\n",
    "1. What is the entropy of target labels in each subset?\n",
    "2. What is the weighted average entropy of the split?\n",
    "3. Write a function that computes the weighted average entropy of a split, given the data and team (name or id) on which to split the data.\n",
    "4. Plot the distribution of split entropy for all features. Comment on the result. My figure looks [like this](http://ulfaslak.com/computational_analysis_of_big_data/exer_figures/example_6.2.2.4.png)."
   ]
  },
  {
   "cell_type": "code",
   "execution_count": 18,
   "metadata": {},
   "outputs": [
    {
     "name": "stdout",
     "output_type": "stream",
     "text": [
      "X-men subset entropy: 0.34351974100740135\n",
      "Non-X-men subset entropy:0.9936846391950632\n"
     ]
    }
   ],
   "source": [
    "# Get team index for Xmen\n",
    "for i,team in enumerate(teams):\n",
    "    if team == \"X-Men\": break\n",
    "X_ind = i\n",
    "# Count xmen and non xmen\n",
    "X_men = list()\n",
    "y_men = list()\n",
    "Not_X_men = list()\n",
    "Not_y_men = list()\n",
    "# Loop through all chars\n",
    "for i, char in enumerate(X):\n",
    "    if char[X_ind]: \n",
    "        X_men.append(char)\n",
    "        y_men.append(y[i])\n",
    "    else: \n",
    "        Not_X_men.append(char) \n",
    "        Not_y_men.append(y[i])\n",
    "# Calculate entropy of each target label\n",
    "# p3 = [len(X_men)/float(len(X)), len(Not_X_men)/float(len(X))]\n",
    "X_men_probs = sum(y_men)/float(len(y_men)), 1 - sum(y_men)/float(len(y_men))\n",
    "Not_X_men_probs = sum(Not_y_men)/float(len(Not_y_men)), 1 - sum(Not_y_men)/float(len(Not_y_men))\n",
    "X_e = ShannonEntropy(X_men_probs)\n",
    "N_X_e = ShannonEntropy(Not_X_men_probs)\n",
    "# Print\n",
    "print \"X-men subset entropy: \" + str(X_e)\n",
    "print \"Non-X-men subset entropy:\" + str(N_X_e)"
   ]
  },
  {
   "cell_type": "code",
   "execution_count": 21,
   "metadata": {},
   "outputs": [
    {
     "name": "stdout",
     "output_type": "stream",
     "text": [
      "weight average entropy of the split: 0.9514591087548987\n"
     ]
    }
   ],
   "source": [
    "# Weighted average entropy of the split\n",
    "weighted_average_entropy = (X_e*len(X_men) + N_X_e*len(Not_X_men))/(len(X))\n",
    "print \"weight average entropy of the split: \" + str(weighted_average_entropy)"
   ]
  },
  {
   "cell_type": "code",
   "execution_count": 79,
   "metadata": {
    "collapsed": true
   },
   "outputs": [],
   "source": [
    "def compute_average_entropy(X, y, teams, team_name):\n",
    "    # Get team index\n",
    "    for i,team in enumerate(teams):\n",
    "        if team == team_name: break\n",
    "    X_ind = i\n",
    "    # Count xmen and non xmen\n",
    "    X_in = list()\n",
    "    y_in = list()\n",
    "    X_out = list()\n",
    "    y_out = list()\n",
    "    # Loop through all chars\n",
    "    for i, char in enumerate(X):\n",
    "        if char[X_ind]: \n",
    "            X_in.append(char)\n",
    "            y_in.append(y[i])\n",
    "        else: \n",
    "            X_out.append(char) \n",
    "            y_out.append(y[i])\n",
    "    # Calculate entropy of each target label\n",
    "    if len(y_in) == 0 or len(y_out) == 0: return 1. # ********** Shady \n",
    "    X_in_probs = sum(y_in)/float(len(y_in)), 1 - sum(y_in)/float(len(y_in))\n",
    "    X_out_probs = sum(y_out)/float(len(y_out)), 1 - sum(y_out)/float(len(y_out))\n",
    "    if 0. in X_in_probs or 0. in X_out_probs: return 1. # ********** Shady\n",
    "    X_in_e = ShannonEntropy(X_in_probs)\n",
    "    X_out_e = ShannonEntropy(X_out_probs)\n",
    "    # Weighted average entropy of the split\n",
    "    weighted_average_entropy = (X_in_e*len(X_in) + X_out_e*len(X_out))/(len(X))\n",
    "    return weighted_average_entropy"
   ]
  },
  {
   "cell_type": "code",
   "execution_count": 77,
   "metadata": {},
   "outputs": [
    {
     "name": "stdout",
     "output_type": "stream",
     "text": [
      "0.9514591087548987\n"
     ]
    }
   ],
   "source": [
    "print compute_average_entropy(X, y, teams, \"X-Men\")"
   ]
  },
  {
   "cell_type": "code",
   "execution_count": 78,
   "metadata": {},
   "outputs": [
    {
     "name": "stdout",
     "output_type": "stream",
     "text": [
      "{'A.R.M.O.R.': 1.0, \"N'astirh\": 1.0, 'Nanny (comics)': 1.0, 'Headmen': 1.0, 'Brotherhood of Evil Mutants': 0.9992281215957418, 'X-Factor Investigations': 1.0, 'Young X-Men': 1.0, 'New Invaders': 1.0, 'Hand (comics)': 0.999291099456926, 'Indian Police Service': 1.0, 'Triad (underground society)': 1.0, 'Hellions (comics)#The New Hellions': 0.99914605670267, 'Riot Squad (comics)': 1.0, 'Ultimates': 1.0, 'Genoshan Magistrates': 1.0, 'Selene (comics)': 1.0, 'Darkhold': 1.0, \"Nick Fury's Howling Commandos\": 0.9973439817327512, 'Super-Sentinels': 0.9993141095593, 'Crazy Gang (Marvel Comics)': 0.9993141095593, \"Deep Six (Marvel Comics)#Namor's Deep Six\": 1.0, 'New Warriors': 0.9711606991457097, 'List of Marvel Comics demons#The Hell-lords': 1.0, 'Vampire (Marvel Comics)': 1.0, 'Secret Empire (comics)': 1.0, 'Xavier Institute Student Body#Corsairs': 1.0, 'Dark Avengers': 0.9976288492095544, 'Mutant X (comics)': 1.0, 'Hydra (comics)': 0.986706243568707, 'Revengers': 0.99914605670267, 'Theatre of Pain (comics)': 1.0, 'Shadow Council': 1.0, 'Strikeforce: Morituri': 1.0, 'Defenders (comics)': 0.9778481248436666, 'X-Treme X-Men': 1.0, 'The Pulse (comics)': 1.0, 'Force of Nature (comics)': 1.0, 'Kid Commandos': 1.0, 'Hardcore (comics)': 1.0, 'Drug Enforcement Administration': 1.0, 'All-New X-Men': 1.0, 'NYPD': 1.0, 'Press Gang (comics)': 1.0, 'Thunderbolts (comics)': 0.9955789847629866, 'Secret Defenders': 0.9973439817327512, 'Horsemen of Apocalypse': 0.9987528108686403, 'X-Statix': 1.0, \"People's Defense Force\": 1.0, 'Charles Xavier': 1.0, 'Ultimates (2015 team)': 0.997406511010771, 'Neo-Knights': 1.0, 'Underground (comics)': 1.0, 'Ani-Men': 1.0, 'Art Thibert': 1.0, 'Stark Resilient': 1.0, 'Psi-Key': 1.0, 'Triune Understanding': 1.0, 'X-Men': 0.9514591087548987, 'Parker Industries': 0.9993129631786171, 'Enforcers (comics)': 1.0, 'Black Spectre#Black Spectre (organization)': 1.0, 'New Enforcers': 1.0, 'Set (serpent god)': 1.0, \"Xavier's Security Enforcers\": 0.9993141095593, 'Hellfire Club': 1.0, 'Chaos War (comics)': 1.0, 'Supreme Soviets': 0.9993141095593, 'Young Allies (Marvel Comics)': 1.0, 'List of Marvel Comics characters: I#Iron Legion': 1.0, 'Daughters of the Dragon': 1.0, 'Hellions#The New Hellions': 1.0, 'America Redeemers': 0.9992800011546698, 'The Jury (comics)': 1.0, 'Defenders (comics)#\"Defenders for a Day\"': 1.0, 'World Counter-terrorism Agency': 1.0, 'Exiles (Marvel Comics)': 1.0, 'Alchemax': 0.9993129631786171, 'Sinister Twelve': 1.0, 'List of Avengers members#Astonishing Avengers (2014)': 0.9991799580025416, 'Skrull Kill Krew': 1.0, 'Heavy Hitters (comics)': 1.0, 'Avengers: The Initiative#Shadow Initiative': 1.0, 'Hounds (comics)': 0.9993141095593, 'Nextwave': 1.0, 'United States Marine Corps': 1.0, 'HYDRA (comics)': 1.0, 'Advanced Idea Mechanics#Avengers Idea Mechanics': 1.0, 'Age of Apocalypse': 1.0, 'Annihilation (comics)': 0.9991537733407564, 'Mighty Avengers (comics)': 1.0, 'Heralds of Galactus': 1.0, 'WildC.A.T.S.': 1.0, 'Young Masters': 1.0, 'Warriors Three': 1.0, 'The Crew (comics)': 1.0, 'Clan Chosen': 1.0, 'Six Pack (comics)': 0.997406511010771, 'Apocalypse: The Twelve': 0.99914605670267, 'Hellions': 0.9992281215957418, 'Hood (comics)': 1.0, 'Sgt. Fury and his Howling Commandos': 1.0, 'Parliament of the United Kingdom': 1.0, 'Tong (organization)': 1.0, 'Valkyrior (Marvel Comics)': 1.0, 'Roman Catholic Archdiocese of New York': 1.0, 'Warbound': 1.0, 'Legion Accursed': 1.0, 'Power Pack': 1.0, 'Freedom Force (comics)': 0.9977169733662861, 'Satan Squad': 1.0, 'Advanced Idea Mechanics': 0.9871790436187786, 'Folding Circle': 0.9989760304610301, 'Future Foundation': 0.996128727420105, 'Agents of Fortune (comics)': 1.0, 'Lemuria (comics)': 1.0, 'Avengers A.I.': 1.0, 'Holy See': 1.0, 'The Assembly of Evil': 0.99914605670267, 'Cat People (comics)': 1.0, 'Firm (comics)': 1.0, 'Central Intelligence Agency': 0.998608118883045, 'List of Fantastic Four members': 1.0, 'Morlocks (comics)': 0.9984609041207142, 'X-Club (comics)': 1.0, 'Fear Lords (comics)': 1.0, 'Inhumans': 0.9981636837861437, 'Skrull#Fall of the Skrull Empire': 1.0, 'Fantastic Four': 1.0, 'Roxxon Energy Corporation': 0.9966517968702164, 'Vanguard (Marvel Comics)#Vanguard': 0.998608118883045, 'Midnight Sons': 1.0, 'Heroes for Hire#Heroes for Hire (1996)': 1.0, 'Young Avengers': 0.9948100107533385, 'H.A.M.M.E.R.': 0.9982617188576011, \"Hellions (comics)#Emplate's Hellions\": 1.0, \"Xavier's Underground Enforcers\": 1.0, 'Anachronauts (comics)': 0.9993141095593, 'Starjammers': 1.0, 'Knights of Pendragon': 1.0, 'Teen Brigade': 1.0, 'Exiles (Malibu Comics)': 0.99914605670267, 'X-Mansion#Post X-Men: Schism': 0.9980386736761656, 'French Foreign Legion': 1.0, 'Redeemers (comics)': 0.99907183264743, 'Intelligencia (comics)': 1.0, 'Annihilators': 0.9980386736761656, 'Loners': 1.0, 'X-Treme X-Men#Volume 2': 1.0, 'Captain Britain Corps': 1.0, 'Brotherhood of Mutants#Ultimate Brotherhood': 1.0, 'Sentinel (comics)': 1.0, \"Hell's Belles\": 1.0, 'Xavier Security Enforcers': 1.0, \"Freedom's Five\": 1.0, 'Dark Riders': 1.0, 'Excalibur (comics)#New Excalibur (2005)': 1.0, 'Pride (comics)': 1.0, 'Project Spitfire': 1.0, 'Omega Flight': 0.9993106588806447, 'Alpha Flight': 0.9865775348328805, 'A-Next': 1.0, 'M.I.T.': 1.0, 'MI6': 1.0, 'The 198': 0.9991537733407564, 'List of Marvel Comics characters: I#Iron Avengers': 1.0, 'West Coast Avengers': 1.0, 'Damian Tryp': 1.0, 'Sinister Six#Sinister Twelve': 1.0, 'Agents of Atlas': 0.997406511010771, 'Night Thrasher': 1.0, 'Universal Inhumans': 1.0, 'New Warriors#Alternate versions': 1.0, 'Commission on Superhuman Activities': 0.9993118129588388, 'Official Handbook of the Marvel Universe A to Z': 1.0, 'Crazy Sues (comics)': 1.0, 'Technet (comics)': 1.0, 'Avengers West Coast': 1.0, 'Skeleton Crew (comics)': 1.0, 'Counter Force (Marvel Comics)': 1.0, 'Subterranea (comics)': 1.0, 'Slingers': 1.0, 'Phoenix Force (comics)#Avengers vs. X-Men': 1.0, 'Imperfects': 1.0, 'Askani': 0.99907183264743, 'Weapon Plus#Weapon VII': 1.0, 'Sisters of Sin': 1.0, 'G.B. Blackrock': 1.0, 'Brotherhood of Mutants': 0.9895002564766339, 'Point Men': 1.0, 'U.S. Army': 1.0, 'Avengers 1959': 1.0, 'Acts of Vengeance': 1.0, 'List of Xavier Institute students and staff#New Charles Xavier School for Mutants#Students': 1.0, \"Arm'Cheddon\": 1.0, 'Sentinel (comics)#Sentinel Squad O*N*E': 1.0, 'Thor Corps': 1.0, 'Edwin Cord': 1.0, 'Factor Three': 0.9982617188576011, 'Omega Flight#Canadian superhero team': 1.0, 'Exterminators (comics)': 1.0, 'Illuminati (comics)': 0.9969790418227595, 'Avengers Academy': 0.9840746487239709, 'Marvel Knights#Team': 1.0, 'NASA': 0.99914605670267, 'Alias (comics)': 1.0, 'Resistants': 1.0, 'Alpha Squadron (comics)': 1.0, 'X-Mansion': 1.0, 'Serpent Squad': 1.0, \"Death Squad (comics)#Black Lama's Death Squad\": 1.0, 'Department H': 0.9980386736761656, 'Mercs for Money': 0.9960285390406755, 'List of X-Men members#X-Men-In-Training (2006\\xe2\\x80\\x93present)': 1.0, 'Soviet Super-Troopers': 1.0, 'Inhuman Royal Family': 1.0, 'Fallen Angels (comics)': 0.9967325396874089, 'Federal government of the United States': 1.0, 'The New Avengers (comics)': 1.0, 'Acolytes (comics)': 0.9916139577735331, 'Revengers#Earth-616': 1.0, 'List of X-Men members#Muir Island X-Men (1989)': 1.0, 'United Front (comics)': 0.9991873989916448, 'United States Department of Defense': 1.0, 'Champions (1975 team)': 1.0, 'Reavers (comics)': 0.9990796581271845, 'The Order (comics)#Defenders offshoot': 1.0, 'Horseman of Apocalypse': 1.0, 'Deadpool Corps': 1.0, 'Force Works': 1.0, 'Ultraforce (comics)': 1.0, 'Defenders (comics)#The Offenders': 1.0, 'U.S.Avengers': 1.0, 'Civil War (comics)': 1.0, 'Supreme Intelligence': 1.0, 'Desert Sword': 0.9993129631786171, 'Dark Riders (comics)': 1.0, 'Hellfire Club (comics)#Hellfire Academy': 1.0, 'Secret Empire (organization)': 1.0, 'British Army': 1.0, 'Badoon': 0.99914605670267, 'MI-13 (comics)': 0.9914552329480157, 'Houston Police Department': 1.0, 'Dr. Octopus': 1.0, 'Hydra (Marvel Comics)': 0.9977041540982193, 'Dark Gods (comics)': 1.0, 'Elder Gods (Marvel Comics)': 1.0, 'Dark X-Men': 0.9987566911932706, 'Guardsman (comics)': 1.0, 'Cabal (comics)': 1.0, 'First Line (comics)': 1.0, 'Hammer Industries': 1.0, 'Atlantis (Marvel Comics)': 1.0, 'X-Terminators': 1.0, 'Bendis, Brian Michael': 1.0, 'The Mighty Avengers': 0.9914552329480157, 'Guardians of the Galaxy (1969 team)': 1.0, 'National Force': 1.0, 'Avengers (comics)': 0.9505869637306638, 'Eternals (comics)': 0.9967325396874089, 'Bandit (comics)': 1.0, 'V-Battalion': 0.997406511010771, 'Empire State University': 0.9992281215957418, 'Hulkbusters': 1.0, 'Bacchae (comics)': 1.0, 'Centers for Disease Control': 1.0, 'Weapon X#Second installment': 1.0, 'A-Force': 1.0, 'Cross Technological Enterprises': 1.0, 'Weapon Plus': 0.9992281215957418, 'Hellions#Hellions (Xavier Institute)': 1.0, 'New York City Police Department': 0.998608118883045, 'Black Air': 1.0, 'Apocalypse (comics)': 1.0, 'Young Allies (Marvel Comics)#Heroic Age': 1.0, 'Imperial Guard (comics)': 1.0, 'Maggia (comics)': 0.9802459381527207, 'Fantastic Five': 1.0, 'The Ultimates': 1.0, \"Salem's Seven\": 1.0, 'New Excalibur': 1.0, 'Liberty Legion#Liberteens (2007)': 1.0, 'Flashmob (comics)': 1.0, 'Avengers: The Initiative': 0.992235613210355, 'Titanic Three': 1.0, 'Dream Team (comics)': 1.0, 'Olympians (comics)': 1.0, 'Heroes for Hire#Heroes for Hire (2006)': 1.0, 'Warpies': 1.0, 'Elders of the Universe': 1.0, 'Schutz Heiliggruppe': 0.9993141095593, 'MI16': 1.0, 'Deadpool': 1.0, 'Godzilla Squad': 1.0, 'New Mutants#The New Mutants, vol. 2': 1.0, 'X-Force (comics)': 1.0, 'Spider-Man Unlimited': 1.0, 'Winter Guard': 0.998608118883045, 'The Hand (comics)': 0.9966554551599567, 'Code: Blue': 1.0, 'Young Allies (Marvel Comics)#Counter-Earth': 1.0, 'Grapplers (comics)': 0.9993118129588388, 'Marauders (comics)': 0.9966554551599567, 'Office of National Emergency': 1.0, 'Starforce (comics)': 1.0, 'Secret Intelligence Service': 1.0, 'S.H.I.E.L.D.': 0.9906157951168634, 'Hellfire Club (comics)': 0.9968999492132701, 'Magistrates (comics)': 1.0, 'Inuit': 1.0, 'Initiative (comics)': 1.0, 'Invaders (comics)': 1.0, 'Blade (comics)': 1.0, 'AXIS (comics)': 1.0, 'Spaceknights': 1.0, \"People's Republic of China\": 1.0, 'Yancy Street Gang': 1.0, 'X-Treme X-Men#Volume 1': 1.0, 'Nasty Boys': 1.0, 'Imperial Japanese Army': 1.0, 'Cheyarafim': 1.0, 'Mighty Avengers': 1.0, 'Roman Senate': 1.0, 'Amazons': 1.0, 'Arthur Adams (comics)': 1.0, 'Wild Pack#Intruders': 1.0, 'The Intruders (comics)': 1.0, 'Uncanny X-Force': 1.0, 'Legion of Losers': 1.0, 'Church of Hala': 1.0, 'Daily Bugle': 0.9988272093348345, 'Night Shift (comics)': 0.9990796581271845, 'Project Pegasus': 1.0, 'List of Xavier Institute students and staff#Students': 0.9849127552859042, 'Weapon X#The Facility': 1.0, 'Rangers (comics)': 0.997406511010771, 'The New Avengers (comic)': 1.0, 'Micronauts (comics)': 1.0, 'X-Men: The 198': 0.9980666635305986, 'Sons of the Tiger': 1.0, 'Secret Warriors (2017 series)': 1.0, 'New York City': 1.0, 'The Outlaws (comics)': 1.0, 'British army': 1.0, 'New York Police Department': 1.0, 'X-Force': 0.977683290472089, 'X-Factor (comics)': 0.9934187540568011, 'Circus of Crime': 0.9960782656484151, 'Agent X (Marvel Comics)': 1.0, 'Crazy Gang (comics)': 1.0, 'Beyonders': 1.0, 'Upstarts (comics)': 1.0, 'X-Men 2099': 1.0, 'Mutant Force': 1.0, 'SS-Oberf\\xc3\\xbchrer': 1.0, 'Freedom Force (comics)#Initiative Freedom Force': 0.9993141095593, 'Gamma Corps': 1.0, 'Villains for Hire': 1.0, 'United States Navy': 1.0, 'United States Air Force': 0.9992618718628551, 'Pacific Overlords': 0.99907183264743, \"List of Avengers members#Fury's Black Ops Initiative (1959)\": 0.9980386736761656, 'US Military': 1.0, 'Pantheon (Marvel Comics)': 0.998608118883045, 'MI-13 (Marvel Comics)': 1.0, 'New Canaanites': 1.0, 'Stark Industries': 0.9978964263697896, 'Defenders (comics)#Secret Defenders': 0.998608118883045, 'New X-Men': 1.0, 'The Order (comics)': 1.0, 'S.W.O.R.D. (comics)': 1.0, 'Lockjaw and the Pet Avengers': 1.0, 'Marvel Knights#Marvel Knights as a team': 1.0, 'Conspiracy (comics)': 1.0, 'Super-Axis': 1.0, 'Council of God-Heads': 1.0, 'Externals': 1.0, 'Witches (Marvel Comics)': 1.0, 'Asgard (comics)': 0.998608118883045, 'ULTIMATUM (comics)': 1.0, 'Maximum Carnage': 1.0, 'Secret Warriors (Team White)': 1.0, 'Weapon X': 0.9982874915911572, 'Weapon P.R.I.M.E.': 0.998608118883045, 'Power Tools (comics)': 1.0, 'Wolverine and the X-Men (comics)': 1.0, 'Shadow-X': 1.0, 'Marvel Knights': 1.0, 'Nova Corps': 0.9993118129588388, 'Omega Gang': 1.0, 'U.S. Air Force': 1.0, 'Institute of Evil': 1.0, 'Heavy Metal (Marvel Comics)': 0.9993141095593, 'Williams Innovations': 1.0, 'Exiles (Red Skull allies)': 1.0, \"Thieves' Guild\": 1.0, 'Ultimate Comics: New Ultimates': 1.0, 'Mossad': 1.0, 'United States Army': 0.9992235785951005, 'Wrecking Crew (comics)': 1.0, 'Doctor Strange': 1.0, 'Hope Summers (comics)#Generation Hope': 1.0, 'Legion of Night': 1.0, 'Nightstalkers (comics)': 1.0, 'Wild Pack': 0.997406511010771, 'Roxxon': 1.0, 'Guardians of the Galaxy (2008 team)': 1.0, 'Death-Throws': 1.0, 'The Twelve (comics)': 1.0, 'Phalanx': 1.0, 'All-Winners Squad': 1.0, 'Gladiators (comics)': 1.0, 'The Chaste': 1.0, 'Fantastic Four Incorporated': 1.0, 'Brood (comics)': 1.0, 'Immortal Weapons': 0.9993141095593, 'Nazi Party': 1.0, 'Infinity Watch': 0.9980386736761656, 'Clan Akkaba': 0.9977041540982193, 'Thunderbolts (comic)': 1.0, 'Astronaut': 1.0, 'Weapon Plus#Weapon I': 1.0, 'Attuma': 1.0, 'Fearsome Foursome (comics)': 1.0, 'Brotherhood of Mutants#Sisterhood of Mutants': 1.0, 'World War Hulk': 1.0, 'Beta Flight': 1.0, 'NSA': 1.0, 'Sinister Six': 1.0, \"Shi'ar Imperial Guard\": 1.0, 'All-New X-Factor': 1.0, \"Lady Liberators (comics)#She-Hulk's team\": 1.0, 'Supernova (Marvel Comics)': 1.0, 'Champions of Xandar': 1.0, 'MODOK': 1.0, 'Unlimited Class Wrestling Federation': 0.997406511010771, 'Roxxon Oil': 0.9992281215957418, 'Young Allies': 1.0, 'Drain Dwellers': 1.0, 'Yakuza': 1.0, 'Oscorp': 1.0, 'Red Mafia': 1.0, 'Friends of Humanity': 1.0, 'Assembly of Evil': 1.0, 'Action Pack (comics)': 1.0, 'Prime Sentinel': 1.0, 'New Warriors#New Warriors (vol. 5)': 1.0, \"People's Defense Force (China)\": 1.0, 'Runaways (comics)': 0.995479966765142, 'New Men (Marvel Comics)': 1.0, 'X-Corporation': 0.9912341127925857, 'New Mutants': 0.9857471365408851, 'X-Treme Sanctions Executive': 1.0, 'Neyaphem': 1.0, 'Kree': 0.998608118883045, 'Klaw (Marvel Comics)': 1.0, 'Thunderiders': 1.0, 'Negative Zone': 1.0, 'Hank Pym': 1.0, 'List of X-Men members#Street Team X-Men (2004)': 1.0, 'List of Xavier Institute students and staff#Jean Grey School for Higher Learning': 1.0, 'Desert Stars': 1.0, 'Lethal Legion': 0.9930688341492587, \"People's Protectorate\": 1.0, 'Uncanny Avengers': 1.0, 'Shadow Initiative': 0.99914605670267, \"Masters of Evil#Max Fury's Masters of Evil\": 1.0, 'Theatre of Pain': 1.0, 'The Right (comics)': 1.0, \"Mandarin's Minions\": 1.0, 'S.H.I.E.L.D.#Ultimate S.H.I.E.L.D.': 1.0, 'Psionex': 0.9993141095593, 'Lady Liberators (comics)': 1.0, 'Sentinels (comics)': 1.0, 'X-People': 1.0, 'SHIELD': 1.0, 'Landau, Luckman, and Lake': 1.0, 'Crusaders (Marvel Comics)': 1.0, 'Death Squad (comics)': 1.0, 'Purifiers': 0.9944705930687453, 'Nazi Germany': 1.0, 'Young Allies (Marvel Comics)#Heroes Reborn': 1.0, 'Skrull': 0.9993118129588388, 'Fifty State Initiative': 1.0, 'BAD Girls, Inc.': 1.0, 'H.A.T.E.': 1.0, 'Mutant Liberation Front': 0.9973608931378926, 'Night People (comics)': 1.0, 'O-Force': 1.0, 'Project Wideawake': 1.0, 'Dark Illuminati': 1.0, 'Outcasts (Marvel Comics Subterranea)': 1.0, 'Maggia (comics)#The Costa Family': 1.0, 'List of Marvel Comics demons#Fear Lords': 1.0, 'Emissaries of Evil': 1.0, 'Gamma Flight': 1.0, 'S.T.A.K.E.': 1.0, 'Xavier Institute student body': 1.0, 'Masters of Evil': 0.9629388407678819, 'Alliance of Evil (comics)': 1.0, 'Legion of Monsters': 1.0, 'Femizons': 0.9894278625339751, 'Zodiac (comics)': 0.9930688341492587, 'Team X (comics)': 1.0, 'Savage Six': 0.9993141095593, \"Batroc's Brigade\": 1.0, 'Cult of Kali': 1.0, 'Genetix (comics)': 1.0, 'Agency X': 1.0, 'Savage Land Mutates': 1.0, 'Immortus': 1.0, 'X-Cell': 1.0, 'Galactic Council': 1.0, 'Sinister Syndicate': 1.0, 'Howling Commandos#Howling Commandos of S.H.I.E.L.D.': 1.0, 'R.C.X.': 1.0, 'Carnage (comics)': 1.0, 'Genosha': 1.0, 'Squadron Supreme (Supreme Power)': 1.0, 'Alliance of Evil': 1.0, 'New Avengers (comic)': 1.0, 'Paragons (comics)': 1.0, 'Cherubim (comics)': 1.0, 'Walt Simonson': 1.0, 'X-Men (comics)': 1.0, 'New Avengers (comics)': 0.99907183264743, 'Russia': 1.0, 'Great Lakes Avengers': 1.0, 'Kronas Corporation': 1.0, 'MI5': 1.0, 'Right (comics)': 1.0, 'Legion of the Unliving': 0.9990783861889825, 'Valkyrior': 0.99907183264743, 'The Spider Society': 1.0, \"Shi'ar\": 0.998620615740376, 'Defenders (comics)#Defenders 2099': 1.0, 'Serpent Society': 1.0, 'Heavy Mettle': 1.0, 'Monster Hunters': 1.0, 'Goodman, Lieber, Kurtzberg & Holliway': 1.0, 'Corporation (comics)': 1.0, 'Inner Guard (comics)': 1.0, 'Soviet Super-Soldiers': 0.9991537733407564, 'Dracula (Marvel Comics)': 1.0, 'Children of the Vault': 1.0, 'David Marquez (comics)': 1.0, 'Federal Bureau of Investigation': 0.9993141095593, 'Squadron Supreme': 0.9976776177827152, 'X.S.E': 1.0, 'Squadron Sinister': 0.9993141095593, 'Excalibur (comics)': 0.9842403208423465, 'FLQ': 1.0, 'Fantastic Force': 1.0, 'Freaks (Marvel Comics)': 1.0, 'NATO': 1.0, 'Mister X (Marvel Comics)': 1.0, 'Liberty Legion': 1.0, 'Batroc the Leaper': 1.0, 'Roxxon Oil Company': 1.0, 'Fearless Defenders': 0.9993141095593, 'Howling Commandos': 1.0, 'Heavy Metal (comics)': 1.0, 'Galactic Guardians': 1.0, 'X-Corps': 0.9993106588806447, 'Watcher (comics)': 1.0, 'Madripoor': 1.0, 'Chitauri': 1.0, 'Deep Six (Marvel Comics)': 1.0, 'Marvel Super Hero Contest of Champions': 1.0, 'Camelot': 1.0, 'Lady Liberators': 0.9980386736761656, 'Fellowship of Fear': 1.0, 'U-Foes': 1.0, 'Olympians (Marvel Comics)': 0.9993118129588388, 'God Squad (comics)': 0.9978964263697896, 'Secret Avengers': 0.9906572791284921, 'Supreme Power': 1.0, 'Damage Control (comics)': 0.9980386736761656, 'FBI': 0.9993141095593, 'Phalanx (comics)': 0.998620615740376, 'The Transformers (Marvel Comics)': 1.0, 'Sinister Sixteen': 1.0, 'Eternal (comics)': 1.0, 'Royal Canadian Mounted Police': 1.0, 'Big Hero 6 (comics)': 1.0, 'Generation X (comics)': 0.9930268839002012, 'Nazis': 1.0, 'United Nations': 1.0, 'Operation: Zero Tolerance': 1.0, 'Hell-lords': 1.0, 'Fear Itself (comics)': 0.9977041540982193, 'Lords of the Splinter Realms': 1.0, 'Freelance Restorations': 1.0, 'X-Nation 2099': 1.0, 'Sapien League': 1.0, 'List of X-Men members#Other student squads (2003\\xe2\\x80\\x932006)': 1.0, 'Technarchy': 1.0, 'Weapon X#Fourth installment': 1.0, 'Viper (Marvel Comics)': 1.0, 'Defenders (comics)#The Last Defenders': 1.0, 'Heroes for Hire': 0.9823881257360824, 'Herald of Galactus': 0.9991873989916448, 'Committee (comics)': 1.0, 'Deviant (comics)': 1.0, 'Generation Hope (comics)': 1.0, 'Fin Fang Four': 1.0, 'Ultimate Fantastic Four': 1.0, 'Black Spectre': 1.0, 'Loners (comics)': 0.99907183264743, 'Future Foundation#Ultimate Marvel': 1.0, \"Humanity's Last Stand\": 1.0, 'List of X-Men members#Genoshan Assault X-Men (2001)': 1.0, 'Gene Nation': 0.9964757547294502, 'Mindless Ones': 1.0, 'Crusades': 1.0, 'U-Men (comics)': 1.0, 'Hellions (comics)': 0.9992054032486569, 'Frightful Four': 0.9945000900347375, 'Sons of Yinsen': 1.0, \"Mandarin's Avengers\": 1.0, 'KGB': 0.9992800011546698, 'Scourges of the Underworld': 1.0, \"Women's Army Corps\": 1.0, 'Spider-Verse#Secret Wars (2015)': 1.0, 'Champions (2016 team)': 1.0, 'Providence (comics)': 1.0}\n"
     ]
    }
   ],
   "source": [
    "team_e_splits = dict()\n",
    "for team in teams:\n",
    "    team_e_splits[team] = compute_average_entropy(X, y, teams, team)\n",
    "print team_e_splits"
   ]
  },
  {
   "cell_type": "markdown",
   "metadata": {
    "ExecuteTime": {
     "end_time": "2017-08-23T14:01:10.834257Z",
     "start_time": "2017-08-23T14:01:10.826472Z"
    }
   },
   "source": [
    ">**Ex. 5.1.3**: Print the maximum entropy path of a decision tree.\n",
    ">\n",
    ">1. Implement the following pseudocode and print the output:<br><br>\n",
    ">Step 1. Find `team` that gives lowest split entropy for `data`. Print `team`.<br>\n",
    ">Step 2. Split `data` on `team`, to produce `data0` and `data1`. Print the entropy of each, as well as their weighted avg. entropy.<br>\n",
    ">Step 3. Overwrite the `data` variable with either `data0` or `data1`, depending on which has the highest entropy.<br>\n",
    ">Step 4. Stop if there are less than 5 datapoints in `data`. Otherwise start over from 1.<br><br>\n",
    ">My output looks [like this](http://ulfaslak.com/computational_analysis_of_big_data/exer_figures/example_6.2.3.1.png) for the first five splits.<br><br>\n",
    ">\n",
    ">2. Comment on decision path your code takes: How splits are there? Do you notice anything interesting about the final splits? Why do we choose to stop splitting before `data` get smaller than 5?\n",
    ">3. Train a `sklearn.tree.DecisionTreeClassifier` classifier on the dataset. Initiate the classifier with `criterion='entropy'`. What are the most important features of this classifier? How does this line up with the order of the order of splits you just printed (a comment is fine)?"
   ]
  },
  {
   "cell_type": "code",
   "execution_count": 86,
   "metadata": {},
   "outputs": [
    {
     "name": "stdout",
     "output_type": "stream",
     "text": [
      "Lowest split: Avengers (comics)\n",
      "0.9505869637306638\n"
     ]
    }
   ],
   "source": [
    "# 1.) Lowest split entroy\n",
    "minimum_split = 1.\n",
    "min_team = \"\"\n",
    "for key in team_e_splits:\n",
    "    if team_e_splits[key] < minimum_split:\n",
    "        minimum_split = team_e_splits[key]\n",
    "        min_team = key\n",
    "print \"Lowest split: \" + min_team\n",
    "# 2.) \n",
    "print compute_average_entropy(X, y, teams, min_team)"
   ]
  },
  {
   "cell_type": "markdown",
   "metadata": {},
   "source": [
    "### Principle component analysis (PCA)"
   ]
  },
  {
   "cell_type": "markdown",
   "metadata": {},
   "source": [
    "The point of this exercise is to learn how to visualize high-dimensional data, and get a feeling of how your Marvel data looks when projected to a plane."
   ]
  },
  {
   "cell_type": "markdown",
   "metadata": {
    "ExecuteTime": {
     "end_time": "2017-08-23T14:01:10.834257Z",
     "start_time": "2017-08-23T14:01:10.826472Z"
    }
   },
   "source": [
    ">**Ex. 5.2.1**: Apply a PCA to your data. If `X` is your feature matrix, a PCA can be done like:\n",
    "\n",
    ">        pca = sklearn.decomposition.PCA()\n",
    ">        pca.fit(X)\n",
    ">        X_pca = pca.transform(X)\n",
    "\n",
    ">1. What is the dimensionality of `X_pca` compared to `X`? What happened to `X` when you transformed it?\n",
    "2. Plot the first two components/columns of the transformed data and color the points by their class label. My plot looks [like this](http://ulfaslak.com/computational_analysis_of_big_data/exer_figures/example_6.1.1.2.png). Comment on the result. What would plotting two other components against each other show you?\n",
    "3. Plot the explained variance ratio of each component. What does this tell you about the dataset? My plot looks [like this](http://ulfaslak.com/computational_analysis_of_big_data/exer_figures/example_6.1.1.3.png).\n",
    "\n",
    ">*Hint for 2: `plt.scatter` takes an argument `color` which must receive either a string such as `red` or `blue`, or a list of rgb values or strings such as `['red', 'blue', 'blue', ...]`.*"
   ]
  },
  {
   "cell_type": "code",
   "execution_count": 12,
   "metadata": {},
   "outputs": [
    {
     "name": "stdout",
     "output_type": "stream",
     "text": [
      "[[-1.26523052e-01 -3.43691208e-02 -1.29205686e-01 ... -1.28030724e-16\n",
      "   7.31294365e-17 -1.33299269e-16]\n",
      " [-1.24676798e-01 -6.09176717e-02 -1.04788984e-01 ...  7.85639999e-17\n",
      "  -5.29632761e-17  2.84636952e-17]\n",
      " [-1.17666228e-01 -6.77514415e-02 -9.77505749e-02 ... -4.31919040e-17\n",
      "  -4.85451523e-17 -1.85906791e-17]\n",
      " ...\n",
      " [-1.54304635e-01  2.15674970e-01  4.54697385e-01 ...  3.12927852e-17\n",
      "  -1.50162001e-17  2.82468547e-17]\n",
      " [-1.45322338e-01 -5.16844087e-02 -3.25874370e-02 ...  1.07878116e-17\n",
      "   3.47757847e-17  9.75544786e-17]\n",
      " [-1.61956482e-01 -4.88637108e-03  2.37140920e-02 ...  2.11419424e-18\n",
      "   7.18554990e-17  1.77267055e-17]]\n"
     ]
    }
   ],
   "source": [
    "from sklearn.decomposition import PCA\n",
    "pca = PCA()\n",
    "pca.fit(X)\n",
    "X_pca = pca.transform(X)\n",
    "print(X_pca)"
   ]
  },
  {
   "cell_type": "code",
   "execution_count": null,
   "metadata": {
    "collapsed": true
   },
   "outputs": [],
   "source": []
  }
 ],
 "metadata": {
  "kernelspec": {
   "display_name": "Python 2",
   "language": "python",
   "name": "python2"
  },
  "language_info": {
   "codemirror_mode": {
    "name": "ipython",
    "version": 2
   },
   "file_extension": ".py",
   "mimetype": "text/x-python",
   "name": "python",
   "nbconvert_exporter": "python",
   "pygments_lexer": "ipython2",
   "version": "2.7.10"
  },
  "nav_menu": {},
  "toc": {
   "navigate_menu": true,
   "number_sections": false,
   "sideBar": true,
   "threshold": 6,
   "toc_cell": false,
   "toc_section_display": "block",
   "toc_window_display": true
  }
 },
 "nbformat": 4,
 "nbformat_minor": 2
}
