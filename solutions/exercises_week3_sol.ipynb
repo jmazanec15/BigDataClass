{
 "cells": [
  {
   "cell_type": "markdown",
   "metadata": {},
   "source": [
    "> **DO NOT EDIT IF INSIDE `computational_analysis_of_big_data_2018_spring` folder** "
   ]
  },
  {
   "cell_type": "markdown",
   "metadata": {},
   "source": [
    "# Week 3: Getting data—scraping and APIs."
   ]
  },
  {
   "cell_type": "markdown",
   "metadata": {},
   "source": [
    "*Thursday, February 1, 2018*"
   ]
  },
  {
   "cell_type": "markdown",
   "metadata": {
    "ExecuteTime": {
     "end_time": "2017-08-23T15:30:03.634114Z",
     "start_time": "2017-08-23T15:30:03.629294Z"
    }
   },
   "source": [
    "This week is about getting data from the big ol' Internet, with the Wikipedia as our guinea pig. The main task today is to retrieve the Wikipedia pages of **all Marvel characters** using the MediaWiki **API**. There are three parts to this exercise.\n",
    "\n",
    "* Learn the basics of how to retrieve data from Wiki sites using the MediaWiki API\n",
    "* Download all Marvel character Wikipedia articles\n",
    "* Explore the data\n",
    "\n",
    "The data you acquire today, you will be working with for the remainder of the course. Try to get as far as possible, structure the data nicely and write your code so that it makes sense to you in the coming weeks.\n",
    "\n",
    "Also, there's an **important practice** you should start getting used to—which matters when we grade assignments. \n",
    "1. Openly reflect on how you solve a problem. It can be code comments, or markup below/above the code cell, just as long as you share your thoughts. \n",
    "2. Comment on your results, discussing:\n",
    "    * Whether they make sense\n",
    "    * If they look somewhat as you expected, and if not, what the reasons for this difference may be\n",
    "    * What—interesting or not—insight they reveal about the given system you analyze\n",
    "    \n",
    "    *Note: of course you can't always say something profound about every little thing, so rest assured, I will only expect explanations in your assignments when *it makes sense* that there should be one.*\n",
    "\n",
    "**Feedback:** Send me anonymous feedback about the exercises, lectures and course in general at http://ulfaslak.com/vent."
   ]
  },
  {
   "cell_type": "markdown",
   "metadata": {},
   "source": [
    "## Exercises"
   ]
  },
  {
   "cell_type": "markdown",
   "metadata": {},
   "source": [
    "**Why use an API?** You could just go ahead and scrape the HTML from a Wikipedia page as simple as:\n",
    "\n",
    "    import requests as rq\n",
    "    rq.get(\"https://en.wikipedia.org/wiki/Batman\").text\n",
    "    \n",
    "Well... to navigate data in XML format is not always easy. Therefore, MediaWiki offers its users direct use of its API. To load the MediaWiki markup using the API, one would do something like:\n",
    "\n",
    "    rq.get(\"https://en.wikipedia.org/w/api.php?format=json&action=query&titles=Batman&prop=revisions&rvprop=content\").json()\n",
    "    \n",
    "This returns a JSON object inside which you can find all sorts of information about the page, including the latest revision of the Batman page markup."
   ]
  },
  {
   "cell_type": "markdown",
   "metadata": {},
   "source": [
    "**Helpful code to display JSON object as a tree**"
   ]
  },
  {
   "cell_type": "code",
   "execution_count": 1,
   "metadata": {
    "ExecuteTime": {
     "end_time": "2017-09-27T14:42:46.309956Z",
     "start_time": "2017-09-27T14:42:45.976698Z"
    },
    "run_control": {
     "frozen": false,
     "read_only": false
    }
   },
   "outputs": [
    {
     "name": "stdout",
     "output_type": "stream",
     "text": [
      "batchcomplete : unicode - 0\n",
      "query\n",
      "    pages\n",
      "        4335\n",
      "            ns : int - 1\n",
      "            pageid : int - 4\n",
      "            revisions : list - 140431\n",
      "            title : unicode - 6\n"
     ]
    }
   ],
   "source": [
    "def print_json_tree(d, indent=0):\n",
    "    \"\"\"Print tree of keys in JSON object.\n",
    "    \n",
    "    Prints the different levels of nested keys in a JSON object. When there\n",
    "    are no more dictionaries to key into, prints objects type and byte-size.\n",
    "\n",
    "    Input\n",
    "    -----\n",
    "    d : dict\n",
    "    \"\"\"\n",
    "    for key, value in d.iteritems():\n",
    "        print '    ' * indent + unicode(key),\n",
    "        if isinstance(value, dict):\n",
    "            print; print_json_tree(value, indent+1)\n",
    "        else:\n",
    "            print \":\", str(type(d[key])).split(\"'\")[1], \"-\", str(len(unicode(d[key])))\n",
    "            \n",
    "# Example\n",
    "import requests as rq\n",
    "data = rq.get(\"https://en.wikipedia.org/w/api.php?format=json&action=query&titles=Batman&prop=revisions&rvprop=content\").json()\n",
    "print_json_tree(data)"
   ]
  },
  {
   "cell_type": "markdown",
   "metadata": {},
   "source": [
    "### Part 0: Learn to access Wikipedia data with Python"
   ]
  },
  {
   "cell_type": "markdown",
   "metadata": {},
   "source": [
    "Figure out how Wikipedia markup works .You'll need to know a bit about formatting of MediaWiki pages so that you can parse the markup that you retrieve from wikipedia. See http://www.mediawiki.org/wiki/Help:Formatting. In particular, look into how links work and how tables work and make sure you can answer the following questions."
   ]
  },
  {
   "cell_type": "markdown",
   "metadata": {},
   "source": [
    ">**Ex. 3.0.1**: How do you link to another Wikipedia page from within a Wikipedia-page, using the wikimedia markup? Write down a simple example that links to a specific section in another page."
   ]
  },
  {
   "cell_type": "markdown",
   "metadata": {},
   "source": [
    "`[[Fox Broadcasting Company|Fox]]` In the finished article, the text will read 'Fox', and link to the article called 'Fox Broadcasting Company'."
   ]
  },
  {
   "cell_type": "markdown",
   "metadata": {},
   "source": [
    "> **Ex. 3.0.2**: What is the MediaWiki markup to create a simple table like the one below?\n",
    "\n",
    ">| True Positive  | False Positive |\n",
    "| -------------- |:--------------:|\n",
    "| False Negative | True Negative  |"
   ]
  },
  {
   "cell_type": "markdown",
   "metadata": {},
   "source": [
    "> **Ex. 3.0.3**: Figure out how to download pages from Wikipedia. Familiarize yourself with [the API](http://www.mediawiki.org/wiki/API:Main_page) and learn how to extract the markup. The API query that returns the markup of the Batman page is:\n",
    "    \n",
    ">`api.php?format=json&action=query&titles=Batman&prop=revisions&rvprop=content`\n",
    "\n",
    ">1. Explain the structure of this query. What are the parameters and arguments and what do they mean? What happens if you remove `rvprop=content`?\n",
    "2. Download the Batman page data from the API. Extract the markup from the JSON object and save it to a file called \"batman.txt\"."
   ]
  },
  {
   "cell_type": "markdown",
   "metadata": {},
   "source": [
    "format: What type do you want the data in? <br>\n",
    "action: What to do in your request (get data, remove data, write?)<br>\n",
    "titles: What pages to get (delimited by \"|\")<br>\n",
    "prop: What to get from the page (could have also been images, links, etc).<br>\n",
    "rvprop: What content to get from the revision (if prop=revision)<br>"
   ]
  },
  {
   "cell_type": "markdown",
   "metadata": {},
   "source": [
    "### Part 1: Get data (main part)"
   ]
  },
  {
   "cell_type": "markdown",
   "metadata": {},
   "source": [
    "For a good part of this course we will be working with data from Wikipedia. Today, your objective is to crawl a large dataset with good and bad characters from the Marvel characters."
   ]
  },
  {
   "cell_type": "markdown",
   "metadata": {
    "ExecuteTime": {
     "end_time": "2017-08-23T14:01:10.834257Z",
     "start_time": "2017-08-23T14:01:10.826472Z"
    }
   },
   "source": [
    ">**Ex. 3.1.1**: From the Wikipedia API, get a list of all Marvel superheroes and another list of all Marvel supervillains. Use 'Category:Marvel_Comics_supervillains' and 'Category:Marvel_Comics_superheroes' to get the characters in each category.\n",
    "1. How many superheroes are there? How many supervillains?\n",
    "2. How many characters are both heroes and villains? What is the Jaccard similarity between the two groups?\n",
    "\n",
    ">*Hint: Google something like \"get list all pages in category wikimedia api\" if you're struggling with the query.*"
   ]
  },
  {
   "cell_type": "markdown",
   "metadata": {
    "ExecuteTime": {
     "end_time": "2017-08-23T14:01:10.834257Z",
     "start_time": "2017-08-23T14:01:10.826472Z"
    }
   },
   "source": [
    ">**Ex. 3.1.2**: Using this list you now want to download all data you can about each character. However, because this is potentially Big Data, you cannot store it your computer's memory. Therefore, you have to store it in your harddrive somehow. \n",
    "* Create three folders on your computer, one for *heroes*, one for *villains*, and one for *ambiguous*.\n",
    "* For each character, download the markup on their pages and save in a new file in the corresponding hero/villain/ambiguous folder.\n",
    "\n",
    ">*Hint: Some of the characters have funky names. The first problem you may encounter is problems with encoding. To solve that you can call `.encode('utf-8')` on your markup string. Another problem you may encounter is that characters have a slash in their names. This, you should just replace with some other meaningful character.*"
   ]
  },
  {
   "cell_type": "code",
   "execution_count": null,
   "metadata": {},
   "outputs": [],
   "source": [
    "for c in set(superheroes) | set(supervillains):\n",
    "    \n",
    "    # Find the right folder for the character\n",
    "    if c in superheroes and c in supervillains:\n",
    "        folder = \"ambiguous\"\n",
    "    elif c in superheroes:\n",
    "        folder = \"heroes\"\n",
    "    elif c in supervillains:\n",
    "        folder = \"villains\"\n",
    "    \n",
    "    # Only download new pages\n",
    "    if c[0] + \".txt\" in os.listdir('../../data/%s' % folder):\n",
    "        continue\n",
    "\n",
    "    # Replace slash with dash\n",
    "    if \"/\" in c[0]:\n",
    "        c = (c[0].replace(\"/\", \"-\"), c[1])\n",
    "    \n",
    "    # Get the data\n",
    "    data = rq.get(\n",
    "        \"https://en.wikipedia.org/w/api.php?&prop=revisions&rvprop=content&action=query&pageids=%d&format=json\" % c[1]\n",
    "    ).json()\n",
    "    \n",
    "    # Get the markup\n",
    "    markup = data['query']['pages'].values()[0]['revisions'][0]['*']\n",
    "    \n",
    "    # Save it\n",
    "    with open(\"../../data/%s/%s.txt\" % (folder, c[0]), 'w') as fp:\n",
    "        fp.write(markup.encode('utf-8'))"
   ]
  },
  {
   "cell_type": "markdown",
   "metadata": {},
   "source": [
    "### Part 2: Explore data"
   ]
  },
  {
   "cell_type": "markdown",
   "metadata": {},
   "source": [
    "#### Page lengths"
   ]
  },
  {
   "cell_type": "markdown",
   "metadata": {},
   "source": [
    ">**Ex. 3.2.1**: Extract the length of the page of each character, and plot the distribution of this variable for each class (heroes/villains/ambiguous). Can you say anything about the popularity of characters in the Marvel universe based on your visualization?\n",
    "\n",
    ">*Hint: The simplest thing is to make a probability mass function, i.e. a normalized histogram. Use `plt.hist` on a list of page lengths, with the argument `normed=True`. Other distribution plots are fine too, though.*"
   ]
  },
  {
   "cell_type": "markdown",
   "metadata": {},
   "source": [
    ">**Ex. 3.2.2**: Find the 10 characters from each class with the longest Wikipedia pages. Visualize their page lengths with bar charts. Comment on the result."
   ]
  },
  {
   "cell_type": "markdown",
   "metadata": {},
   "source": [
    "#### Timeline"
   ]
  },
  {
   "cell_type": "markdown",
   "metadata": {},
   "source": [
    ">**Ex. 3.2.3**: We are interested in knowing if there is a time-trend in the debut of characters.\n",
    "* Extract into three lists, debut years of heroes, villains, and ambiguous characters.\n",
    "* Do all pages have a debut year? Do some have multiple? How do you handle these inconsistencies?\n",
    "* For each class, visualize the amount of characters introduced over time. You choose how you want to visualize this data, but please comment on your choice. Also comment on the outcome of your analysis.\n",
    "\n",
    ">*Hint: The debut year is given on the debut row in the info table of a character's Wiki-page. There are many ways that you can extract this variable. You should try to have a go at it yourself, but if you are short on time, you can use this horribly ugly regular expression code:*\n",
    "\n",
    ">*`re.findall(r\"\\d{4}\\)\", re.findall(r\"debut.+?\\n\", markup_text)[0])[0][:-1]`*"
   ]
  },
  {
   "cell_type": "markdown",
   "metadata": {},
   "source": [
    "#### Alliances"
   ]
  },
  {
   "cell_type": "markdown",
   "metadata": {},
   "source": [
    ">**Ex. 3.2.4**: In this exercise you want to find out what the biggest alliances in the Marvel universe are. The data you need for doing this is in the *alliances*-field of the markup of each character. Below I suggest steps you can take to solve the problem if you get stuck.\n",
    "* Write a regex that extracts the *alliances*-field of a character's markup.\n",
    "* Write a regex that extracts each team from the *alliance*-field.\n",
    "* Count the number of members for each team (hint: use a `defaultdict`).\n",
    "* Inspect your team names. Are there any that result from inconsistencies in the information on the pages? How do you deal with this?\n",
    "* **Print the 10 largest alliances and their number of members.**"
   ]
  },
  {
   "cell_type": "code",
   "execution_count": 19,
   "metadata": {},
   "outputs": [],
   "source": [
    "from collections import defaultdict\n",
    "import os, re\n",
    "\n",
    "team_characters = defaultdict(list)\n",
    "\n",
    "def populate_team_characters(cla):\n",
    "    for c in os.listdir(\"../../data/\" + cla):\n",
    "        \n",
    "        # Load character markup\n",
    "        with open(\"../../data/%s/%s\" % (cla, c)) as fp:\n",
    "            markup = fp.read()\n",
    "    \n",
    "        # Get alliance field\n",
    "        alliances_field = re.findall(r\"alliances[\\w\\W]+?\\n\", markup)\n",
    "        if alliances_field == []:\n",
    "            continue\n",
    "        \n",
    "        # Extract teams from alliance field\n",
    "        teams = re.findall(r\"\\[\\[.+?[\\]\\|]\", alliances_field[0][10:])\n",
    "        \n",
    "        # Append the character name to the team key in team_characters\n",
    "        for t in teams:\n",
    "            team_characters[t[2:-1]].append(c[:-4])\n",
    "\n",
    "populate_team_characters('heroes')\n",
    "populate_team_characters('villains')\n",
    "populate_team_characters('ambiguous')"
   ]
  },
  {
   "cell_type": "code",
   "execution_count": 31,
   "metadata": {},
   "outputs": [
    {
     "data": {
      "text/plain": [
       "[('X-Men', 99),\n",
       " ('Avengers (comics)', 89),\n",
       " ('Thunderbolts (comics)', 76),\n",
       " ('Masters of Evil', 75),\n",
       " ('Defenders (comics)', 62),\n",
       " ('S.H.I.E.L.D.', 60),\n",
       " ('Brotherhood of Mutants', 49),\n",
       " ('New Warriors', 44),\n",
       " ('Sinister Six', 44),\n",
       " ('Hellfire Club (comics)', 42)]"
      ]
     },
     "execution_count": 31,
     "metadata": {},
     "output_type": "execute_result"
    }
   ],
   "source": [
    "sorted([(team, len(members)) for team, members in team_characters.items()], key=lambda element: element[1], reverse=True)[:10]"
   ]
  }
 ],
 "metadata": {
  "kernelspec": {
   "display_name": "Python 2",
   "language": "python",
   "name": "python2"
  },
  "language_info": {
   "codemirror_mode": {
    "name": "ipython",
    "version": 2
   },
   "file_extension": ".py",
   "mimetype": "text/x-python",
   "name": "python",
   "nbconvert_exporter": "python",
   "pygments_lexer": "ipython2",
   "version": "2.7.14"
  },
  "nav_menu": {},
  "toc": {
   "navigate_menu": true,
   "number_sections": false,
   "sideBar": true,
   "threshold": 6,
   "toc_cell": false,
   "toc_section_display": "block",
   "toc_window_display": true
  }
 },
 "nbformat": 4,
 "nbformat_minor": 2
}
