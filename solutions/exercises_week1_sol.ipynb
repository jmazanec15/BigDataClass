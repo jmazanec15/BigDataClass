{
 "cells": [
  {
   "cell_type": "markdown",
   "metadata": {},
   "source": [
    "> **Note:** Every week, you will be solving exercises posed in a Jupyter notebook that looks like this one. Because you are cloning a Github repository that only I can push to, you should **NOT EDIT** any of the files you pull from Github. Instead, what you should do, is either make a new notebook and write your solutions in there, or make a copy of this notebook and **save it somewhere else** on your computer, not inside the `computational_analysis_of_big_data_2018_spring` folder that you cloned, so you can write your answers in there. If you edit the notebook you pulled from Github, those edits (possible your solutions to the exercises) may be overwritten and lost the next time you pull from Github. This is important, so don't hesitate to ask if it is unclear."
   ]
  },
  {
   "cell_type": "markdown",
   "metadata": {},
   "source": [
    "# Week 1: Coding with data in Python"
   ]
  },
  {
   "cell_type": "markdown",
   "metadata": {},
   "source": [
    "*Thursday, January 18, 2018*"
   ]
  },
  {
   "cell_type": "markdown",
   "metadata": {
    "ExecuteTime": {
     "end_time": "2017-08-23T15:30:03.634114Z",
     "start_time": "2017-08-23T15:30:03.629294Z"
    }
   },
   "source": [
    "We start out with the basics. The exercises today cover:\n",
    "\n",
    "* Writing Python code and Markdown in Jupyter notebooks\n",
    "* Basic Python functionality\n",
    "* Getting some data from Reddit"
   ]
  },
  {
   "cell_type": "markdown",
   "metadata": {},
   "source": [
    "**Feedback:** If you find errors or have an opinion, positive or negative, about some of the exercises (or the teaching in general) that you would like to voice you can send me anonymous feedback at http://ulfaslak.com/vent."
   ]
  },
  {
   "cell_type": "markdown",
   "metadata": {},
   "source": [
    "## Exercises"
   ]
  },
  {
   "cell_type": "markdown",
   "metadata": {},
   "source": [
    "### Part 1: Know thy notebook"
   ]
  },
  {
   "cell_type": "markdown",
   "metadata": {
    "ExecuteTime": {
     "end_time": "2018-01-16T07:42:48.172973Z",
     "start_time": "2018-01-16T07:42:48.161163Z"
    }
   },
   "source": [
    "This document is what we call a *Jupyter notebook*. We will be using these extensively throughout the course so **READ THIS CLOSELY**. There are two basic things you need to know about Jupyter notebooks:\n",
    "\n",
    "1. A notebook is nothing but a list of cells. A cell can either be a **code cell** or a **Markdown cell**. Code cells are for writing executable code, and Markdown cells (like this one) are for explaining things in text and making your notebook more readable. A typical workflow that you will soon get use to, is something like: solving a problem with some code in a *code cell* and explaining your reasoning or the results you obtained in a *Markdown cell*. You can toggle cell type when you are in *command mode* by pressing <kbd>y</kbd> for code and <kbd>m</kbd> for Markdown. **Try to do that**. Change this Markdown cell to a code cell, and change it back again. What happens if you execute (<kbd>shift</kbd>+<kbd>enter</kbd>) this cell as code cell, compared to when it is a Markdown cell?\n",
    "\n",
    "2. The notebook has two *modes*: **edit mode** and **command mode**. You enter command mode by pressing <kbd>esc</kbd> or clicking outside a cell, and edit mode by clicking a cell and pressing <kbd>enter</kbd> or double clicking a cell. When you're in edit mode, the outline of the current cell turns green and whatever you type into your keyboard goes into that cell, whether it is a code or Markdown cell. When you're in command mode, the outline of the latest edited cell turns blue and your keys become *hotkeys that execute commands*. **Beware of <kbd>x</kbd> and <kbd>d</kbd>**. Read the full list of hotkeys by pressing <kbd>h</kbd> in command mode to figure out why.\n",
    "\n",
    ">*Heads up:* Because we'll be using Jupyter notebooks so much in this course, I strongly recommend investing 5 minutes more than you would normally, playing around with cell types, modes and hotkeys. It will save you heaps of time down the road.\n",
    "\n",
    "When you run a code cell by pressing <kbd>shift</kbd> + <kbd>enter</kbd>, the code gets evaluated by the Python interpreter installed on your computer. The interpreter always returns some output, so unless you store it in a variable, it gets printed below the cell. In general, you will use code cells for doing analysis and working with data.\n",
    "\n",
    "*Markdown* is a simple markup language for formatting text (similar to *HTML* or $\\LaTeX$, which you may know). You will typically use it for writing explanations about how you solve the exercises and the results you get, and styling your notebook with sections and subsections. It can do **bold**, *italics* and $\\LaTeX$ formatting (for equations), and much much more. You can read about the Markdown language [here](http://daringfireball.net/projects/markdown/).\n",
    "\n",
    "Below is your first exercise. The exercise are numbered by the convention `[session]`.`[section]`.`[problem]`.`[subproblem]`. For example, exercise 4.2.3.1 is in week 4, section 2, problem 3, and subproblem 1."
   ]
  },
  {
   "cell_type": "markdown",
   "metadata": {
    "ExecuteTime": {
     "end_time": "2017-08-23T14:01:10.834257Z",
     "start_time": "2017-08-23T14:01:10.826472Z"
    }
   },
   "source": [
    ">**Ex. 1.0.1**: In the Markdown cell below, write a short text that shows that you can:\n",
    ">* Create sections\n",
    ">* Write words in bold and italics\n",
    ">* Write an equation in LateX formatting\n",
    ">* Create bullet lists\n",
    ">* Create [hyperlinks](https://en.wikipedia.org/wiki/Hyperlink)\n",
    "\n",
    ">*Hint: Remember to execute the cell (<kbd>shift</kbd>+<kbd>enter</kbd>) so the Markdown gets rendered.*"
   ]
  },
  {
   "cell_type": "markdown",
   "metadata": {},
   "source": [
    "[Answer to Ex. 1.0.1]"
   ]
  },
  {
   "cell_type": "markdown",
   "metadata": {},
   "source": [
    "### Part 2: Some very basic Python"
   ]
  },
  {
   "cell_type": "markdown",
   "metadata": {},
   "source": [
    "These exercises take you through some very basic Python functionality. Use them to calibrate your expectations: If you find them hard, you should probably invest some more time getting up to speed (see the [preperation goals](https://canvas.disabroad.org/courses/1846/pages/sessions) for today's session). If they're easy enough you have earned yourself a deep sigh of relief."
   ]
  },
  {
   "cell_type": "markdown",
   "metadata": {},
   "source": [
    ">**Ex. 1.1.1**: Create a list `a` that contains the numbers from $1$ to $1110$ (including $1$ and $1110$), incremented by one, using the `range` function."
   ]
  },
  {
   "cell_type": "code",
   "execution_count": 1,
   "metadata": {
    "ExecuteTime": {
     "end_time": "2018-01-16T09:25:56.162842Z",
     "start_time": "2018-01-16T09:25:56.159664Z"
    },
    "collapsed": true,
    "run_control": {
     "frozen": false,
     "read_only": false
    }
   },
   "outputs": [],
   "source": [
    "a = range(1, 1111)"
   ]
  },
  {
   "cell_type": "markdown",
   "metadata": {},
   "source": [
    ">**Ex. 1.1.2**: Show that you understand [slicing](http://stackoverflow.com/questions/509211/explain-pythons-slice-notation) in Python by extracting a list `b` with the numbers from $760$ to $769$ (including both) from the list created above."
   ]
  },
  {
   "cell_type": "code",
   "execution_count": 3,
   "metadata": {
    "ExecuteTime": {
     "end_time": "2018-01-16T09:26:00.571221Z",
     "start_time": "2018-01-16T09:26:00.568028Z"
    },
    "collapsed": true,
    "run_control": {
     "frozen": false,
     "read_only": false
    }
   },
   "outputs": [],
   "source": [
    "b = a[759:769]"
   ]
  },
  {
   "cell_type": "markdown",
   "metadata": {},
   "source": [
    ">**Ex. 1.1.3**: Define a function that takes as input a number $x$ and outputs the number multiplied by itself plus three $f(x) = x(x+3)$. "
   ]
  },
  {
   "cell_type": "code",
   "execution_count": 4,
   "metadata": {
    "ExecuteTime": {
     "end_time": "2018-01-16T09:26:12.273798Z",
     "start_time": "2018-01-16T09:26:12.270647Z"
    },
    "collapsed": true,
    "run_control": {
     "frozen": false,
     "read_only": false
    }
   },
   "outputs": [],
   "source": [
    "def f(x):\n",
    "    return x * (x + 3)"
   ]
  },
  {
   "cell_type": "markdown",
   "metadata": {},
   "source": [
    ">**Ex. 1.1.4**: Apply this function to every element of the list `b` using a `for` loop and append the results to a new list `c`. Print `c`."
   ]
  },
  {
   "cell_type": "code",
   "execution_count": 5,
   "metadata": {
    "ExecuteTime": {
     "end_time": "2018-01-16T09:26:17.660140Z",
     "start_time": "2018-01-16T09:26:17.657057Z"
    },
    "collapsed": true,
    "run_control": {
     "frozen": false,
     "read_only": false
    }
   },
   "outputs": [],
   "source": [
    "c = []\n",
    "for element in b:\n",
    "    c.append(f(element))"
   ]
  },
  {
   "cell_type": "markdown",
   "metadata": {},
   "source": [
    ">**Ex. 1.1.5**: Do the exact same thing using a *list comprehension*."
   ]
  },
  {
   "cell_type": "code",
   "execution_count": 52,
   "metadata": {
    "ExecuteTime": {
     "end_time": "2018-01-16T09:26:23.929545Z",
     "start_time": "2018-01-16T09:26:23.926178Z"
    },
    "collapsed": true,
    "run_control": {
     "frozen": false,
     "read_only": false
    }
   },
   "outputs": [],
   "source": [
    "c = [f(element) for element in b]"
   ]
  },
  {
   "cell_type": "markdown",
   "metadata": {},
   "source": [
    ">**Ex. 1.1.6**: Write the numbers in `c` to a text file with one number per line."
   ]
  },
  {
   "cell_type": "code",
   "execution_count": 68,
   "metadata": {
    "ExecuteTime": {
     "end_time": "2018-01-16T09:26:30.137700Z",
     "start_time": "2018-01-16T09:26:30.134116Z"
    },
    "collapsed": true,
    "run_control": {
     "frozen": false,
     "read_only": false
    }
   },
   "outputs": [],
   "source": [
    "with open(\"c.txt\", 'w') as fp:\n",
    "    for element in c:\n",
    "        fp.write(str(element) + \"\\n\")"
   ]
  },
  {
   "cell_type": "markdown",
   "metadata": {},
   "source": [
    ">**Ex. 1.1.7**: Show that you understand how strings work in Python. You should:\n",
    ">\n",
    ">1. Add a comment above each line of code that explains it.\n",
    ">2. Find all the lines where **a string** is put into a string. How many are there?\n",
    ">3. Explain the difference between `%d`, `%s` and `%r`.\n",
    ">\n",
    ">[Source](https://learnpythonthehardway.org/book/ex6.html)"
   ]
  },
  {
   "cell_type": "code",
   "execution_count": 72,
   "metadata": {},
   "outputs": [],
   "source": [
    "tmp = {1:3, 'a': \"lolz\"}"
   ]
  },
  {
   "cell_type": "code",
   "execution_count": 74,
   "metadata": {},
   "outputs": [],
   "source": [
    "tmpstring = \"%r\" % tmp"
   ]
  },
  {
   "cell_type": "code",
   "execution_count": 76,
   "metadata": {},
   "outputs": [
    {
     "data": {
      "text/plain": [
       "{1: 3, 'a': 'lolz'}"
      ]
     },
     "execution_count": 76,
     "metadata": {},
     "output_type": "execute_result"
    }
   ],
   "source": [
    "eval(tmpstring)"
   ]
  },
  {
   "cell_type": "code",
   "execution_count": 39,
   "metadata": {
    "ExecuteTime": {
     "end_time": "2018-01-16T09:23:15.185631Z",
     "start_time": "2018-01-16T09:23:15.174169Z"
    },
    "run_control": {
     "frozen": false,
     "read_only": false
    }
   },
   "outputs": [
    {
     "name": "stdout",
     "output_type": "stream",
     "text": [
      "There are 10 types of people.\n",
      "Those who know binary and those who don't.\n",
      "I said: 'There are 10 types of people.'.\n",
      "I also said: 'Those who know binary and those who don't.'.\n",
      "Isn't that joke so funny?! False\n",
      "This is the left side of...a string with a right side.\n"
     ]
    }
   ],
   "source": [
    "# This is an example of a comment\n",
    "\n",
    "x = \"There are %d types of people.\" % 10  # Insert integer into string\n",
    "binary = \"binary\"  # Define string variable\n",
    "do_not = \"don't\"  # Define string variable\n",
    "y = \"Those who know %s and those who %s.\" % (binary, do_not)  # Insert both into new string and store as variable\n",
    "\n",
    "# Print strings\n",
    "print x\n",
    "print y\n",
    "\n",
    "print \"I said: %r.\" % x  # Insert string as \"representation\" (see `repr`-function)\n",
    "print \"I also said: '%s'.\" % y  # Produce similar outcome with string insertion\n",
    "\n",
    "hilarious = False  # Define boolean variable\n",
    "joke_evaluation = \"Isn't that joke so funny?! %r\"  # Define string variable with open representation placeholder\n",
    "\n",
    "print joke_evaluation % hilarious  # Insert boolean into string as representation\n",
    "\n",
    "w = \"This is the left side of...\"  # Define string variable\n",
    "e = \"a string with a right side.\"  # Define string variable\n",
    "\n",
    "print w + e  # Concatenate two strings"
   ]
  },
  {
   "cell_type": "markdown",
   "metadata": {},
   "source": [
    "I count 3 places where a string is put into a string"
   ]
  },
  {
   "cell_type": "markdown",
   "metadata": {},
   "source": [
    "**%d**: Placeholder syntax for integers<br>\n",
    "**%s**: Placeholder syntax for strings<br>\n",
    "**%r**: Placeholder syntax for `repr`. Anything you insert into this placeholder will be rendered as a string that can be evaluated by the Python interpreter and executed as code."
   ]
  },
  {
   "cell_type": "markdown",
   "metadata": {},
   "source": [
    "### Part 3: A little bit of real data"
   ]
  },
  {
   "cell_type": "markdown",
   "metadata": {},
   "source": [
    ">**Ex. 1.2.1**: Learn about JSON by reading the **[wikipedia page](https://en.wikipedia.org/wiki/JSON)**. Then answer the following questions in the cell below. \n",
    ">\n",
    ">1. What do the letters stand for?\n",
    ">2. What is `json`?\n",
    ">3. Why is `json` superior to `xml`? (... or why not?)"
   ]
  },
  {
   "cell_type": "markdown",
   "metadata": {},
   "source": [
    "1. JavaScript Object Notation\n",
    "2. It's a highly popular standard for formatting data. \"Objects\" in Javascript are basically like `dict`s in Python, so in Python JSON is also treated as a dictionary-type object, typically with many nested dicts.\n",
    "3. XML can be pretty messy to navigate. JSON is a very clean format which supports some basic powerful operations."
   ]
  },
  {
   "cell_type": "markdown",
   "metadata": {},
   "source": [
    ">**Ex. 1.2.2**: Working with JSON files\n",
    ">1. Use [`requests`](https://www.google.dk/search?q=python+requests+get+json&gws_rd=cr&ei=M5OdWaewD8Ti6AS54J24Bg), or another Python module, to store **[this data](https://www.reddit.com/r/gameofthrones/.json)** in a new variable `data`.\n",
    ">2. What is the [type](https://stackoverflow.com/questions/2225038/determine-the-type-of-an-object) of `data`?"
   ]
  },
  {
   "cell_type": "code",
   "execution_count": 81,
   "metadata": {
    "ExecuteTime": {
     "end_time": "2018-01-16T09:47:12.216802Z",
     "start_time": "2018-01-16T09:47:12.213370Z"
    },
    "collapsed": true,
    "run_control": {
     "frozen": false,
     "read_only": false
    }
   },
   "outputs": [],
   "source": [
    "import requests as rq\n",
    "\n",
    "data = rq.get(\"https://www.reddit.com/r/gameofthrones/.json\", headers={'User-agent': \"mysweeeeetsweetbot\"}).json()"
   ]
  },
  {
   "cell_type": "code",
   "execution_count": 82,
   "metadata": {},
   "outputs": [
    {
     "data": {
      "text/plain": [
       "dict"
      ]
     },
     "execution_count": 82,
     "metadata": {},
     "output_type": "execute_result"
    }
   ],
   "source": [
    "type(data)"
   ]
  },
  {
   "cell_type": "markdown",
   "metadata": {},
   "source": [
    ">**Ex. 1.2.3**: Let's try to inspect the data you retrieved. \n",
    ">\n",
    ">1. Use the `json` module to print your data variable as a string with `indent=4`.\n",
    ">2. The data is a dictionary, a type of Python object that stores data as key-value pairs. Print the keys.\n",
    ">\n",
    ">*Hint: 1. Use the `json` function `dumps`. 2. Call `.keys()` on the variable.*"
   ]
  },
  {
   "cell_type": "code",
   "execution_count": 92,
   "metadata": {
    "ExecuteTime": {
     "end_time": "2018-01-16T09:48:21.903660Z",
     "start_time": "2018-01-16T09:48:21.900453Z"
    },
    "collapsed": true,
    "run_control": {
     "frozen": false,
     "read_only": false
    }
   },
   "outputs": [
    {
     "name": "stdout",
     "output_type": "stream",
     "text": [
      "{\n",
      "    \"data\": {\n",
      "        \"after\": \"t3_7z7l0y\", \n",
      "        \"before\": null, \n",
      "        \"children\": [\n",
      "            {\n",
      "                \"data\": {\n",
      "                    \"approved_at_utc\": null, \n",
      "                    \"approved_by\": null, \n",
      "                    \"archived\": false, \n",
      "                    \"author\": \"AutoModerator\", \n",
      "                    \"author_flair_css_class\": \"101 words\", \n",
      "                    \"author_flair_text\": \"Now My Watch Begins\", \n",
      "                    \"banned_at_utc\": null, \n",
      "                    \"banned_by\": null, \n",
      "                    \"brand_safe\": true, \n",
      "                    \"can_gild\": false, \n",
      "                    \"can_mod_post\": false, \n",
      "                    \"clicked\": false, \n",
      "                    \"contest_mode\": false, \n",
      "                    \"created\": 1519034438.0, \n",
      "                    \"created_utc\": 1519005638.0, \n",
      "                    \"distinguished\": \"moderator\", \n",
      "                    \"domain\": \"self.gameofthrones\", \n",
      "                    \"downs\": 0, \n",
      "                    \"edited\": false, \n",
      "  \n"
     ]
    }
   ],
   "source": [
    "import json\n",
    "\n",
    "print json.dumps(data, indent=4, sort_keys=True)[:1000]"
   ]
  },
  {
   "cell_type": "code",
   "execution_count": 91,
   "metadata": {
    "ExecuteTime": {
     "end_time": "2018-01-16T09:48:24.719596Z",
     "start_time": "2018-01-16T09:48:24.716363Z"
    },
    "collapsed": true,
    "run_control": {
     "frozen": false,
     "read_only": false
    }
   },
   "outputs": [
    {
     "data": {
      "text/plain": [
       "[u'kind', u'data']"
      ]
     },
     "execution_count": 91,
     "metadata": {},
     "output_type": "execute_result"
    }
   ],
   "source": [
    "data.keys()"
   ]
  },
  {
   "cell_type": "markdown",
   "metadata": {},
   "source": [
    ">**Ex. 1.2.4**: The URL reveals that the data is from reddit/r/gameofthrones, but can you recover that information from the data? Give your answer by 'keying' into the JSON data using square brackets.\n",
    "\n",
    ">*Hint: 'Keying' is a word i just made up. By it, I mean the following. Consider a JSON object such as:*\n",
    ">\n",
    ">        my_json_obj = {\n",
    ">            'cats': {\n",
    ">                'awesome': ['Missy'],\n",
    ">                'useless': ['Kim', 'Frank', 'Sandy']\n",
    ">            },\n",
    ">            'dogs': {\n",
    ">                'awesome': ['Finn', 'Dolores', 'Fido', 'Casper'],\n",
    ">                'useless': []\n",
    ">            }\n",
    ">        }\n",
    ">\n",
    ">*I can get the list of useless cats by keying into `my_json_obj` like such:*\n",
    ">\n",
    ">        >>> my_json_obj['cats']['useless']\n",
    ">        Out [ ]: ['Kim', 'Frank', 'Sandy']\n",
    ">\n",
    ">*`my_json_obj['cats']` returns the dictionary `{'awesome': ['Missy'], 'useless': ['Kim', 'Frank', 'Sandy']}` and getting '`useless`' from that eventually gives us `['Kim', 'Frank', 'Sandy']`. If any of those list items were a list of a dictionary themselves, we could have kept keying deeper into the structure.*"
   ]
  },
  {
   "cell_type": "code",
   "execution_count": 116,
   "metadata": {},
   "outputs": [
    {
     "data": {
      "text/plain": [
       "u'gameofthrones'"
      ]
     },
     "execution_count": 116,
     "metadata": {},
     "output_type": "execute_result"
    }
   ],
   "source": [
    "data['data']['children'][10]['data']['subreddit']"
   ]
  },
  {
   "cell_type": "markdown",
   "metadata": {},
   "source": [
    ">**Ex 1.2.5**: Write two `for` loops (or list comprehensions for extra street credits) which:\n",
    ">1. Counts the number of spoilers.\n",
    ">2. Only prints headlines that aren't spoilers."
   ]
  },
  {
   "cell_type": "code",
   "execution_count": 46,
   "metadata": {
    "ExecuteTime": {
     "end_time": "2017-08-26T07:47:28.901787Z",
     "start_time": "2017-08-26T07:47:28.899454Z"
    },
    "collapsed": true,
    "run_control": {
     "frozen": false,
     "read_only": false
    }
   },
   "outputs": [],
   "source": [
    "# [Answer to Ex. 1.2.5.1]"
   ]
  },
  {
   "cell_type": "code",
   "execution_count": 47,
   "metadata": {
    "ExecuteTime": {
     "end_time": "2018-01-16T09:49:13.258888Z",
     "start_time": "2018-01-16T09:49:13.255989Z"
    },
    "collapsed": true,
    "run_control": {
     "frozen": false,
     "read_only": false
    }
   },
   "outputs": [],
   "source": [
    "# [Answer to Ex. 1.2.5.2]"
   ]
  }
 ],
 "metadata": {
  "kernelspec": {
   "display_name": "Python 2",
   "language": "python",
   "name": "python2"
  },
  "language_info": {
   "codemirror_mode": {
    "name": "ipython",
    "version": 2
   },
   "file_extension": ".py",
   "mimetype": "text/x-python",
   "name": "python",
   "nbconvert_exporter": "python",
   "pygments_lexer": "ipython2",
   "version": "2.7.14"
  },
  "nav_menu": {},
  "toc": {
   "navigate_menu": true,
   "number_sections": false,
   "sideBar": true,
   "threshold": 6,
   "toc_cell": false,
   "toc_section_display": "block",
   "toc_window_display": true
  }
 },
 "nbformat": 4,
 "nbformat_minor": 2
}
